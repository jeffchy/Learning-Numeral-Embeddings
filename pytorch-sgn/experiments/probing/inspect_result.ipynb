{
 "cells": [
  {
   "cell_type": "code",
   "execution_count": 57,
   "metadata": {},
   "outputs": [],
   "source": [
    "import glob, re"
   ]
  },
  {
   "cell_type": "code",
   "execution_count": 26,
   "metadata": {},
   "outputs": [],
   "source": [
    "model_dir = 'model_infre_low'"
   ]
  },
  {
   "cell_type": "code",
   "execution_count": 79,
   "metadata": {},
   "outputs": [],
   "source": [
    "def inspect_all(model_dir, model_name, embed_name, date_re='12-3*'):\n",
    "    print('inspecting...start...')\n",
    "    print('inspecting...{}'.format(model_dir))\n",
    "    \n",
    "\n",
    "    res = glob.glob('{}/{}/{}/{}/*.pt'.format(model_dir, model_name, embed_name, date_re))\n",
    "    regex = '/model-(.+).pt'\n",
    "    pattern = re.compile(regex)\n",
    "    res = [re.search(pattern, i)[0] for i in res]\n",
    "    print(res)\n",
    "    print(sorted(res))\n",
    "    \n",
    "    "
   ]
  },
  {
   "cell_type": "code",
   "execution_count": 80,
   "metadata": {},
   "outputs": [
    {
     "data": {
      "text/plain": [
       "['model_infre_low/MLP1Diff',\n",
       " 'model_infre_low/MLP3Diff',\n",
       " 'model_infre_low/BiLinearDiff1',\n",
       " 'model_infre_low/BiLinearDiffH',\n",
       " 'model_infre_low/MLP1Decoding',\n",
       " 'model_infre_low/MLP0Decoding']"
      ]
     },
     "execution_count": 80,
     "metadata": {},
     "output_type": "execute_result"
    }
   ],
   "source": [
    "glob.glob(model_dir+'/*')"
   ]
  },
  {
   "cell_type": "code",
   "execution_count": 81,
   "metadata": {},
   "outputs": [
    {
     "name": "stdout",
     "output_type": "stream",
     "text": [
      "inspecting...start...\n",
      "inspecting...model_infre_low\n",
      "['/model-21770.6791-0.08-50-1.0.pt', '/model-21770.6791-0.08-50-0.5.pt', '/model-1.2362540193452587e+19-1.0-50-1.0.pt', '/model-21821.92925-1.0-50-0.5.pt', '/model-0-3.0-50-1.0.pt', '/model-0-3.0-50-0.5.pt', '/model-0-10.0-50-1.0.pt', '/model-0-10.0-50-0.5.pt', '/model-21803.1871-0.08-50-1.0.pt', '/model-21803.159625-0.08-50-0.5.pt', '/model-21816.37675-1.0-50-1.0.pt', '/model-21803.552075-1.0-50-0.5.pt', '/model-21814.534075-3.0-50-1.0.pt', '/model-21816.46605-3.0-50-0.5.pt', '/model-21803.5162-10.0-50-1.0.pt', '/model-21816.47465-10.0-50-0.5.pt', '/model-21803.15675-0.005-50-1.0.pt', '/model-21803.14825-0.005-50-0.5.pt', '/model-21803.14735-0.02-50-1.0.pt', '/model-21803.13985-0.02-50-0.5.pt', '/model-21803.1661-0.05-50-1.0.pt', '/model-21803.14665-0.05-50-0.5.pt']\n",
      "['/model-0-10.0-50-0.5.pt', '/model-0-10.0-50-1.0.pt', '/model-0-3.0-50-0.5.pt', '/model-0-3.0-50-1.0.pt', '/model-1.2362540193452587e+19-1.0-50-1.0.pt', '/model-21770.6791-0.08-50-0.5.pt', '/model-21770.6791-0.08-50-1.0.pt', '/model-21803.13985-0.02-50-0.5.pt', '/model-21803.14665-0.05-50-0.5.pt', '/model-21803.14735-0.02-50-1.0.pt', '/model-21803.14825-0.005-50-0.5.pt', '/model-21803.15675-0.005-50-1.0.pt', '/model-21803.159625-0.08-50-0.5.pt', '/model-21803.1661-0.05-50-1.0.pt', '/model-21803.1871-0.08-50-1.0.pt', '/model-21803.5162-10.0-50-1.0.pt', '/model-21803.552075-1.0-50-0.5.pt', '/model-21814.534075-3.0-50-1.0.pt', '/model-21816.37675-1.0-50-1.0.pt', '/model-21816.46605-3.0-50-0.5.pt', '/model-21816.47465-10.0-50-0.5.pt', '/model-21821.92925-1.0-50-0.5.pt']\n"
     ]
    }
   ],
   "source": [
    "inspect_all(model_dir, 'MLP3Diff', 'Fixed')"
   ]
  },
  {
   "cell_type": "code",
   "execution_count": null,
   "metadata": {},
   "outputs": [],
   "source": []
  },
  {
   "cell_type": "code",
   "execution_count": null,
   "metadata": {},
   "outputs": [],
   "source": []
  }
 ],
 "metadata": {
  "kernelspec": {
   "display_name": "pytorch1.2",
   "language": "python",
   "name": "pytorch1.2"
  },
  "language_info": {
   "codemirror_mode": {
    "name": "ipython",
    "version": 3
   },
   "file_extension": ".py",
   "mimetype": "text/x-python",
   "name": "python",
   "nbconvert_exporter": "python",
   "pygments_lexer": "ipython3",
   "version": "3.6.6"
  }
 },
 "nbformat": 4,
 "nbformat_minor": 2
}
