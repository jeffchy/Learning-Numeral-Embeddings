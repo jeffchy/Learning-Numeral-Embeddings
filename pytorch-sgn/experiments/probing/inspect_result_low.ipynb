{
 "cells": [
  {
   "cell_type": "code",
   "execution_count": 4,
   "metadata": {},
   "outputs": [],
   "source": [
    "import pickle\n",
    "import torch\n",
    "import sys\n",
    "sys.path.append('../mag_num/')\n",
    "from model import *\n",
    "import numpy as np\n",
    "from MagNumEvaluator import MagNumEvaluator\n",
    "from tqdm import tqdm_notebook\n",
    "from src.model import *\n",
    "from src.dataset import *"
   ]
  },
  {
   "cell_type": "code",
   "execution_count": 115,
   "metadata": {},
   "outputs": [],
   "source": [
    "# path = '../probing/model_infre_low/MLP3Diff/Token/12-30-18-11-19-MLP3/model-1686.52938125-0.08-50-1.0.pt'\n",
    "path = '../probing/model_infre_low/MLP3Diff/p-200/12-30-18-56-42-MLP3/model-20413.11525-0.08-50-1.0.pt'"
   ]
  },
  {
   "cell_type": "code",
   "execution_count": 116,
   "metadata": {},
   "outputs": [],
   "source": [
    "def load_embed(path):\n",
    "    with open(path, 'rb') as f:\n",
    "        embed = pickle.load(f)\n",
    "        return embed\n",
    "\n",
    "def dump_embed(path, obj):\n",
    "    with open(path, 'wb') as f:\n",
    "        pickle.dump(obj, f)"
   ]
  },
  {
   "cell_type": "code",
   "execution_count": 117,
   "metadata": {},
   "outputs": [
    {
     "data": {
      "text/plain": [
       "MLP3Diff(\n",
       "  (embedding): Embedding(2342, 300)\n",
       "  (FC1): Linear(in_features=600, out_features=50, bias=True)\n",
       "  (FC2): Linear(in_features=50, out_features=50, bias=True)\n",
       "  (FC3): Linear(in_features=50, out_features=1, bias=True)\n",
       "  (RELU): ReLU()\n",
       ")"
      ]
     },
     "execution_count": 117,
     "metadata": {},
     "output_type": "execute_result"
    }
   ],
   "source": [
    "# model = MLP3Diff(50, torch.from_numpy(load_embed('embed_infre_low/Token')).float())\n",
    "model = MLP3Diff(50, torch.from_numpy(np.random.rand(2342,300)).float())\n",
    "model.eval()"
   ]
  },
  {
   "cell_type": "code",
   "execution_count": 118,
   "metadata": {},
   "outputs": [],
   "source": [
    "model.load_state_dict(torch.load(path, map_location='cpu'))"
   ]
  },
  {
   "cell_type": "code",
   "execution_count": 119,
   "metadata": {},
   "outputs": [],
   "source": [
    "test_dataset = pickle.load(open('./data/{}.diff.{}pkl'.format('test', 'lownolog.'),'rb'))\n",
    "test_dataset = ProbingListMaxDataset(test_dataset)\n",
    "val_dataset = pickle.load(open('./data/{}.diff.{}pkl'.format('dev', 'lownolog.'),'rb'))\n",
    "val_dataset = ProbingListMaxDataset(val_dataset)"
   ]
  },
  {
   "cell_type": "code",
   "execution_count": 120,
   "metadata": {},
   "outputs": [],
   "source": [
    "def val(model, dataset):\n",
    "\n",
    "    dataLoader = DataLoader(dataset, batch_size=10000, shuffle=True)\n",
    "\n",
    "    criterion = torch.nn.MSELoss()\n",
    "\n",
    "    val_loss = 0\n",
    "\n",
    "    model.eval()\n",
    "    with torch.no_grad():\n",
    "        for batch in dataLoader:\n",
    "            x = torch.stack(batch['input']) # 5 x bz\n",
    "            y = batch['label'].float() # bz\n",
    "\n",
    "            if torch.cuda.is_available():\n",
    "                x = x.cuda()\n",
    "                y = y.cuda()\n",
    "\n",
    "            output = model(x)\n",
    "            diff = output - y\n",
    "            print(\"midian:\", np.median(np.square(diff)))\n",
    "            \n",
    "            loss = criterion(output, y)\n",
    "            val_loss += loss.item()\n",
    "#             print(len(dataLoader))\n",
    "            \n",
    "\n",
    "    val_loss = val_loss / len(dataLoader)\n",
    "\n",
    "    del dataLoader\n",
    "\n",
    "    return val_loss"
   ]
  },
  {
   "cell_type": "code",
   "execution_count": 121,
   "metadata": {},
   "outputs": [
    {
     "name": "stdout",
     "output_type": "stream",
     "text": [
      "midian: 5469955.0\n",
      "midian: 5613114.0\n",
      "midian: 5480575.0\n",
      "midian: 5666049.0\n"
     ]
    },
    {
     "data": {
      "text/plain": [
       "10379972.75"
      ]
     },
     "execution_count": 121,
     "metadata": {},
     "output_type": "execute_result"
    }
   ],
   "source": [
    "val(model, test_dataset)"
   ]
  },
  {
   "cell_type": "code",
   "execution_count": 122,
   "metadata": {},
   "outputs": [
    {
     "data": {
      "text/plain": [
       "869457.03125"
      ]
     },
     "execution_count": 122,
     "metadata": {},
     "output_type": "execute_result"
    }
   ],
   "source": [
    "Token\n",
    "midian: 518789.12\n",
    "midian: 514796.2\n",
    "midian: 532898.94\n",
    "midian: 513214.62\n",
    "869457.03125"
   ]
  },
  {
   "cell_type": "code",
   "execution_count": null,
   "metadata": {},
   "outputs": [],
   "source": [
    "Number\n",
    "midian: 5469955.0\n",
    "midian: 5613114.0\n",
    "midian: 5480575.0\n",
    "midian: 5666049.0\n",
    "10379972.75"
   ]
  },
  {
   "cell_type": "code",
   "execution_count": null,
   "metadata": {},
   "outputs": [],
   "source": []
  }
 ],
 "metadata": {
  "kernelspec": {
   "display_name": "pytorch1.2",
   "language": "python",
   "name": "pytorch1.2"
  },
  "language_info": {
   "codemirror_mode": {
    "name": "ipython",
    "version": 3
   },
   "file_extension": ".py",
   "mimetype": "text/x-python",
   "name": "python",
   "nbconvert_exporter": "python",
   "pygments_lexer": "ipython3",
   "version": "3.6.6"
  }
 },
 "nbformat": 4,
 "nbformat_minor": 2
}
