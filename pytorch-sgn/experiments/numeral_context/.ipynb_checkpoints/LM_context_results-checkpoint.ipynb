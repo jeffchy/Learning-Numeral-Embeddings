{
 "cells": [
  {
   "cell_type": "code",
   "execution_count": 35,
   "metadata": {},
   "outputs": [],
   "source": [
    "import pickle\n",
    "import numpy as np\n",
    "import tqdm\n",
    "import seaborn as sns; sns.set()\n",
    "import matplotlib.pyplot as plt"
   ]
  },
  {
   "cell_type": "code",
   "execution_count": 9,
   "metadata": {},
   "outputs": [],
   "source": [
    "res_path = '../numerate_language_models/experiments/wiki1B/checkpoints/b2_2020_01_17_05_51_24_wiki1B/log_test.txt.results.pkl'\n",
    "results = pickle.load(open(res_path, 'rb'))\n",
    "filtered_dataset = pickle.load(open('../../data/numeral_context/build/data_filtered_1Bnotable.test.rand.pkl','rb'))"
   ]
  },
  {
   "cell_type": "code",
   "execution_count": 30,
   "metadata": {},
   "outputs": [],
   "source": [
    "all_num = [i[0] for i in filtered_dataset]\n",
    "num2idx = {num:idx for idx, num in enumerate(all_num)}\n",
    "all_score = np.zeros((len(all_num), len(all_num)))\n",
    "all_score_adj = np.zeros((len(all_num), len(all_num)))"
   ]
  },
  {
   "cell_type": "code",
   "execution_count": 33,
   "metadata": {},
   "outputs": [
    {
     "data": {
      "application/vnd.jupyter.widget-view+json": {
       "model_id": "e1c65b9b4da84d70845dabff5486e779",
       "version_major": 2,
       "version_minor": 0
      },
      "text/plain": [
       "HBox(children=(IntProgress(value=0, max=6534), HTML(value='')))"
      ]
     },
     "metadata": {},
     "output_type": "display_data"
    },
    {
     "name": "stdout",
     "output_type": "stream",
     "text": [
      "\n"
     ]
    }
   ],
   "source": [
    "for res in tqdm.tqdm_notebook(results):\n",
    "    ids =res[0]\n",
    "    nlls = res[1]\n",
    "    nll_adjs = res[2]\n",
    "    \n",
    "    assert len(ids) == len(nlls)\n",
    "    assert len(ids) == len(nll_adjs)\n",
    "    \n",
    "    L = len(ids)\n",
    "    \n",
    "    for l in range(L):\n",
    "    \n",
    "        splits = ids[l].split(':')\n",
    "        T_num = str(float(splits[1]))\n",
    "        O_num = str(float(splits[3]))\n",
    "        T_num_idx = num2idx[T_num]\n",
    "        O_num_idx = num2idx[O_num]\n",
    "\n",
    "        all_score[O_num_idx, T_num_idx] = nlls[l]\n",
    "        all_score_adj[O_num_idx, T_num_idx] = nll_adjs[l]"
   ]
  },
  {
   "cell_type": "code",
   "execution_count": null,
   "metadata": {},
   "outputs": [],
   "source": []
  }
 ],
 "metadata": {
  "kernelspec": {
   "display_name": "Python 3",
   "language": "python",
   "name": "python3"
  },
  "language_info": {
   "codemirror_mode": {
    "name": "ipython",
    "version": 3
   },
   "file_extension": ".py",
   "mimetype": "text/x-python",
   "name": "python",
   "nbconvert_exporter": "python",
   "pygments_lexer": "ipython3",
   "version": "3.7.3"
  }
 },
 "nbformat": 4,
 "nbformat_minor": 2
}
