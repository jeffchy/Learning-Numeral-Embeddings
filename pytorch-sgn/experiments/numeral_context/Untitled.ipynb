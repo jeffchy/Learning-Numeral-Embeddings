{
 "cells": [
  {
   "cell_type": "code",
   "execution_count": 38,
   "metadata": {},
   "outputs": [],
   "source": [
    "import json\n",
    "import numpy as np\n",
    "import pandas as pd"
   ]
  },
  {
   "cell_type": "code",
   "execution_count": 59,
   "metadata": {},
   "outputs": [],
   "source": [
    "def array(a):\n",
    "    return np.array(a)\n",
    "\n",
    "\n",
    "with open('res_LSTM_test.json','r') as f:\n",
    "    s = f.read()\n",
    "    s = eval(s)"
   ]
  },
  {
   "cell_type": "code",
   "execution_count": 62,
   "metadata": {},
   "outputs": [
    {
     "name": "stdout",
     "output_type": "stream",
     "text": [
      "181.68257756563244\n",
      "6213.810338424821\n",
      "660.4833333333333\n",
      "9015.915242245774\n",
      "0.8092876855938699\n",
      "39050.98299836217\n"
     ]
    }
   ],
   "source": [
    "res = {}\n",
    "v = s\n",
    "# for k, v in s.items():\n",
    "    # print(k)\n",
    "\n",
    "avg_rank = np.array(v['avg_rank'])\n",
    "avg_avg_rank = (np.mean(avg_rank[1:]))\n",
    "print(avg_avg_rank)\n",
    "\n",
    "mae = np.array(v['mae'])\n",
    "avg_mae = (np.mean(mae))\n",
    "print(avg_mae)\n",
    "\n",
    "mdae = np.array(v['mdae'])\n",
    "avg_mdae = (np.mean(mdae))\n",
    "print(avg_mdae)\n",
    "\n",
    "mape = np.array(v['mape'])\n",
    "avg_mape = (np.mean(mape))\n",
    "print(avg_mape)\n",
    "\n",
    "mdape = np.array(v['mdape'])\n",
    "avg_mdape = (np.mean(mdape))\n",
    "print(avg_mdape)\n",
    "\n",
    "RMSE = np.array(v['RMSE'])\n",
    "avg_RMSE = (np.mean(RMSE))\n",
    "print(avg_RMSE)\n",
    "\n",
    "lll = [avg_avg_rank, avg_mae, avg_mdae, avg_mape, avg_mdape, avg_RMSE]\n",
    "res[k] = [round(i, 2) for i in lll]\n",
    "        "
   ]
  },
  {
   "cell_type": "code",
   "execution_count": 63,
   "metadata": {},
   "outputs": [
    {
     "data": {
      "text/html": [
       "<div>\n",
       "<style scoped>\n",
       "    .dataframe tbody tr th:only-of-type {\n",
       "        vertical-align: middle;\n",
       "    }\n",
       "\n",
       "    .dataframe tbody tr th {\n",
       "        vertical-align: top;\n",
       "    }\n",
       "\n",
       "    .dataframe thead th {\n",
       "        text-align: right;\n",
       "    }\n",
       "</style>\n",
       "<table border=\"1\" class=\"dataframe\">\n",
       "  <thead>\n",
       "    <tr style=\"text-align: right;\">\n",
       "      <th></th>\n",
       "      <th>avg_rank</th>\n",
       "      <th>mae</th>\n",
       "      <th>mdae</th>\n",
       "      <th>mape</th>\n",
       "      <th>mdape</th>\n",
       "      <th>RMSE</th>\n",
       "    </tr>\n",
       "  </thead>\n",
       "  <tbody>\n",
       "    <tr>\n",
       "      <th>x</th>\n",
       "      <td>181.68</td>\n",
       "      <td>6213.81</td>\n",
       "      <td>660.48</td>\n",
       "      <td>9015.92</td>\n",
       "      <td>0.81</td>\n",
       "      <td>39050.98</td>\n",
       "    </tr>\n",
       "  </tbody>\n",
       "</table>\n",
       "</div>"
      ],
      "text/plain": [
       "   avg_rank      mae    mdae     mape  mdape      RMSE\n",
       "x    181.68  6213.81  660.48  9015.92   0.81  39050.98"
      ]
     },
     "execution_count": 63,
     "metadata": {},
     "output_type": "execute_result"
    }
   ],
   "source": [
    "pd.DataFrame.from_dict(res, orient='index', columns=['avg_rank', 'mae', 'mdae', 'mape', 'mdape', 'RMSE'])"
   ]
  },
  {
   "cell_type": "code",
   "execution_count": null,
   "metadata": {},
   "outputs": [],
   "source": []
  }
 ],
 "metadata": {
  "kernelspec": {
   "display_name": "Python 3",
   "language": "python",
   "name": "python3"
  }
 },
 "nbformat": 4,
 "nbformat_minor": 2
}
