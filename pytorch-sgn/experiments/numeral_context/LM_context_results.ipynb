{
 "cells": [
  {
   "cell_type": "code",
   "execution_count": 8,
   "metadata": {},
   "outputs": [
    {
     "name": "stdout",
     "output_type": "stream",
     "text": [
      "The autoreload extension is already loaded. To reload it, use:\n",
      "  %reload_ext autoreload\n"
     ]
    }
   ],
   "source": [
    "%load_ext autoreload\n",
    "%autoreload 2\n",
    "import pickle\n",
    "import numpy as np\n",
    "import tqdm\n",
    "import seaborn as sns; sns.set()\n",
    "import matplotlib.pyplot as plt\n",
    "from evaluate_numeral_context_lm import Evaluator"
   ]
  },
  {
   "cell_type": "code",
   "execution_count": 2,
   "metadata": {},
   "outputs": [],
   "source": [
    "res_path = '../numerate_language_models/experiments/wiki1B/checkpoints/b2_2020_01_17_05_51_24_wiki1B/log_test.txt.results.pkl'\n",
    "results = pickle.load(open(res_path, 'rb'))\n",
    "filtered_dataset = pickle.load(open('../../data/numeral_context/build/data_filtered_1Bnotable.test.rand.pkl','rb'))"
   ]
  },
  {
   "cell_type": "code",
   "execution_count": 3,
   "metadata": {},
   "outputs": [],
   "source": [
    "all_num = [i[0] for i in filtered_dataset]\n",
    "num2idx = {num:idx for idx, num in enumerate(all_num)}\n",
    "all_score = np.zeros((len(all_num), len(all_num)))\n",
    "all_score_adj = np.zeros((len(all_num), len(all_num)))"
   ]
  },
  {
   "cell_type": "code",
   "execution_count": 12,
   "metadata": {},
   "outputs": [
    {
     "data": {
      "application/vnd.jupyter.widget-view+json": {
       "model_id": "39c126046a214994ad6430211ad7f6ae",
       "version_major": 2,
       "version_minor": 0
      },
      "text/plain": [
       "HBox(children=(IntProgress(value=0, max=6534), HTML(value='')))"
      ]
     },
     "metadata": {},
     "output_type": "display_data"
    },
    {
     "name": "stdout",
     "output_type": "stream",
     "text": [
      "\n"
     ]
    }
   ],
   "source": [
    "for res in tqdm.tqdm_notebook(results):\n",
    "    ids =res[0]\n",
    "    nlls = res[1]\n",
    "    nll_adjs = res[2]\n",
    "    \n",
    "    assert len(ids) == len(nlls)\n",
    "    assert len(ids) == len(nll_adjs)\n",
    "    \n",
    "    L = len(ids)\n",
    "    \n",
    "    for l in range(L):\n",
    "    \n",
    "        splits = ids[l].split(':')\n",
    "        T_num = str(float(splits[1]))\n",
    "        O_num = str(float(splits[3]))\n",
    "        T_num_idx = num2idx[T_num]\n",
    "        O_num_idx = num2idx[O_num]\n",
    "\n",
    "        all_score[O_num_idx, T_num_idx] = -nlls[l]\n",
    "        all_score_adj[O_num_idx, T_num_idx] = -nll_adjs[l]"
   ]
  },
  {
   "cell_type": "code",
   "execution_count": 13,
   "metadata": {},
   "outputs": [],
   "source": [
    "e1 = Evaluator(filtered_dataset, all_score, all_score_adj)"
   ]
  },
  {
   "cell_type": "code",
   "execution_count": 14,
   "metadata": {},
   "outputs": [
    {
     "data": {
      "text/plain": [
       "{'x': [70, 140, 280, 420, 700, 979],\n",
       " 'topk': array([[0.05      , 0.1       , 0.2       , 0.3       , 0.5       ,\n",
       "         0.69928571],\n",
       "        [0.10214286, 0.19571429, 0.36857143, 0.48714286, 0.61642857,\n",
       "         0.75928571],\n",
       "        [0.10214286, 0.19571429, 0.36857143, 0.48714286, 0.61642857,\n",
       "         0.75928571]]),\n",
       " 'RMSE': array([1.86019223e+12, 1.86019223e+12]),\n",
       " 'mape': array([97.67122956, 97.67122956]),\n",
       " 'mae': array([1.72235284e+11, 1.72235284e+11]),\n",
       " 'mdae': array([890., 890.]),\n",
       " 'mdape': array([0.99365227, 0.99365227]),\n",
       " 'avg_rank': [700.5, 571.3678571428571, 571.3678571428571]}"
      ]
     },
     "execution_count": 14,
     "metadata": {},
     "output_type": "execute_result"
    }
   ],
   "source": [
    "e1.eval_all()"
   ]
  },
  {
   "cell_type": "code",
   "execution_count": null,
   "metadata": {},
   "outputs": [],
   "source": []
  }
 ],
 "metadata": {
  "kernelspec": {
   "display_name": "pytorch1.2",
   "language": "python",
   "name": "pytorch1.2"
  },
  "language_info": {
   "codemirror_mode": {
    "name": "ipython",
    "version": 3
   },
   "file_extension": ".py",
   "mimetype": "text/x-python",
   "name": "python",
   "nbconvert_exporter": "python",
   "pygments_lexer": "ipython3",
   "version": "3.6.6"
  }
 },
 "nbformat": 4,
 "nbformat_minor": 2
}
