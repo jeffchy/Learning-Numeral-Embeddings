{
 "cells": [
  {
   "cell_type": "code",
   "execution_count": 1,
   "metadata": {},
   "outputs": [],
   "source": [
    "%load_ext autoreload\n",
    "%autoreload 2\n",
    "import torch as t\n",
    "import pickle"
   ]
  },
  {
   "cell_type": "code",
   "execution_count": 2,
   "metadata": {},
   "outputs": [],
   "source": [
    "model_dict = t.load('../../../data/wikipedia/save/1B30W/LSTM/sgns_epoch1.pt')"
   ]
  },
  {
   "cell_type": "code",
   "execution_count": 4,
   "metadata": {},
   "outputs": [],
   "source": [
    "digital_RNN_i = t.nn.LSTM(14, 300, 1, batch_first=True)\n",
    "digital_RNN_o = t.nn.LSTM(14, 300, 1, batch_first=True)"
   ]
  },
  {
   "cell_type": "code",
   "execution_count": 12,
   "metadata": {},
   "outputs": [],
   "source": [
    "new_dict = digital_RNN_i.state_dict()\n",
    "new_dict['bias_hh_l0'] = model_dict['embedding.digital_RNN_i.bias_hh_l0']\n",
    "new_dict['bias_ih_l0'] = model_dict['embedding.digital_RNN_i.bias_ih_l0']\n",
    "new_dict['weight_hh_l0'] = model_dict['embedding.digital_RNN_i.weight_hh_l0']\n",
    "new_dict['weight_ih_l0'] = model_dict['embedding.digital_RNN_i.weight_ih_l0']"
   ]
  },
  {
   "cell_type": "code",
   "execution_count": 13,
   "metadata": {},
   "outputs": [],
   "source": [
    "digital_RNN_i.load_state_dict(new_dict)"
   ]
  },
  {
   "cell_type": "code",
   "execution_count": null,
   "metadata": {},
   "outputs": [],
   "source": []
  }
 ],
 "metadata": {
  "kernelspec": {
   "display_name": "Python 3",
   "language": "python",
   "name": "python3"
  },
  "language_info": {
   "codemirror_mode": {
    "name": "ipython",
    "version": 3
   },
   "file_extension": ".py",
   "mimetype": "text/x-python",
   "name": "python",
   "nbconvert_exporter": "python",
   "pygments_lexer": "ipython3",
   "version": "3.6.6"
  }
 },
 "nbformat": 4,
 "nbformat_minor": 2
}
