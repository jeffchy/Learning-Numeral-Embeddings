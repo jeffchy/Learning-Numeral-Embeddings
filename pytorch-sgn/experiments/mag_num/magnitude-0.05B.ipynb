{
 "cells": [
  {
   "cell_type": "code",
   "execution_count": 2,
   "metadata": {},
   "outputs": [
    {
     "name": "stderr",
     "output_type": "stream",
     "text": [
      "/usr/lib/python3.6/importlib/_bootstrap.py:219: RuntimeWarning: numpy.dtype size changed, may indicate binary incompatibility. Expected 96, got 88\n",
      "  return f(*args, **kwds)\n",
      "/usr/lib/python3.6/importlib/_bootstrap.py:219: RuntimeWarning: numpy.dtype size changed, may indicate binary incompatibility. Expected 96, got 88\n",
      "  return f(*args, **kwds)\n"
     ]
    }
   ],
   "source": [
    "%load_ext autoreload\n",
    "%autoreload 2\n",
    "import pickle\n",
    "import numpy as np\n",
    "import pandas as pd\n",
    "import sys\n",
    "import torch as t\n",
    "from tqdm import tqdm_notebook"
   ]
  },
  {
   "cell_type": "code",
   "execution_count": 3,
   "metadata": {},
   "outputs": [],
   "source": [
    "sys.path.append('../numeral_context/')\n",
    "sys.path.append('../../')"
   ]
  },
  {
   "cell_type": "code",
   "execution_count": 4,
   "metadata": {},
   "outputs": [],
   "source": [
    "from evaluate_numeral_context import Evaluator\n",
    "from som.intopolate import weighted_log\n",
    "from utils.number_handler import to_numeral"
   ]
  },
  {
   "cell_type": "code",
   "execution_count": 5,
   "metadata": {},
   "outputs": [],
   "source": [
    "from MagNumEvaluator import MagNumEvaluator"
   ]
  },
  {
   "cell_type": "code",
   "execution_count": 6,
   "metadata": {},
   "outputs": [
    {
     "name": "stdout",
     "output_type": "stream",
     "text": [
      "len of numerals: 2242\n"
     ]
    }
   ],
   "source": [
    "numerals = pickle.load(open('data/numerals_mag_0.05B.pkl','rb'))\n",
    "print('len of numerals: {}'.format(len(numerals)))"
   ]
  },
  {
   "cell_type": "code",
   "execution_count": 7,
   "metadata": {},
   "outputs": [],
   "source": [
    "evaluator = MagNumEvaluator(numerals_dict=numerals, type='MAG')\n",
    "evaluator.set_varbose(False)"
   ]
  },
  {
   "cell_type": "code",
   "execution_count": 8,
   "metadata": {},
   "outputs": [],
   "source": [
    "res_mag = {}"
   ]
  },
  {
   "cell_type": "code",
   "execution_count": 13,
   "metadata": {},
   "outputs": [
    {
     "data": {
      "text/html": [
       "<div>\n",
       "<style scoped>\n",
       "    .dataframe tbody tr th:only-of-type {\n",
       "        vertical-align: middle;\n",
       "    }\n",
       "\n",
       "    .dataframe tbody tr th {\n",
       "        vertical-align: top;\n",
       "    }\n",
       "\n",
       "    .dataframe thead th {\n",
       "        text-align: right;\n",
       "    }\n",
       "</style>\n",
       "<table border=\"1\" class=\"dataframe\">\n",
       "  <thead>\n",
       "    <tr style=\"text-align: right;\">\n",
       "      <th></th>\n",
       "      <th>0</th>\n",
       "      <th>1</th>\n",
       "      <th>2</th>\n",
       "      <th>3</th>\n",
       "    </tr>\n",
       "  </thead>\n",
       "  <tbody>\n",
       "    <tr>\n",
       "      <th>p50</th>\n",
       "      <td>0.433988</td>\n",
       "      <td>0.829616</td>\n",
       "      <td>0.593666</td>\n",
       "      <td>0.999108</td>\n",
       "    </tr>\n",
       "    <tr>\n",
       "      <th>p-log-50</th>\n",
       "      <td>0.433988</td>\n",
       "      <td>0.829616</td>\n",
       "      <td>0.593666</td>\n",
       "      <td>0.999108</td>\n",
       "    </tr>\n",
       "    <tr>\n",
       "      <th>p-log-100</th>\n",
       "      <td>0.416592</td>\n",
       "      <td>0.800178</td>\n",
       "      <td>0.579393</td>\n",
       "      <td>0.999554</td>\n",
       "    </tr>\n",
       "    <tr>\n",
       "      <th>p-log-200</th>\n",
       "      <td>0.384032</td>\n",
       "      <td>0.752453</td>\n",
       "      <td>0.585192</td>\n",
       "      <td>0.994648</td>\n",
       "    </tr>\n",
       "    <tr>\n",
       "      <th>p-log-300</th>\n",
       "      <td>0.392507</td>\n",
       "      <td>0.731936</td>\n",
       "      <td>0.574041</td>\n",
       "      <td>0.987065</td>\n",
       "    </tr>\n",
       "    <tr>\n",
       "      <th>p-log-500</th>\n",
       "      <td>0.379572</td>\n",
       "      <td>0.722123</td>\n",
       "      <td>0.570027</td>\n",
       "      <td>0.997770</td>\n",
       "    </tr>\n",
       "  </tbody>\n",
       "</table>\n",
       "</div>"
      ],
      "text/plain": [
       "                  0         1         2         3\n",
       "p50        0.433988  0.829616  0.593666  0.999108\n",
       "p-log-50   0.433988  0.829616  0.593666  0.999108\n",
       "p-log-100  0.416592  0.800178  0.579393  0.999554\n",
       "p-log-200  0.384032  0.752453  0.585192  0.994648\n",
       "p-log-300  0.392507  0.731936  0.574041  0.987065\n",
       "p-log-500  0.379572  0.722123  0.570027  0.997770"
      ]
     },
     "execution_count": 13,
     "metadata": {},
     "output_type": "execute_result"
    }
   ],
   "source": [
    "pd.DataFrame(res_mag).transpose()"
   ]
  },
  {
   "cell_type": "code",
   "execution_count": 338,
   "metadata": {},
   "outputs": [
    {
     "name": "stdout",
     "output_type": "stream",
     "text": [
      "=== Evaluating Prototype ===\n"
     ]
    }
   ],
   "source": [
    "print('=== Evaluating Prototype ===')\n",
    "prototype_size = ['50', '100', '200', '300', '500']\n",
    "for sz in prototype_size:\n",
    "    trained_prototypes = pickle.load(\n",
    "        open('../../data/wikipedia/save/0.05Bnotable/prototypes/{}/trained_prototypes_epoch5.dat'.format(sz),'rb')) \n",
    "    evaluator.load_prototype(trained_prototypes)\n",
    "    OVA, OVAR, SC, BC = evaluator.evaluate_all()\n",
    "    res_mag['p-{}'.format(sz)] = [OVA, OVAR, SC, BC]"
   ]
  },
  {
   "cell_type": "code",
   "execution_count": 12,
   "metadata": {},
   "outputs": [
    {
     "name": "stdout",
     "output_type": "stream",
     "text": [
      "=== Evaluating Prototype LOG ===\n"
     ]
    }
   ],
   "source": [
    "print('=== Evaluating Prototype LOG ===')\n",
    "prototype_size = ['50', '100', '200', '300', '500']\n",
    "for sz in prototype_size:\n",
    "    trained_prototypes = pickle.load(\n",
    "        open('../../data/wikipedia/save/0.05Bnotable/prototypes_log/{}/trained_prototypes_epoch5_{}_1.0.dat'.format(sz, sz),'rb')) \n",
    "    evaluator.load_prototype(trained_prototypes, log_space=True)\n",
    "    OVA, OVAR, SC, BC = evaluator.evaluate_all()\n",
    "    res_mag['p-log-{}'.format(sz)] = [OVA, OVAR, SC, BC]"
   ]
  },
  {
   "cell_type": "code",
   "execution_count": 339,
   "metadata": {},
   "outputs": [
    {
     "name": "stdout",
     "output_type": "stream",
     "text": [
      "=== Evaluating GMM-RD-SOFT ===\n"
     ]
    }
   ],
   "source": [
    "print('=== Evaluating GMM-RD-SOFT ===')\n",
    "gmms = ['50', '100', '200', '300', '500']\n",
    "for gmm_name in gmms:\n",
    "    trained_prototypes = pickle.load(open('../../data/wikipedia/save/0.05Bnotable/gmm/{}-rd/trained_gmms_epoch5_{}.dat'.format(gmm_name, gmm_name),'rb'))\n",
    "    gmm = pickle.load(open('../../data/wikipedia/preprocess0.05Bnotable/NumeralAsNumeral/gmm/gmm-{}-rd.dat'.format(gmm_name),'rb'))\n",
    "    evaluator.load_GMM(trained_prototypes, gmm)\n",
    "    OVA, OVAR, SC, BC = evaluator.evaluate_all()\n",
    "    res_mag['gmm-rd-soft-{}'.format(gmm_name)] = [OVA, OVAR, SC, BC]"
   ]
  },
  {
   "cell_type": "code",
   "execution_count": 340,
   "metadata": {},
   "outputs": [
    {
     "name": "stdout",
     "output_type": "stream",
     "text": [
      "=== Evaluating GMM-RD-SOFT-LOG ===\n"
     ]
    }
   ],
   "source": [
    "print('=== Evaluating GMM-RD-SOFT-LOG ===')\n",
    "gmms = ['50', '100', '200', '300', '500']\n",
    "for gmm_name in gmms:\n",
    "    trained_prototypes = pickle.load(open('../../data/wikipedia/save/0.05Bnotable/gmm_log/{}-rd-soft/trained_gmms_epoch5_{}.dat'.format(gmm_name, gmm_name),'rb'))\n",
    "    gmm = pickle.load(open('../../data/wikipedia/preprocess0.05Bnotable/NumeralAsNumeral/gmm_log/gmm-{}-rd-soft.dat'.format(gmm_name),'rb'))\n",
    "    evaluator.load_GMM(trained_prototypes, gmm, log_space=True)\n",
    "    OVA, OVAR, SC, BC = evaluator.evaluate_all()\n",
    "    res_mag['gmm-rd-log-soft-{}'.format(gmm_name)] = [OVA, OVAR, SC, BC]"
   ]
  },
  {
   "cell_type": "code",
   "execution_count": 341,
   "metadata": {},
   "outputs": [
    {
     "name": "stdout",
     "output_type": "stream",
     "text": [
      "=== Evaluating GMM-RD-HARD ===\n"
     ]
    }
   ],
   "source": [
    "print('=== Evaluating GMM-RD-HARD ===')\n",
    "gmms = ['50', '100', '200', '300', '500']\n",
    "for gmm_name in gmms:\n",
    "    trained_prototypes = pickle.load(open('../../data/wikipedia/save/0.05Bnotable/gmm/{}-rd-hard/trained_gmms_epoch5_{}.dat'.format(gmm_name, gmm_name),'rb'))\n",
    "    gmm = pickle.load(open('../../data/wikipedia/preprocess0.05Bnotable/NumeralAsNumeral/gmm/gmm-{}-rd-hard.dat'.format(gmm_name),'rb'))\n",
    "    evaluator.load_GMM(trained_prototypes, gmm)\n",
    "    OVA, OVAR, SC, BC = evaluator.evaluate_all()\n",
    "    res_mag['gmm-rd-hard-{}'.format(gmm_name)] = [OVA, OVAR, SC, BC]"
   ]
  },
  {
   "cell_type": "code",
   "execution_count": 342,
   "metadata": {},
   "outputs": [
    {
     "name": "stdout",
     "output_type": "stream",
     "text": [
      "=== Evaluating GMM-RD-HARD-LOG ===\n"
     ]
    }
   ],
   "source": [
    "print('=== Evaluating GMM-RD-HARD-LOG ===')\n",
    "gmms = ['50', '100', '200', '300', '500']\n",
    "for gmm_name in gmms:\n",
    "    trained_prototypes = pickle.load(open('../../data/wikipedia/save/0.05Bnotable/gmm_log/{}-rd-hard/trained_gmms_epoch5_{}.dat'.format(gmm_name, gmm_name),'rb'))\n",
    "    gmm = pickle.load(open('../../data/wikipedia/preprocess0.05Bnotable/NumeralAsNumeral/gmm_log/gmm-{}-rd-hard.dat'.format(gmm_name),'rb'))\n",
    "    evaluator.load_GMM(trained_prototypes, gmm, log_space=True)\n",
    "    OVA, OVAR, SC, BC = evaluator.evaluate_all()\n",
    "    res_mag['gmm-log-rd-hard-{}'.format(gmm_name)] = [OVA, OVAR, SC, BC]"
   ]
  },
  {
   "cell_type": "code",
   "execution_count": 343,
   "metadata": {},
   "outputs": [],
   "source": [
    "# print('=== Evaluating LSTM Baseline ===')\n",
    "# idx2vec_o = pickle.load(open('../../data/wikipedia/save/0.05Bnotable/1/LSTM/idx2vec_o_epoch5.dat','rb'))\n",
    "# idx2vec_i = pickle.load(open('../../data/wikipedia/save/0.05Bnotable/1/LSTM/idx2vec_i_epoch5.dat','rb'))\n",
    "# LSTM_model_path = '../../data/wikipedia/save/0.05Bnotable/1/LSTM/sgns_epoch5.pt'\n",
    "# evaluator.load_LSTM(idx2vec_i, idx2vec_o, LSTM_model_path)\n",
    "# OVA, OVAR, SC, BC = evaluator.evaluate_all()\n",
    "# res_mag['LSTM'] = [OVA, OVAR, SC, BC]"
   ]
  },
  {
   "cell_type": "code",
   "execution_count": 344,
   "metadata": {},
   "outputs": [
    {
     "name": "stdout",
     "output_type": "stream",
     "text": [
      "=== Evaluating Token Baseline ===\n"
     ]
    }
   ],
   "source": [
    "print('=== Evaluating Token Baseline ===')\n",
    "idx2word = pickle.load(open('../../data/wikipedia/preprocess0.05Bnotable/NumeralAsTokenUnkNumeral/idx2word.dat','rb'))\n",
    "word2idx = pickle.load(open('../../data/wikipedia/preprocess0.05Bnotable/NumeralAsTokenUnkNumeral/word2idx.dat','rb'))\n",
    "evaluator.reload(numerals_dict=numerals, idx2word=idx2word, word2idx=word2idx)\n",
    "\n",
    "idx2vec_o = pickle.load(open('../../data/wikipedia/save/0.05Bnotable/1/NumeralAsTokenUnkNumeral/idx2vec_o_epoch5.dat','rb'))\n",
    "idx2vec_i = pickle.load(open('../../data/wikipedia/save/0.05Bnotable/1/NumeralAsTokenUnkNumeral/idx2vec_i_epoch5.dat','rb'))\n",
    "evaluator.load_TOKEN(idx2vec_i=idx2vec_i, idx2vec_o=idx2vec_o)\n",
    "OVA, OVAR, SC, BC = evaluator.evaluate_all()\n",
    "res_mag['TOKEN'] = [OVA, OVAR, SC, BC]"
   ]
  },
  {
   "cell_type": "code",
   "execution_count": 345,
   "metadata": {},
   "outputs": [
    {
     "name": "stdout",
     "output_type": "stream",
     "text": [
      "=== Evaluating Token Baseline ===\n"
     ]
    }
   ],
   "source": [
    "print('=== Evaluating Token Baseline ===')\n",
    "idx2word = pickle.load(open('../../data/wikipedia/preprocess0.05Bnotable/NumeralAsTokenUnkNumeral/idx2word.dat','rb'))\n",
    "word2idx = pickle.load(open('../../data/wikipedia/preprocess0.05Bnotable/NumeralAsTokenUnkNumeral/word2idx.dat','rb'))\n",
    "evaluator.reload(numerals_dict=numerals, idx2word=idx2word, word2idx=word2idx)\n",
    "\n",
    "idx2vec_o = pickle.load(open('../../data/wikipedia/save/0.05Bnotable/1/NumeralAsTokenUnkNumeral/idx2vec_o_epoch5.dat','rb'))\n",
    "idx2vec_i = pickle.load(open('../../data/wikipedia/save/0.05Bnotable/1/NumeralAsTokenUnkNumeral/idx2vec_i_epoch5.dat','rb'))\n",
    "evaluator.load_TOKEN(idx2vec_i=idx2vec_i, idx2vec_o=idx2vec_o)\n",
    "OVA, OVAR, SC, BC = evaluator.evaluate_all()\n",
    "res_mag['TOKEN'] = [OVA, OVAR, SC, BC]"
   ]
  },
  {
   "cell_type": "code",
   "execution_count": 346,
   "metadata": {},
   "outputs": [
    {
     "name": "stdout",
     "output_type": "stream",
     "text": [
      "=== Evaluating Fixed Baseline ===\n"
     ]
    }
   ],
   "source": [
    "print('=== Evaluating Fixed Baseline ===')\n",
    "evaluator.load_fixed(idx2vec_i=idx2vec_i)\n",
    "OVA, OVAR, SC, BC = evaluator.evaluate_all()\n",
    "res_mag['FIXED'] = [OVA, OVAR, SC, BC]"
   ]
  },
  {
   "cell_type": "code",
   "execution_count": null,
   "metadata": {},
   "outputs": [],
   "source": []
  },
  {
   "cell_type": "code",
   "execution_count": null,
   "metadata": {},
   "outputs": [],
   "source": []
  },
  {
   "cell_type": "code",
   "execution_count": null,
   "metadata": {},
   "outputs": [],
   "source": []
  },
  {
   "cell_type": "code",
   "execution_count": null,
   "metadata": {},
   "outputs": [],
   "source": []
  },
  {
   "cell_type": "code",
   "execution_count": null,
   "metadata": {},
   "outputs": [],
   "source": []
  },
  {
   "cell_type": "code",
   "execution_count": null,
   "metadata": {},
   "outputs": [],
   "source": []
  }
 ],
 "metadata": {
  "kernelspec": {
   "display_name": "Python 3",
   "language": "python",
   "name": "python3"
  },
  "language_info": {
   "codemirror_mode": {
    "name": "ipython",
    "version": 3
   },
   "file_extension": ".py",
   "mimetype": "text/x-python",
   "name": "python",
   "nbconvert_exporter": "python",
   "pygments_lexer": "ipython3",
   "version": "3.6.6"
  }
 },
 "nbformat": 4,
 "nbformat_minor": 2
}
