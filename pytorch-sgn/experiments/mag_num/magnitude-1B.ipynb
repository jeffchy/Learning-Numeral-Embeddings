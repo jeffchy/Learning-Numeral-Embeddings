{
 "cells": [
  {
   "cell_type": "code",
   "execution_count": 1,
   "metadata": {},
   "outputs": [
    {
     "name": "stderr",
     "output_type": "stream",
     "text": [
      "/usr/lib/python3.6/importlib/_bootstrap.py:219: RuntimeWarning: numpy.dtype size changed, may indicate binary incompatibility. Expected 96, got 88\n",
      "  return f(*args, **kwds)\n",
      "/usr/lib/python3.6/importlib/_bootstrap.py:219: RuntimeWarning: numpy.dtype size changed, may indicate binary incompatibility. Expected 96, got 88\n",
      "  return f(*args, **kwds)\n"
     ]
    }
   ],
   "source": [
    "%load_ext autoreload\n",
    "%autoreload 2\n",
    "import pickle\n",
    "import numpy as np\n",
    "import pandas as pd\n",
    "import sys\n",
    "import torch as t\n",
    "from tqdm import tqdm_notebook"
   ]
  },
  {
   "cell_type": "code",
   "execution_count": 2,
   "metadata": {},
   "outputs": [],
   "source": [
    "sys.path.append('../numeral_context/')\n",
    "sys.path.append('../../')"
   ]
  },
  {
   "cell_type": "code",
   "execution_count": 3,
   "metadata": {},
   "outputs": [],
   "source": [
    "from evaluate_numeral_context import Evaluator\n",
    "from som.intopolate import weighted_log\n",
    "from utils.number_handler import to_numeral"
   ]
  },
  {
   "cell_type": "code",
   "execution_count": 4,
   "metadata": {},
   "outputs": [],
   "source": [
    "from MagNumEvaluator import MagNumEvaluator"
   ]
  },
  {
   "cell_type": "code",
   "execution_count": 10,
   "metadata": {},
   "outputs": [
    {
     "name": "stdout",
     "output_type": "stream",
     "text": [
      "len of numerals: 2342\n"
     ]
    }
   ],
   "source": [
    "numerals = pickle.load(open('data/numerals_mag_1B.pkl','rb'))\n",
    "print('len of numerals: {}'.format(len(numerals)))"
   ]
  },
  {
   "cell_type": "code",
   "execution_count": 11,
   "metadata": {},
   "outputs": [],
   "source": [
    "evaluator = MagNumEvaluator(numerals_dict=numerals, type='MAG')\n",
    "evaluator.set_varbose(False)"
   ]
  },
  {
   "cell_type": "code",
   "execution_count": 12,
   "metadata": {},
   "outputs": [],
   "source": [
    "res_mag = {}"
   ]
  },
  {
   "cell_type": "code",
   "execution_count": 36,
   "metadata": {},
   "outputs": [
    {
     "data": {
      "text/html": [
       "<div>\n",
       "<style scoped>\n",
       "    .dataframe tbody tr th:only-of-type {\n",
       "        vertical-align: middle;\n",
       "    }\n",
       "\n",
       "    .dataframe tbody tr th {\n",
       "        vertical-align: top;\n",
       "    }\n",
       "\n",
       "    .dataframe thead th {\n",
       "        text-align: right;\n",
       "    }\n",
       "</style>\n",
       "<table border=\"1\" class=\"dataframe\">\n",
       "  <thead>\n",
       "    <tr style=\"text-align: right;\">\n",
       "      <th></th>\n",
       "      <th>0</th>\n",
       "      <th>1</th>\n",
       "      <th>2</th>\n",
       "      <th>3</th>\n",
       "    </tr>\n",
       "  </thead>\n",
       "  <tbody>\n",
       "    <tr>\n",
       "      <th>p2</th>\n",
       "      <td>0.384714</td>\n",
       "      <td>0.734415</td>\n",
       "      <td>0.555508</td>\n",
       "      <td>0.998719</td>\n",
       "    </tr>\n",
       "    <tr>\n",
       "      <th>p3</th>\n",
       "      <td>0.362938</td>\n",
       "      <td>0.696413</td>\n",
       "      <td>0.547822</td>\n",
       "      <td>0.999146</td>\n",
       "    </tr>\n",
       "    <tr>\n",
       "      <th>p5</th>\n",
       "      <td>0.358241</td>\n",
       "      <td>0.675491</td>\n",
       "      <td>0.562767</td>\n",
       "      <td>0.996157</td>\n",
       "    </tr>\n",
       "    <tr>\n",
       "      <th>gmm-rd-soft-300</th>\n",
       "      <td>0.523057</td>\n",
       "      <td>0.926132</td>\n",
       "      <td>0.564902</td>\n",
       "      <td>0.993168</td>\n",
       "    </tr>\n",
       "    <tr>\n",
       "      <th>gmm-rd-soft-500</th>\n",
       "      <td>0.534159</td>\n",
       "      <td>0.931255</td>\n",
       "      <td>0.559778</td>\n",
       "      <td>0.989325</td>\n",
       "    </tr>\n",
       "    <tr>\n",
       "      <th>gmm-rd-hard-300</th>\n",
       "      <td>0.455167</td>\n",
       "      <td>0.771563</td>\n",
       "      <td>0.571734</td>\n",
       "      <td>0.992741</td>\n",
       "    </tr>\n",
       "    <tr>\n",
       "      <th>gmm-rd-hard-500</th>\n",
       "      <td>0.478651</td>\n",
       "      <td>0.774552</td>\n",
       "      <td>0.551665</td>\n",
       "      <td>0.989752</td>\n",
       "    </tr>\n",
       "    <tr>\n",
       "      <th>gmm-log-rd-soft-300</th>\n",
       "      <td>0.509394</td>\n",
       "      <td>0.970965</td>\n",
       "      <td>0.586251</td>\n",
       "      <td>1.000000</td>\n",
       "    </tr>\n",
       "    <tr>\n",
       "      <th>gmm-log-rd-soft-500</th>\n",
       "      <td>0.482921</td>\n",
       "      <td>0.970111</td>\n",
       "      <td>0.611016</td>\n",
       "      <td>1.000000</td>\n",
       "    </tr>\n",
       "    <tr>\n",
       "      <th>gmm-log-rd-hard-300</th>\n",
       "      <td>0.589240</td>\n",
       "      <td>0.932963</td>\n",
       "      <td>0.498719</td>\n",
       "      <td>1.000000</td>\n",
       "    </tr>\n",
       "    <tr>\n",
       "      <th>gmm-log-rd-hard-500</th>\n",
       "      <td>0.618275</td>\n",
       "      <td>0.883433</td>\n",
       "      <td>0.450043</td>\n",
       "      <td>1.000000</td>\n",
       "    </tr>\n",
       "    <tr>\n",
       "      <th>LSTM</th>\n",
       "      <td>0.079846</td>\n",
       "      <td>0.138343</td>\n",
       "      <td>0.515798</td>\n",
       "      <td>0.970538</td>\n",
       "    </tr>\n",
       "    <tr>\n",
       "      <th>TOKEN</th>\n",
       "      <td>0.108881</td>\n",
       "      <td>0.191289</td>\n",
       "      <td>0.510248</td>\n",
       "      <td>0.959863</td>\n",
       "    </tr>\n",
       "    <tr>\n",
       "      <th>p-log-2</th>\n",
       "      <td>0.353117</td>\n",
       "      <td>0.909906</td>\n",
       "      <td>0.718617</td>\n",
       "      <td>0.994022</td>\n",
       "    </tr>\n",
       "    <tr>\n",
       "      <th>p-log-3</th>\n",
       "      <td>0.364646</td>\n",
       "      <td>0.896243</td>\n",
       "      <td>0.693424</td>\n",
       "      <td>0.982921</td>\n",
       "    </tr>\n",
       "    <tr>\n",
       "      <th>p-log-5</th>\n",
       "      <td>0.385568</td>\n",
       "      <td>0.888984</td>\n",
       "      <td>0.661827</td>\n",
       "      <td>0.983348</td>\n",
       "    </tr>\n",
       "    <tr>\n",
       "      <th>FIXED</th>\n",
       "      <td>0.291631</td>\n",
       "      <td>0.979932</td>\n",
       "      <td>0.782237</td>\n",
       "      <td>1.000000</td>\n",
       "    </tr>\n",
       "  </tbody>\n",
       "</table>\n",
       "</div>"
      ],
      "text/plain": [
       "                            0         1         2         3\n",
       "p2                   0.384714  0.734415  0.555508  0.998719\n",
       "p3                   0.362938  0.696413  0.547822  0.999146\n",
       "p5                   0.358241  0.675491  0.562767  0.996157\n",
       "gmm-rd-soft-300      0.523057  0.926132  0.564902  0.993168\n",
       "gmm-rd-soft-500      0.534159  0.931255  0.559778  0.989325\n",
       "gmm-rd-hard-300      0.455167  0.771563  0.571734  0.992741\n",
       "gmm-rd-hard-500      0.478651  0.774552  0.551665  0.989752\n",
       "gmm-log-rd-soft-300  0.509394  0.970965  0.586251  1.000000\n",
       "gmm-log-rd-soft-500  0.482921  0.970111  0.611016  1.000000\n",
       "gmm-log-rd-hard-300  0.589240  0.932963  0.498719  1.000000\n",
       "gmm-log-rd-hard-500  0.618275  0.883433  0.450043  1.000000\n",
       "LSTM                 0.079846  0.138343  0.515798  0.970538\n",
       "TOKEN                0.108881  0.191289  0.510248  0.959863\n",
       "p-log-2              0.353117  0.909906  0.718617  0.994022\n",
       "p-log-3              0.364646  0.896243  0.693424  0.982921\n",
       "p-log-5              0.385568  0.888984  0.661827  0.983348\n",
       "FIXED                0.291631  0.979932  0.782237  1.000000"
      ]
     },
     "execution_count": 36,
     "metadata": {},
     "output_type": "execute_result"
    }
   ],
   "source": [
    "pd.DataFrame(res_mag).transpose()"
   ]
  },
  {
   "cell_type": "code",
   "execution_count": 16,
   "metadata": {},
   "outputs": [
    {
     "name": "stdout",
     "output_type": "stream",
     "text": [
      "=== Evaluating Prototype ===\n"
     ]
    }
   ],
   "source": [
    "print('=== Evaluating Prototype ===')\n",
    "prototype_size = ['2', '3', '5']\n",
    "for sz in prototype_size:\n",
    "    trained_prototypes = pickle.load(\n",
    "        open('../../data/wikipedia/save/1B30W/prototypes/{}-0005/trained_prototypes_epoch1_{}00_1.0.dat'.format(sz, sz),'rb')) \n",
    "    evaluator.load_prototype(trained_prototypes)\n",
    "    OVA, OVAR, SC, BC = evaluator.evaluate_all()\n",
    "    res_mag['p-{}'.format(sz)] = [OVA, OVAR, SC, BC]"
   ]
  },
  {
   "cell_type": "code",
   "execution_count": 33,
   "metadata": {},
   "outputs": [
    {
     "name": "stdout",
     "output_type": "stream",
     "text": [
      "=== Evaluating Prototype LOG ===\n"
     ]
    }
   ],
   "source": [
    "print('=== Evaluating Prototype LOG ===')\n",
    "prototype_size = ['2', '3', '5']\n",
    "for sz in prototype_size:\n",
    "    trained_prototypes = pickle.load(\n",
    "        open('../../data/wikipedia/save/1B30W/prototypes_log/{}-0005/trained_prototypes_epoch1_{}00_1.0.dat'.format(sz, sz),'rb')) \n",
    "    evaluator.load_prototype(trained_prototypes)\n",
    "    OVA, OVAR, SC, BC = evaluator.evaluate_all()\n",
    "    res_mag['p-log-{}'.format(sz)] = [OVA, OVAR, SC, BC]"
   ]
  },
  {
   "cell_type": "code",
   "execution_count": 19,
   "metadata": {},
   "outputs": [
    {
     "name": "stdout",
     "output_type": "stream",
     "text": [
      "=== Evaluating GMM-RD-SOFT ===\n"
     ]
    }
   ],
   "source": [
    "print('=== Evaluating GMM-RD-SOFT ===')\n",
    "gmms = ['300', '500']\n",
    "for gmm_name in gmms:\n",
    "    trained_prototypes = pickle.load(open('../../data/wikipedia/save/1B30W/gmms/gmm-{}-rd-soft/trained_gmms_epoch1_{}.dat'.format(gmm_name, gmm_name),'rb'))\n",
    "    gmm = pickle.load(open('../../data/wikipedia/preprocess1B/NumeralAsNumeral30W/gmm/gmm-{}-rd-soft.dat'.format(gmm_name),'rb'))\n",
    "    evaluator.load_GMM(trained_prototypes, gmm)\n",
    "    OVA, OVAR, SC, BC = evaluator.evaluate_all()\n",
    "    res_mag['gmm-rd-soft-{}'.format(gmm_name)] = [OVA, OVAR, SC, BC]"
   ]
  },
  {
   "cell_type": "code",
   "execution_count": 26,
   "metadata": {},
   "outputs": [
    {
     "name": "stdout",
     "output_type": "stream",
     "text": [
      "=== Evaluating GMM-RD-SOFT-LOG ===\n"
     ]
    }
   ],
   "source": [
    "print('=== Evaluating GMM-RD-SOFT-LOG ===')\n",
    "gmms = ['300', '500']\n",
    "for gmm_name in gmms:\n",
    "    trained_prototypes = pickle.load(open('../../data/wikipedia/save/1B30W/gmms_log/gmm-{}-rd-soft/trained_gmms_epoch1_{}.dat'.format(gmm_name, gmm_name),'rb'))\n",
    "    gmm = pickle.load(open('../../data/wikipedia/preprocess1B/NumeralAsNumeral30W/gmm_log/gmm-{}-rd-soft.dat'.format(gmm_name),'rb'))\n",
    "    evaluator.load_GMM(trained_prototypes, gmm, log_space=True)\n",
    "    OVA, OVAR, SC, BC = evaluator.evaluate_all()\n",
    "    res_mag['gmm-log-rd-soft-{}'.format(gmm_name)] = [OVA, OVAR, SC, BC]"
   ]
  },
  {
   "cell_type": "code",
   "execution_count": 21,
   "metadata": {},
   "outputs": [
    {
     "name": "stdout",
     "output_type": "stream",
     "text": [
      "=== Evaluating GMM-RD-HARD ===\n"
     ]
    }
   ],
   "source": [
    "print('=== Evaluating GMM-RD-HARD ===')\n",
    "gmms = ['300', '500']\n",
    "for gmm_name in gmms:\n",
    "    trained_prototypes = pickle.load(open('../../data/wikipedia/save/1B30W/gmms/gmm-{}-rd-hard/trained_gmms_epoch1_{}.dat'.format(gmm_name, gmm_name),'rb'))\n",
    "    gmm = pickle.load(open('../../data/wikipedia/preprocess1B/NumeralAsNumeral30W/gmm/gmm-{}-rd-hard.dat'.format(gmm_name),'rb'))\n",
    "    evaluator.load_GMM(trained_prototypes, gmm,)\n",
    "    OVA, OVAR, SC, BC = evaluator.evaluate_all()\n",
    "    res_mag['gmm-rd-hard-{}'.format(gmm_name)] = [OVA, OVAR, SC, BC]"
   ]
  },
  {
   "cell_type": "code",
   "execution_count": 27,
   "metadata": {},
   "outputs": [
    {
     "name": "stdout",
     "output_type": "stream",
     "text": [
      "=== Evaluating GMM-RD-HARD-LOG ===\n"
     ]
    }
   ],
   "source": [
    "print('=== Evaluating GMM-RD-HARD-LOG ===')\n",
    "gmms = ['300', '500']\n",
    "for gmm_name in gmms:\n",
    "    trained_prototypes = pickle.load(open('../../data/wikipedia/save/1B30W/gmms_log/gmm-{}-rd-hard/trained_gmms_epoch1_{}.dat'.format(gmm_name, gmm_name),'rb'))\n",
    "    gmm = pickle.load(open('../../data/wikipedia/preprocess1B/NumeralAsNumeral30W/gmm_log/gmm-{}-rd-hard.dat'.format(gmm_name),'rb'))\n",
    "    evaluator.load_GMM(trained_prototypes, gmm, log_space=True)\n",
    "    OVA, OVAR, SC, BC = evaluator.evaluate_all()\n",
    "    res_mag['gmm-log-rd-hard-{}'.format(gmm_name)] = [OVA, OVAR, SC, BC]"
   ]
  },
  {
   "cell_type": "code",
   "execution_count": 30,
   "metadata": {},
   "outputs": [
    {
     "name": "stdout",
     "output_type": "stream",
     "text": [
      "=== Evaluating LSTM Baseline ===\n"
     ]
    }
   ],
   "source": [
    "print('=== Evaluating LSTM Baseline ===')\n",
    "idx2vec_o = pickle.load(open('../../data/wikipedia/save/1B30W/LSTM/idx2vec_o_epoch1.dat','rb'))\n",
    "idx2vec_i = pickle.load(open('../../data/wikipedia/save/1B30W/LSTM/idx2vec_i_epoch1.dat','rb'))\n",
    "LSTM_model_path = '../../data/wikipedia/save/1B30W/LSTM/sgns_epoch1.pt'\n",
    "evaluator.load_LSTM(idx2vec_i, idx2vec_o, LSTM_model_path)\n",
    "OVA, OVAR, SC, BC = evaluator.evaluate_all()\n",
    "res_mag['LSTM'] = [OVA, OVAR, SC, BC]"
   ]
  },
  {
   "cell_type": "code",
   "execution_count": 32,
   "metadata": {},
   "outputs": [
    {
     "name": "stdout",
     "output_type": "stream",
     "text": [
      "=== Evaluating Token Baseline ===\n"
     ]
    }
   ],
   "source": [
    "print('=== Evaluating Token Baseline ===')\n",
    "idx2word = pickle.load(open('../../data/wikipedia/preprocess1B/NumeralAsTokenUnkNumeral30W/idx2word.dat','rb'))\n",
    "word2idx = pickle.load(open('../../data/wikipedia/preprocess1B/NumeralAsTokenUnkNumeral30W/word2idx.dat','rb'))\n",
    "evaluator.reload(numerals_dict=numerals, idx2word=idx2word, word2idx=word2idx)\n",
    "\n",
    "idx2vec_o = pickle.load(open('../../data/wikipedia/save/1B30W/token/idx2vec_o_epoch1.dat','rb'))\n",
    "idx2vec_i = pickle.load(open('../../data/wikipedia/save/1B30W/token/idx2vec_i_epoch1.dat','rb'))\n",
    "evaluator.load_TOKEN(idx2vec_i=idx2vec_i, idx2vec_o=idx2vec_o)\n",
    "OVA, OVAR, SC, BC = evaluator.evaluate_all()\n",
    "res_mag['TOKEN'] = [OVA, OVAR, SC, BC]"
   ]
  },
  {
   "cell_type": "code",
   "execution_count": 35,
   "metadata": {},
   "outputs": [
    {
     "name": "stdout",
     "output_type": "stream",
     "text": [
      "=== Evaluating Fixed Baseline ===\n"
     ]
    }
   ],
   "source": [
    "print('=== Evaluating Fixed Baseline ===')\n",
    "evaluator.load_fixed(idx2vec_i=idx2vec_i)\n",
    "OVA, OVAR, SC, BC = evaluator.evaluate_all()\n",
    "res_mag['FIXED'] = [OVA, OVAR, SC, BC]"
   ]
  },
  {
   "cell_type": "code",
   "execution_count": null,
   "metadata": {},
   "outputs": [],
   "source": []
  }
 ],
 "metadata": {
  "kernelspec": {
   "display_name": "Python 3",
   "language": "python",
   "name": "python3"
  },
  "language_info": {
   "codemirror_mode": {
    "name": "ipython",
    "version": 3
   },
   "file_extension": ".py",
   "mimetype": "text/x-python",
   "name": "python",
   "nbconvert_exporter": "python",
   "pygments_lexer": "ipython3",
   "version": "3.6.6"
  }
 },
 "nbformat": 4,
 "nbformat_minor": 2
}
