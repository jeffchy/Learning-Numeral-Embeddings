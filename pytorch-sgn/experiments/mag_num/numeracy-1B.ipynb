{
 "cells": [
  {
   "cell_type": "code",
   "execution_count": 26,
   "metadata": {},
   "outputs": [],
   "source": [
    "%load_ext autoreload\n",
    "%autoreload 2"
   ]
  },
  {
   "cell_type": "code",
   "execution_count": 2,
   "metadata": {},
   "outputs": [
    {
     "name": "stderr",
     "output_type": "stream",
     "text": [
      "/usr/lib/python3.6/importlib/_bootstrap.py:219: RuntimeWarning: numpy.dtype size changed, may indicate binary incompatibility. Expected 96, got 88\n",
      "  return f(*args, **kwds)\n",
      "/usr/lib/python3.6/importlib/_bootstrap.py:219: RuntimeWarning: numpy.dtype size changed, may indicate binary incompatibility. Expected 96, got 88\n",
      "  return f(*args, **kwds)\n"
     ]
    }
   ],
   "source": [
    "from MagNumEvaluator import MagNumEvaluator\n",
    "from tqdm import tqdm_notebook\n",
    "import pickle\n",
    "import pandas as pd"
   ]
  },
  {
   "cell_type": "code",
   "execution_count": 6,
   "metadata": {},
   "outputs": [],
   "source": [
    "from mag_num_utils import detect_number"
   ]
  },
  {
   "cell_type": "code",
   "execution_count": 38,
   "metadata": {},
   "outputs": [],
   "source": [
    "nc = pickle.load(open('../../data/wikipedia/preprocess1B/NumeralAsNumeral30W/nc.dat','rb'))\n",
    "idx2word = pickle.load(open('../../data/wikipedia/preprocess1B/NumeralAsNumeral30W/idx2word.dat','rb'))\n",
    "wc = pickle.load(open('../../data/wikipedia/preprocess1B/NumeralAsNumeral30W/wc.dat','rb'))\n",
    "word2idx = pickle.load(open('../../data/wikipedia/preprocess1B/NumeralAsNumeral30W/word2idx.dat','rb'))"
   ]
  },
  {
   "cell_type": "code",
   "execution_count": 7,
   "metadata": {},
   "outputs": [],
   "source": [
    "out_dicts = pickle.load(open('data/numerals_dict_num_1B.pkl', 'rb'))"
   ]
  },
  {
   "cell_type": "code",
   "execution_count": 22,
   "metadata": {},
   "outputs": [],
   "source": [
    "evaluator = MagNumEvaluator(numerals_dict=out_dicts, type='NUM')"
   ]
  },
  {
   "cell_type": "code",
   "execution_count": 9,
   "metadata": {},
   "outputs": [],
   "source": [
    "res_num = {}"
   ]
  },
  {
   "cell_type": "code",
   "execution_count": 41,
   "metadata": {},
   "outputs": [
    {
     "data": {
      "text/html": [
       "<div>\n",
       "<style scoped>\n",
       "    .dataframe tbody tr th:only-of-type {\n",
       "        vertical-align: middle;\n",
       "    }\n",
       "\n",
       "    .dataframe tbody tr th {\n",
       "        vertical-align: top;\n",
       "    }\n",
       "\n",
       "    .dataframe thead th {\n",
       "        text-align: right;\n",
       "    }\n",
       "</style>\n",
       "<table border=\"1\" class=\"dataframe\">\n",
       "  <thead>\n",
       "    <tr style=\"text-align: right;\">\n",
       "      <th></th>\n",
       "      <th>0</th>\n",
       "      <th>1</th>\n",
       "      <th>2</th>\n",
       "      <th>3</th>\n",
       "    </tr>\n",
       "  </thead>\n",
       "  <tbody>\n",
       "    <tr>\n",
       "      <th>p-2</th>\n",
       "      <td>0.026549</td>\n",
       "      <td>0.044248</td>\n",
       "      <td>0.610619</td>\n",
       "      <td>1.000000</td>\n",
       "    </tr>\n",
       "    <tr>\n",
       "      <th>p-3</th>\n",
       "      <td>0.017699</td>\n",
       "      <td>0.053097</td>\n",
       "      <td>0.628319</td>\n",
       "      <td>1.000000</td>\n",
       "    </tr>\n",
       "    <tr>\n",
       "      <th>p-5</th>\n",
       "      <td>0.035398</td>\n",
       "      <td>0.035398</td>\n",
       "      <td>0.557522</td>\n",
       "      <td>1.000000</td>\n",
       "    </tr>\n",
       "    <tr>\n",
       "      <th>p-log-2</th>\n",
       "      <td>0.035398</td>\n",
       "      <td>0.053097</td>\n",
       "      <td>0.646018</td>\n",
       "      <td>0.982301</td>\n",
       "    </tr>\n",
       "    <tr>\n",
       "      <th>p-log-3</th>\n",
       "      <td>0.000000</td>\n",
       "      <td>0.053097</td>\n",
       "      <td>0.601770</td>\n",
       "      <td>0.991150</td>\n",
       "    </tr>\n",
       "    <tr>\n",
       "      <th>p-log-5</th>\n",
       "      <td>0.000000</td>\n",
       "      <td>0.035398</td>\n",
       "      <td>0.557522</td>\n",
       "      <td>0.991150</td>\n",
       "    </tr>\n",
       "    <tr>\n",
       "      <th>gmm-rd-soft-300</th>\n",
       "      <td>0.008850</td>\n",
       "      <td>0.017699</td>\n",
       "      <td>0.592920</td>\n",
       "      <td>1.000000</td>\n",
       "    </tr>\n",
       "    <tr>\n",
       "      <th>gmm-rd-soft-500</th>\n",
       "      <td>0.017699</td>\n",
       "      <td>0.026549</td>\n",
       "      <td>0.654867</td>\n",
       "      <td>1.000000</td>\n",
       "    </tr>\n",
       "    <tr>\n",
       "      <th>gmm-log-rd-soft-300</th>\n",
       "      <td>0.017699</td>\n",
       "      <td>0.061947</td>\n",
       "      <td>0.548673</td>\n",
       "      <td>1.000000</td>\n",
       "    </tr>\n",
       "    <tr>\n",
       "      <th>gmm-log-rd-soft-500</th>\n",
       "      <td>0.026549</td>\n",
       "      <td>0.061947</td>\n",
       "      <td>0.548673</td>\n",
       "      <td>1.000000</td>\n",
       "    </tr>\n",
       "    <tr>\n",
       "      <th>gmm-rd-hard-300</th>\n",
       "      <td>0.035398</td>\n",
       "      <td>0.061947</td>\n",
       "      <td>0.601770</td>\n",
       "      <td>1.000000</td>\n",
       "    </tr>\n",
       "    <tr>\n",
       "      <th>gmm-rd-hard-500</th>\n",
       "      <td>0.026549</td>\n",
       "      <td>0.035398</td>\n",
       "      <td>0.628319</td>\n",
       "      <td>1.000000</td>\n",
       "    </tr>\n",
       "    <tr>\n",
       "      <th>gmm-log-rd-hard-300</th>\n",
       "      <td>0.026549</td>\n",
       "      <td>0.044248</td>\n",
       "      <td>0.557522</td>\n",
       "      <td>1.000000</td>\n",
       "    </tr>\n",
       "    <tr>\n",
       "      <th>gmm-log-rd-hard-500</th>\n",
       "      <td>0.017699</td>\n",
       "      <td>0.044248</td>\n",
       "      <td>0.548673</td>\n",
       "      <td>1.000000</td>\n",
       "    </tr>\n",
       "    <tr>\n",
       "      <th>LSTM</th>\n",
       "      <td>0.008850</td>\n",
       "      <td>0.026549</td>\n",
       "      <td>0.530973</td>\n",
       "      <td>0.292035</td>\n",
       "    </tr>\n",
       "    <tr>\n",
       "      <th>FIXED</th>\n",
       "      <td>0.008850</td>\n",
       "      <td>0.017699</td>\n",
       "      <td>0.495575</td>\n",
       "      <td>0.991150</td>\n",
       "    </tr>\n",
       "    <tr>\n",
       "      <th>TOKEN</th>\n",
       "      <td>0.061947</td>\n",
       "      <td>0.079646</td>\n",
       "      <td>0.619469</td>\n",
       "      <td>0.991150</td>\n",
       "    </tr>\n",
       "  </tbody>\n",
       "</table>\n",
       "</div>"
      ],
      "text/plain": [
       "                            0         1         2         3\n",
       "p-2                  0.026549  0.044248  0.610619  1.000000\n",
       "p-3                  0.017699  0.053097  0.628319  1.000000\n",
       "p-5                  0.035398  0.035398  0.557522  1.000000\n",
       "p-log-2              0.035398  0.053097  0.646018  0.982301\n",
       "p-log-3              0.000000  0.053097  0.601770  0.991150\n",
       "p-log-5              0.000000  0.035398  0.557522  0.991150\n",
       "gmm-rd-soft-300      0.008850  0.017699  0.592920  1.000000\n",
       "gmm-rd-soft-500      0.017699  0.026549  0.654867  1.000000\n",
       "gmm-log-rd-soft-300  0.017699  0.061947  0.548673  1.000000\n",
       "gmm-log-rd-soft-500  0.026549  0.061947  0.548673  1.000000\n",
       "gmm-rd-hard-300      0.035398  0.061947  0.601770  1.000000\n",
       "gmm-rd-hard-500      0.026549  0.035398  0.628319  1.000000\n",
       "gmm-log-rd-hard-300  0.026549  0.044248  0.557522  1.000000\n",
       "gmm-log-rd-hard-500  0.017699  0.044248  0.548673  1.000000\n",
       "LSTM                 0.008850  0.026549  0.530973  0.292035\n",
       "FIXED                0.008850  0.017699  0.495575  0.991150\n",
       "TOKEN                0.061947  0.079646  0.619469  0.991150"
      ]
     },
     "execution_count": 41,
     "metadata": {},
     "output_type": "execute_result"
    }
   ],
   "source": [
    "pd.DataFrame(res_num).transpose()"
   ]
  },
  {
   "cell_type": "code",
   "execution_count": 11,
   "metadata": {},
   "outputs": [
    {
     "name": "stdout",
     "output_type": "stream",
     "text": [
      "=== Evaluating Prototype ===\n"
     ]
    }
   ],
   "source": [
    "print('=== Evaluating Prototype ===')\n",
    "prototype_size = ['2', '3', '5']\n",
    "for sz in prototype_size:\n",
    "    trained_prototypes = pickle.load(\n",
    "        open('../../data/wikipedia/save/1B30W/prototypes/{}-0005/trained_prototypes_epoch1_{}00_1.0.dat'.format(sz, sz),'rb')) \n",
    "    idx2vec_i = pickle.load(open('../../data/wikipedia/save/1B30W/prototypes/{}-0005/idx2vec_i_epoch1.dat'.format(sz),'rb'))\n",
    "    evaluator.load_prototype(trained_prototypes, idx2vec_i=idx2vec_i)\n",
    "    OVA, OVAR, SC, BC = evaluator.evaluate_all()\n",
    "    res_num['p-{}'.format(sz)] = [OVA, OVAR, SC, BC]"
   ]
  },
  {
   "cell_type": "code",
   "execution_count": 13,
   "metadata": {},
   "outputs": [
    {
     "name": "stdout",
     "output_type": "stream",
     "text": [
      "=== Evaluating Prototype LOG ===\n"
     ]
    }
   ],
   "source": [
    "print('=== Evaluating Prototype LOG ===')\n",
    "prototype_size = ['2', '3', '5']\n",
    "for sz in prototype_size:\n",
    "    trained_prototypes = pickle.load(\n",
    "        open('../../data/wikipedia/save/1B30W/prototypes_log/{}-0005/trained_prototypes_epoch1_{}00_1.0.dat'.format(sz, sz),'rb')) \n",
    "    idx2vec_i = pickle.load(open('../../data/wikipedia/save/1B30W/prototypes_log/{}-0005/idx2vec_i_epoch1.dat'.format(sz),'rb'))\n",
    "    evaluator.load_prototype(trained_prototypes, idx2vec_i=idx2vec_i, log_space=True)\n",
    "    OVA, OVAR, SC, BC = evaluator.evaluate_all()\n",
    "    res_num['p-log-{}'.format(sz)] = [OVA, OVAR, SC, BC]"
   ]
  },
  {
   "cell_type": "code",
   "execution_count": 24,
   "metadata": {},
   "outputs": [
    {
     "name": "stdout",
     "output_type": "stream",
     "text": [
      "=== Evaluating GMM-RD-SOFT ===\n"
     ]
    }
   ],
   "source": [
    "print('=== Evaluating GMM-RD-SOFT ===')\n",
    "gmms = ['300', '500']\n",
    "for gmm_name in gmms:\n",
    "    trained_prototypes = pickle.load(open('../../data/wikipedia/save/1B30W/gmms/gmm-{}-rd-soft/trained_gmms_epoch1_{}.dat'.format(gmm_name, gmm_name),'rb'))\n",
    "    gmm = pickle.load(open('../../data/wikipedia/preprocess1B/NumeralAsNumeral30W/gmm/gmm-{}-rd-soft.dat'.format(gmm_name),'rb'))\n",
    "    idx2vec_i = pickle.load(open('../../data/wikipedia/save/1B30W/gmms/gmm-{}-rd-soft/idx2vec_i_epoch1.dat'.format(gmm_name),'rb'))\n",
    "    idx2vec_o = pickle.load(open('../../data/wikipedia/save/1B30W/gmms/gmm-{}-rd-soft/idx2vec_o_epoch1.dat'.format(gmm_name),'rb'))\n",
    "    evaluator.load_GMM(trained_prototypes, gmm, idx2vec_i=idx2vec_i, idx2vec_o=idx2vec_o)\n",
    "    OVA, OVAR, SC, BC = evaluator.evaluate_all()\n",
    "    res_num['gmm-rd-soft-{}'.format(gmm_name)] = [OVA, OVAR, SC, BC]"
   ]
  },
  {
   "cell_type": "code",
   "execution_count": 29,
   "metadata": {},
   "outputs": [
    {
     "name": "stdout",
     "output_type": "stream",
     "text": [
      "=== Evaluating GMM-RD-SOFT-LOG ===\n"
     ]
    }
   ],
   "source": [
    "print('=== Evaluating GMM-RD-SOFT-LOG ===')\n",
    "gmms = ['300', '500']\n",
    "for gmm_name in gmms:\n",
    "    trained_prototypes = pickle.load(open('../../data/wikipedia/save/1B30W/gmms_log/gmm-{}-rd-soft/trained_gmms_epoch1_{}.dat'.format(gmm_name, gmm_name),'rb'))\n",
    "    gmm = pickle.load(open('../../data/wikipedia/preprocess1B/NumeralAsNumeral30W/gmm_log/gmm-{}-rd-soft.dat'.format(gmm_name),'rb'))\n",
    "    idx2vec_i = pickle.load(open('../../data/wikipedia/save/1B30W/gmms_log/gmm-{}-rd-soft/idx2vec_i_epoch1.dat'.format(gmm_name),'rb'))\n",
    "    idx2vec_o = pickle.load(open('../../data/wikipedia/save/1B30W/gmms_log/gmm-{}-rd-soft/idx2vec_o_epoch1.dat'.format(gmm_name),'rb'))\n",
    "    evaluator.load_GMM(trained_prototypes, gmm, idx2vec_i=idx2vec_i, idx2vec_o=idx2vec_o, log_space=True)\n",
    "    OVA, OVAR, SC, BC = evaluator.evaluate_all()\n",
    "    res_num['gmm-log-rd-soft-{}'.format(gmm_name)] = [OVA, OVAR, SC, BC]"
   ]
  },
  {
   "cell_type": "code",
   "execution_count": 30,
   "metadata": {},
   "outputs": [
    {
     "name": "stdout",
     "output_type": "stream",
     "text": [
      "=== Evaluating GMM-RD-HARD ===\n"
     ]
    }
   ],
   "source": [
    "print('=== Evaluating GMM-RD-HARD ===')\n",
    "gmms = ['300', '500']\n",
    "for gmm_name in gmms:\n",
    "    trained_prototypes = pickle.load(open('../../data/wikipedia/save/1B30W/gmms/gmm-{}-rd-hard/trained_gmms_epoch1_{}.dat'.format(gmm_name, gmm_name),'rb'))\n",
    "    gmm = pickle.load(open('../../data/wikipedia/preprocess1B/NumeralAsNumeral30W/gmm/gmm-{}-rd-hard.dat'.format(gmm_name),'rb'))\n",
    "    idx2vec_i = pickle.load(open('../../data/wikipedia/save/1B30W/gmms/gmm-{}-rd-hard/idx2vec_i_epoch1.dat'.format(gmm_name),'rb'))\n",
    "    idx2vec_o = pickle.load(open('../../data/wikipedia/save/1B30W/gmms/gmm-{}-rd-hard/idx2vec_o_epoch1.dat'.format(gmm_name),'rb'))\n",
    "    evaluator.load_GMM(trained_prototypes, gmm, idx2vec_i=idx2vec_i, idx2vec_o=idx2vec_o)\n",
    "    OVA, OVAR, SC, BC = evaluator.evaluate_all()\n",
    "    res_num['gmm-rd-hard-{}'.format(gmm_name)] = [OVA, OVAR, SC, BC]"
   ]
  },
  {
   "cell_type": "code",
   "execution_count": 31,
   "metadata": {},
   "outputs": [
    {
     "name": "stdout",
     "output_type": "stream",
     "text": [
      "=== Evaluating GMM-RD-HARD-LOG ===\n"
     ]
    }
   ],
   "source": [
    "print('=== Evaluating GMM-RD-HARD-LOG ===')\n",
    "gmms = ['300', '500']\n",
    "for gmm_name in gmms:\n",
    "    trained_prototypes = pickle.load(open('../../data/wikipedia/save/1B30W/gmms_log/gmm-{}-rd-hard/trained_gmms_epoch1_{}.dat'.format(gmm_name, gmm_name),'rb'))\n",
    "    gmm = pickle.load(open('../../data/wikipedia/preprocess1B/NumeralAsNumeral30W/gmm_log/gmm-{}-rd-hard.dat'.format(gmm_name),'rb'))\n",
    "    idx2vec_i = pickle.load(open('../../data/wikipedia/save/1B30W/gmms_log/gmm-{}-rd-hard/idx2vec_i_epoch1.dat'.format(gmm_name),'rb'))\n",
    "    idx2vec_o = pickle.load(open('../../data/wikipedia/save/1B30W/gmms_log/gmm-{}-rd-hard/idx2vec_o_epoch1.dat'.format(gmm_name),'rb'))\n",
    "    evaluator.load_GMM(trained_prototypes, gmm, idx2vec_i=idx2vec_i, idx2vec_o=idx2vec_o, log_space=True)\n",
    "    OVA, OVAR, SC, BC = evaluator.evaluate_all()\n",
    "    res_num['gmm-log-rd-hard-{}'.format(gmm_name)] = [OVA, OVAR, SC, BC]"
   ]
  },
  {
   "cell_type": "code",
   "execution_count": 33,
   "metadata": {},
   "outputs": [],
   "source": [
    "print('=== Evaluating LSTM ===')\n",
    "idx2vec_o = pickle.load(open('../../data/wikipedia/save/1B30W/LSTM/idx2vec_o_epoch1.dat','rb'))\n",
    "idx2vec_i = pickle.load(open('../../data/wikipedia/save/1B30W/LSTM/idx2vec_i_epoch1.dat','rb'))\n",
    "LSTM_model_path = '../../data/wikipedia/save/1B30W/LSTM/sgns_epoch1.pt'\n",
    "evaluator.load_LSTM(idx2vec_i, idx2vec_o, LSTM_model_path)\n",
    "OVA, OVAR, SC, BC = evaluator.evaluate_all()\n",
    "res_num['LSTM'] = [OVA, OVAR, SC, BC]"
   ]
  },
  {
   "cell_type": "code",
   "execution_count": 35,
   "metadata": {},
   "outputs": [
    {
     "name": "stdout",
     "output_type": "stream",
     "text": [
      "=== Evaluating Fixed Baseline ===\n"
     ]
    }
   ],
   "source": [
    "print('=== Evaluating Fixed Baseline ===')\n",
    "idx2vec_i = pickle.load(open('../../data/wikipedia/save/1B30W/FIXED/idx2vec_i_epoch1.dat','rb'))\n",
    "evaluator.load_fixed(idx2vec_i=idx2vec_i)\n",
    "OVA, OVAR, SC, BC = evaluator.evaluate_all()\n",
    "res_num['FIXED'] = [OVA, OVAR, SC, BC]"
   ]
  },
  {
   "cell_type": "code",
   "execution_count": 39,
   "metadata": {},
   "outputs": [],
   "source": [
    "nc = pickle.load(open('../../data/wikipedia/preprocess1B/NumeralAsTokenUnkNumeral30W/nc.dat','rb'))\n",
    "idx2word_nat = pickle.load(open('../../data/wikipedia/preprocess1B/NumeralAsTokenUnkNumeral30W/idx2word.dat','rb'))\n",
    "wc = pickle.load(open('../../data/wikipedia/preprocess1B/NumeralAsTokenUnkNumeral30W/wc.dat','rb'))\n",
    "word2idx_nat = pickle.load(open('../../data/wikipedia/preprocess1B/NumeralAsTokenUnkNumeral30W/word2idx.dat','rb'))\n",
    "out_dicts_nat = {}\n",
    "for k, v in out_dicts.items():\n",
    "    word = idx2word[v]\n",
    "    idx_nat = word2idx_nat[word]\n",
    "    out_dicts_nat[k] = idx_nat"
   ]
  },
  {
   "cell_type": "code",
   "execution_count": 40,
   "metadata": {},
   "outputs": [],
   "source": [
    "print('=== Evaluating TOKEN ===')\n",
    "evaluator.reload(numerals_dict=out_dicts_nat, idx2word=idx2word_nat, word2idx=word2idx_nat, type='NUM')\n",
    "\n",
    "idx2vec_o = pickle.load(open('../../data/wikipedia/save/1B30W/token/idx2vec_o_epoch1.dat','rb'))\n",
    "idx2vec_i = pickle.load(open('../../data/wikipedia/save/1B30W/token/idx2vec_i_epoch1.dat','rb'))\n",
    "\n",
    "evaluator.load_TOKEN(idx2vec_i=idx2vec_i, idx2vec_o=idx2vec_o)\n",
    "OVA, OVAR, SC, BC = evaluator.evaluate_all()\n",
    "res_num['TOKEN'] = [OVA, OVAR, SC, BC]"
   ]
  },
  {
   "cell_type": "code",
   "execution_count": null,
   "metadata": {},
   "outputs": [],
   "source": []
  }
 ],
 "metadata": {
  "kernelspec": {
   "display_name": "Python 3",
   "language": "python",
   "name": "python3"
  },
  "language_info": {
   "codemirror_mode": {
    "name": "ipython",
    "version": 3
   },
   "file_extension": ".py",
   "mimetype": "text/x-python",
   "name": "python",
   "nbconvert_exporter": "python",
   "pygments_lexer": "ipython3",
   "version": "3.6.6"
  }
 },
 "nbformat": 4,
 "nbformat_minor": 2
}
