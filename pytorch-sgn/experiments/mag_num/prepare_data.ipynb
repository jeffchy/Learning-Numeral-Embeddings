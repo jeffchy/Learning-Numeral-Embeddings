{
 "cells": [
  {
   "cell_type": "code",
   "execution_count": 27,
   "metadata": {},
   "outputs": [
    {
     "name": "stdout",
     "output_type": "stream",
     "text": [
      "The autoreload extension is already loaded. To reload it, use:\n",
      "  %reload_ext autoreload\n"
     ]
    }
   ],
   "source": [
    "%load_ext autoreload\n",
    "%autoreload 2\n",
    "import pickle\n",
    "import numpy as np\n",
    "import pandas as pd\n",
    "import sys\n",
    "import torch as t\n",
    "from tqdm import tqdm_notebook\n",
    "from mag_num_utils import detect_number"
   ]
  },
  {
   "cell_type": "code",
   "execution_count": 4,
   "metadata": {},
   "outputs": [],
   "source": [
    "nc = pickle.load(open('../../data/wikipedia/preprocess1B/NumeralAsNumeral30W/nc.dat','rb'))\n",
    "idx2word = pickle.load(open('../../data/wikipedia/preprocess1B/NumeralAsNumeral30W/idx2word.dat','rb'))\n",
    "wc = pickle.load(open('../../data/wikipedia/preprocess1B/NumeralAsNumeral30W/wc.dat','rb'))\n",
    "word2idx = pickle.load(open('../../data/wikipedia/preprocess1B/NumeralAsNumeral30W/word2idx.dat','rb'))"
   ]
  },
  {
   "cell_type": "code",
   "execution_count": 22,
   "metadata": {},
   "outputs": [],
   "source": [
    "numerals = np.array([float(k) for k, v in nc.items() if v > 1000])\n",
    "numerals.sort()"
   ]
  },
  {
   "cell_type": "code",
   "execution_count": 23,
   "metadata": {},
   "outputs": [
    {
     "data": {
      "text/plain": [
       "2342"
      ]
     },
     "execution_count": 23,
     "metadata": {},
     "output_type": "execute_result"
    }
   ],
   "source": [
    "len(numerals)"
   ]
  },
  {
   "cell_type": "code",
   "execution_count": 24,
   "metadata": {},
   "outputs": [],
   "source": [
    "pickle.dump(numerals, open('data/numerals_mag_1B.pkl','wb'))"
   ]
  },
  {
   "cell_type": "code",
   "execution_count": 25,
   "metadata": {},
   "outputs": [
    {
     "data": {
      "text/plain": [
       "array([-3.0e+01, -2.6e+01, -2.5e+01, ...,  9.0e+05,  1.0e+06,  2.0e+06])"
      ]
     },
     "execution_count": 25,
     "metadata": {},
     "output_type": "execute_result"
    }
   ],
   "source": [
    "numerals"
   ]
  },
  {
   "cell_type": "code",
   "execution_count": 31,
   "metadata": {},
   "outputs": [],
   "source": [
    "nc = pickle.load(open('../../data/wikipedia/preprocess1B/NumeralAsNumeral30W/nc.dat','rb'))\n",
    "idx2word = pickle.load(open('../../data/wikipedia/preprocess1B/NumeralAsNumeral30W/idx2word.dat','rb'))\n",
    "wc = pickle.load(open('../../data/wikipedia/preprocess1B/NumeralAsNumeral30W/wc.dat','rb'))\n",
    "word2idx = pickle.load(open('../../data/wikipedia/preprocess1B/NumeralAsNumeral30W/word2idx.dat','rb'))"
   ]
  },
  {
   "cell_type": "code",
   "execution_count": 32,
   "metadata": {},
   "outputs": [],
   "source": [
    "out_dicts = detect_number(idx2word)"
   ]
  },
  {
   "cell_type": "code",
   "execution_count": 33,
   "metadata": {},
   "outputs": [
    {
     "data": {
      "text/plain": [
       "113"
      ]
     },
     "execution_count": 33,
     "metadata": {},
     "output_type": "execute_result"
    }
   ],
   "source": [
    "len(out_dicts)"
   ]
  },
  {
   "cell_type": "code",
   "execution_count": 35,
   "metadata": {},
   "outputs": [],
   "source": [
    "pickle.dump(out_dicts, open('data/numerals_dict_num_1B.pkl','wb'))"
   ]
  },
  {
   "cell_type": "code",
   "execution_count": null,
   "metadata": {},
   "outputs": [],
   "source": []
  }
 ],
 "metadata": {
  "kernelspec": {
   "display_name": "Python 3",
   "language": "python",
   "name": "python3"
  },
  "language_info": {
   "codemirror_mode": {
    "name": "ipython",
    "version": 3
   },
   "file_extension": ".py",
   "mimetype": "text/x-python",
   "name": "python",
   "nbconvert_exporter": "python",
   "pygments_lexer": "ipython3",
   "version": "3.6.6"
  }
 },
 "nbformat": 4,
 "nbformat_minor": 2
}
