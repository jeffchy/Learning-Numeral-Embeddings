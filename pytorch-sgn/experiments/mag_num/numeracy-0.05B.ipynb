{
 "cells": [
  {
   "cell_type": "code",
   "execution_count": 26,
   "metadata": {},
   "outputs": [],
   "source": [
    "%load_ext autoreload\n",
    "%autoreload 2"
   ]
  },
  {
   "cell_type": "code",
   "execution_count": 113,
   "metadata": {},
   "outputs": [],
   "source": [
    "from MagNumEvaluator import MagNumEvaluator\n",
    "from tqdm import tqdm_notebook\n",
    "import pickle\n",
    "import pandas as pd"
   ]
  },
  {
   "cell_type": "code",
   "execution_count": 99,
   "metadata": {},
   "outputs": [],
   "source": [
    "from mag_num_utils import detect_number"
   ]
  },
  {
   "cell_type": "code",
   "execution_count": 100,
   "metadata": {},
   "outputs": [],
   "source": [
    "nc = pickle.load(open('../../data/wikipedia/preprocess0.05Bnotable/NumeralAsNumeral/nc.dat','rb'))\n",
    "idx2word = pickle.load(open('../../data/wikipedia/preprocess0.05Bnotable/NumeralAsNumeral/idx2word.dat','rb'))\n",
    "wc = pickle.load(open('../../data/wikipedia/preprocess0.05Bnotable/NumeralAsNumeral/wc.dat','rb'))\n",
    "word2idx = pickle.load(open('../../data/wikipedia/preprocess0.05Bnotable/NumeralAsNumeral/word2idx.dat','rb'))"
   ]
  },
  {
   "cell_type": "code",
   "execution_count": 155,
   "metadata": {},
   "outputs": [],
   "source": [
    "out_dicts = pickle.load(open('data/numerals_dicts_num_0.05B.pkl', 'rb'))"
   ]
  },
  {
   "cell_type": "code",
   "execution_count": 157,
   "metadata": {},
   "outputs": [],
   "source": [
    "evaluator = MagNumEvaluator(numerals_dict=out_dicts, type='NUM')"
   ]
  },
  {
   "cell_type": "code",
   "execution_count": 158,
   "metadata": {},
   "outputs": [],
   "source": [
    "res_num = {}"
   ]
  },
  {
   "cell_type": "code",
   "execution_count": 173,
   "metadata": {},
   "outputs": [
    {
     "data": {
      "text/html": [
       "<div>\n",
       "<style scoped>\n",
       "    .dataframe tbody tr th:only-of-type {\n",
       "        vertical-align: middle;\n",
       "    }\n",
       "\n",
       "    .dataframe tbody tr th {\n",
       "        vertical-align: top;\n",
       "    }\n",
       "\n",
       "    .dataframe thead th {\n",
       "        text-align: right;\n",
       "    }\n",
       "</style>\n",
       "<table border=\"1\" class=\"dataframe\">\n",
       "  <thead>\n",
       "    <tr style=\"text-align: right;\">\n",
       "      <th></th>\n",
       "      <th>0</th>\n",
       "      <th>1</th>\n",
       "      <th>2</th>\n",
       "      <th>3</th>\n",
       "    </tr>\n",
       "  </thead>\n",
       "  <tbody>\n",
       "    <tr>\n",
       "      <th>p-50</th>\n",
       "      <td>0.032609</td>\n",
       "      <td>0.054348</td>\n",
       "      <td>0.467391</td>\n",
       "      <td>0.945652</td>\n",
       "    </tr>\n",
       "    <tr>\n",
       "      <th>p-100</th>\n",
       "      <td>0.021739</td>\n",
       "      <td>0.021739</td>\n",
       "      <td>0.456522</td>\n",
       "      <td>0.967391</td>\n",
       "    </tr>\n",
       "    <tr>\n",
       "      <th>p-200</th>\n",
       "      <td>0.021739</td>\n",
       "      <td>0.032609</td>\n",
       "      <td>0.565217</td>\n",
       "      <td>0.978261</td>\n",
       "    </tr>\n",
       "    <tr>\n",
       "      <th>p-300</th>\n",
       "      <td>0.010870</td>\n",
       "      <td>0.021739</td>\n",
       "      <td>0.532609</td>\n",
       "      <td>0.978261</td>\n",
       "    </tr>\n",
       "    <tr>\n",
       "      <th>p-500</th>\n",
       "      <td>0.032609</td>\n",
       "      <td>0.076087</td>\n",
       "      <td>0.554348</td>\n",
       "      <td>0.978261</td>\n",
       "    </tr>\n",
       "    <tr>\n",
       "      <th>p-log-50</th>\n",
       "      <td>0.010870</td>\n",
       "      <td>0.032609</td>\n",
       "      <td>0.489130</td>\n",
       "      <td>0.967391</td>\n",
       "    </tr>\n",
       "    <tr>\n",
       "      <th>p-log-100</th>\n",
       "      <td>0.000000</td>\n",
       "      <td>0.021739</td>\n",
       "      <td>0.532609</td>\n",
       "      <td>0.967391</td>\n",
       "    </tr>\n",
       "    <tr>\n",
       "      <th>p-log-200</th>\n",
       "      <td>0.021739</td>\n",
       "      <td>0.043478</td>\n",
       "      <td>0.554348</td>\n",
       "      <td>0.978261</td>\n",
       "    </tr>\n",
       "    <tr>\n",
       "      <th>p-log-300</th>\n",
       "      <td>0.043478</td>\n",
       "      <td>0.043478</td>\n",
       "      <td>0.543478</td>\n",
       "      <td>0.978261</td>\n",
       "    </tr>\n",
       "    <tr>\n",
       "      <th>p-log-500</th>\n",
       "      <td>0.000000</td>\n",
       "      <td>0.032609</td>\n",
       "      <td>0.565217</td>\n",
       "      <td>0.967391</td>\n",
       "    </tr>\n",
       "    <tr>\n",
       "      <th>gmm-rd-soft-50</th>\n",
       "      <td>0.021739</td>\n",
       "      <td>0.021739</td>\n",
       "      <td>0.510870</td>\n",
       "      <td>0.967391</td>\n",
       "    </tr>\n",
       "    <tr>\n",
       "      <th>gmm-rd-soft-100</th>\n",
       "      <td>0.021739</td>\n",
       "      <td>0.043478</td>\n",
       "      <td>0.565217</td>\n",
       "      <td>0.978261</td>\n",
       "    </tr>\n",
       "    <tr>\n",
       "      <th>gmm-rd-soft-200</th>\n",
       "      <td>0.032609</td>\n",
       "      <td>0.043478</td>\n",
       "      <td>0.521739</td>\n",
       "      <td>0.967391</td>\n",
       "    </tr>\n",
       "    <tr>\n",
       "      <th>gmm-rd-soft-300</th>\n",
       "      <td>0.000000</td>\n",
       "      <td>0.054348</td>\n",
       "      <td>0.554348</td>\n",
       "      <td>0.967391</td>\n",
       "    </tr>\n",
       "    <tr>\n",
       "      <th>gmm-rd-soft-500</th>\n",
       "      <td>0.043478</td>\n",
       "      <td>0.076087</td>\n",
       "      <td>0.641304</td>\n",
       "      <td>0.967391</td>\n",
       "    </tr>\n",
       "    <tr>\n",
       "      <th>gmm-log-rd-soft-50</th>\n",
       "      <td>0.021739</td>\n",
       "      <td>0.043478</td>\n",
       "      <td>0.521739</td>\n",
       "      <td>0.967391</td>\n",
       "    </tr>\n",
       "    <tr>\n",
       "      <th>gmm-log-rd-soft-100</th>\n",
       "      <td>0.010870</td>\n",
       "      <td>0.021739</td>\n",
       "      <td>0.532609</td>\n",
       "      <td>0.978261</td>\n",
       "    </tr>\n",
       "    <tr>\n",
       "      <th>gmm-log-rd-soft-200</th>\n",
       "      <td>0.032609</td>\n",
       "      <td>0.086957</td>\n",
       "      <td>0.521739</td>\n",
       "      <td>0.956522</td>\n",
       "    </tr>\n",
       "    <tr>\n",
       "      <th>gmm-log-rd-soft-300</th>\n",
       "      <td>0.032609</td>\n",
       "      <td>0.043478</td>\n",
       "      <td>0.521739</td>\n",
       "      <td>0.978261</td>\n",
       "    </tr>\n",
       "    <tr>\n",
       "      <th>gmm-log-rd-soft-500</th>\n",
       "      <td>0.032609</td>\n",
       "      <td>0.043478</td>\n",
       "      <td>0.532609</td>\n",
       "      <td>0.978261</td>\n",
       "    </tr>\n",
       "    <tr>\n",
       "      <th>gmm-rd-hard-50</th>\n",
       "      <td>0.043478</td>\n",
       "      <td>0.065217</td>\n",
       "      <td>0.521739</td>\n",
       "      <td>0.978261</td>\n",
       "    </tr>\n",
       "    <tr>\n",
       "      <th>gmm-rd-hard-100</th>\n",
       "      <td>0.043478</td>\n",
       "      <td>0.054348</td>\n",
       "      <td>0.576087</td>\n",
       "      <td>0.978261</td>\n",
       "    </tr>\n",
       "    <tr>\n",
       "      <th>gmm-rd-hard-200</th>\n",
       "      <td>0.032609</td>\n",
       "      <td>0.076087</td>\n",
       "      <td>0.565217</td>\n",
       "      <td>0.967391</td>\n",
       "    </tr>\n",
       "    <tr>\n",
       "      <th>gmm-rd-hard-300</th>\n",
       "      <td>0.021739</td>\n",
       "      <td>0.097826</td>\n",
       "      <td>0.586957</td>\n",
       "      <td>0.978261</td>\n",
       "    </tr>\n",
       "    <tr>\n",
       "      <th>gmm-rd-hard-500</th>\n",
       "      <td>0.043478</td>\n",
       "      <td>0.076087</td>\n",
       "      <td>0.619565</td>\n",
       "      <td>0.978261</td>\n",
       "    </tr>\n",
       "    <tr>\n",
       "      <th>gmm-log-rd-hard-50</th>\n",
       "      <td>0.021739</td>\n",
       "      <td>0.043478</td>\n",
       "      <td>0.500000</td>\n",
       "      <td>0.978261</td>\n",
       "    </tr>\n",
       "    <tr>\n",
       "      <th>gmm-log-rd-hard-100</th>\n",
       "      <td>0.000000</td>\n",
       "      <td>0.000000</td>\n",
       "      <td>0.521739</td>\n",
       "      <td>0.945652</td>\n",
       "    </tr>\n",
       "    <tr>\n",
       "      <th>gmm-log-rd-hard-200</th>\n",
       "      <td>0.032609</td>\n",
       "      <td>0.043478</td>\n",
       "      <td>0.554348</td>\n",
       "      <td>0.967391</td>\n",
       "    </tr>\n",
       "    <tr>\n",
       "      <th>gmm-log-rd-hard-300</th>\n",
       "      <td>0.010870</td>\n",
       "      <td>0.043478</td>\n",
       "      <td>0.510870</td>\n",
       "      <td>0.978261</td>\n",
       "    </tr>\n",
       "    <tr>\n",
       "      <th>gmm-log-rd-hard-500</th>\n",
       "      <td>0.043478</td>\n",
       "      <td>0.054348</td>\n",
       "      <td>0.478261</td>\n",
       "      <td>0.956522</td>\n",
       "    </tr>\n",
       "    <tr>\n",
       "      <th>LSTM</th>\n",
       "      <td>0.010870</td>\n",
       "      <td>0.032609</td>\n",
       "      <td>0.500000</td>\n",
       "      <td>0.108696</td>\n",
       "    </tr>\n",
       "    <tr>\n",
       "      <th>FIXED</th>\n",
       "      <td>0.010870</td>\n",
       "      <td>0.032609</td>\n",
       "      <td>0.489130</td>\n",
       "      <td>0.989130</td>\n",
       "    </tr>\n",
       "    <tr>\n",
       "      <th>TOKEN</th>\n",
       "      <td>0.043478</td>\n",
       "      <td>0.065217</td>\n",
       "      <td>0.684783</td>\n",
       "      <td>0.978261</td>\n",
       "    </tr>\n",
       "  </tbody>\n",
       "</table>\n",
       "</div>"
      ],
      "text/plain": [
       "                            0         1         2         3\n",
       "p-50                 0.032609  0.054348  0.467391  0.945652\n",
       "p-100                0.021739  0.021739  0.456522  0.967391\n",
       "p-200                0.021739  0.032609  0.565217  0.978261\n",
       "p-300                0.010870  0.021739  0.532609  0.978261\n",
       "p-500                0.032609  0.076087  0.554348  0.978261\n",
       "p-log-50             0.010870  0.032609  0.489130  0.967391\n",
       "p-log-100            0.000000  0.021739  0.532609  0.967391\n",
       "p-log-200            0.021739  0.043478  0.554348  0.978261\n",
       "p-log-300            0.043478  0.043478  0.543478  0.978261\n",
       "p-log-500            0.000000  0.032609  0.565217  0.967391\n",
       "gmm-rd-soft-50       0.021739  0.021739  0.510870  0.967391\n",
       "gmm-rd-soft-100      0.021739  0.043478  0.565217  0.978261\n",
       "gmm-rd-soft-200      0.032609  0.043478  0.521739  0.967391\n",
       "gmm-rd-soft-300      0.000000  0.054348  0.554348  0.967391\n",
       "gmm-rd-soft-500      0.043478  0.076087  0.641304  0.967391\n",
       "gmm-log-rd-soft-50   0.021739  0.043478  0.521739  0.967391\n",
       "gmm-log-rd-soft-100  0.010870  0.021739  0.532609  0.978261\n",
       "gmm-log-rd-soft-200  0.032609  0.086957  0.521739  0.956522\n",
       "gmm-log-rd-soft-300  0.032609  0.043478  0.521739  0.978261\n",
       "gmm-log-rd-soft-500  0.032609  0.043478  0.532609  0.978261\n",
       "gmm-rd-hard-50       0.043478  0.065217  0.521739  0.978261\n",
       "gmm-rd-hard-100      0.043478  0.054348  0.576087  0.978261\n",
       "gmm-rd-hard-200      0.032609  0.076087  0.565217  0.967391\n",
       "gmm-rd-hard-300      0.021739  0.097826  0.586957  0.978261\n",
       "gmm-rd-hard-500      0.043478  0.076087  0.619565  0.978261\n",
       "gmm-log-rd-hard-50   0.021739  0.043478  0.500000  0.978261\n",
       "gmm-log-rd-hard-100  0.000000  0.000000  0.521739  0.945652\n",
       "gmm-log-rd-hard-200  0.032609  0.043478  0.554348  0.967391\n",
       "gmm-log-rd-hard-300  0.010870  0.043478  0.510870  0.978261\n",
       "gmm-log-rd-hard-500  0.043478  0.054348  0.478261  0.956522\n",
       "LSTM                 0.010870  0.032609  0.500000  0.108696\n",
       "FIXED                0.010870  0.032609  0.489130  0.989130\n",
       "TOKEN                0.043478  0.065217  0.684783  0.978261"
      ]
     },
     "execution_count": 173,
     "metadata": {},
     "output_type": "execute_result"
    }
   ],
   "source": [
    "pd.DataFrame(res_num).transpose()"
   ]
  },
  {
   "cell_type": "code",
   "execution_count": 160,
   "metadata": {},
   "outputs": [
    {
     "name": "stdout",
     "output_type": "stream",
     "text": [
      "=== Evaluating Prototype ===\n"
     ]
    }
   ],
   "source": [
    "print('=== Evaluating Prototype ===')\n",
    "prototype_size = ['50', '100', '200', '300', '500']\n",
    "for sz in prototype_size:\n",
    "    trained_prototypes = pickle.load(\n",
    "        open('../../data/wikipedia/save/0.05Bnotable/prototypes/{}/trained_prototypes_epoch5.dat'.format(sz),'rb')) \n",
    "    idx2vec_i = pickle.load(open('../../data/wikipedia/save/0.05Bnotable/prototypes/{}/idx2vec_i_epoch5.dat'.format(sz),'rb'))\n",
    "    evaluator.load_prototype(trained_prototypes, idx2vec_i=idx2vec_i)\n",
    "    OVA, OVAR, SC, BC = evaluator.evaluate_all()\n",
    "    res_num['p-{}'.format(sz)] = [OVA, OVAR, SC, BC]"
   ]
  },
  {
   "cell_type": "code",
   "execution_count": 161,
   "metadata": {},
   "outputs": [
    {
     "name": "stdout",
     "output_type": "stream",
     "text": [
      "=== Evaluating Prototype LOG ===\n"
     ]
    }
   ],
   "source": [
    "print('=== Evaluating Prototype LOG ===')\n",
    "prototype_size = ['50', '100', '200', '300', '500']\n",
    "for sz in prototype_size:\n",
    "    trained_prototypes = pickle.load(\n",
    "        open('../../data/wikipedia/save/0.05Bnotable/prototypes_log/{}/trained_prototypes_epoch5_{}_1.0.dat'.format(sz, sz),'rb')) \n",
    "    idx2vec_i = pickle.load(open('../../data/wikipedia/save/0.05Bnotable/prototypes_log/{}/idx2vec_i_epoch5.dat'.format(sz),'rb'))\n",
    "    evaluator.load_prototype(trained_prototypes, idx2vec_i=idx2vec_i, log_space=True)\n",
    "    OVA, OVAR, SC, BC = evaluator.evaluate_all()\n",
    "    res_num['p-log-{}'.format(sz)] = [OVA, OVAR, SC, BC]"
   ]
  },
  {
   "cell_type": "code",
   "execution_count": 162,
   "metadata": {},
   "outputs": [
    {
     "name": "stdout",
     "output_type": "stream",
     "text": [
      "=== Evaluating GMM-RD-SOFT ===\n"
     ]
    }
   ],
   "source": [
    "print('=== Evaluating GMM-RD-SOFT ===')\n",
    "gmms = ['50', '100', '200', '300', '500']\n",
    "for gmm_name in gmms:\n",
    "    trained_prototypes = pickle.load(open('../../data/wikipedia/save/0.05Bnotable/gmm/{}-rd/trained_gmms_epoch5_{}.dat'.format(gmm_name, gmm_name),'rb'))\n",
    "    gmm = pickle.load(open('../../data/wikipedia/preprocess0.05Bnotable/NumeralAsNumeral/gmm/gmm-{}-rd.dat'.format(gmm_name),'rb'))\n",
    "    idx2vec_i = pickle.load(open('../../data/wikipedia/save/0.05Bnotable/gmm/{}-rd/idx2vec_i_epoch5.dat'.format(gmm_name),'rb'))\n",
    "    idx2vec_o = pickle.load(open('../../data/wikipedia/save/0.05Bnotable/gmm/{}-rd/idx2vec_i_epoch5.dat'.format(gmm_name),'rb'))\n",
    "    evaluator.load_GMM(trained_prototypes, gmm, idx2vec_i=idx2vec_i, idx2vec_o=idx2vec_o)\n",
    "    OVA, OVAR, SC, BC = evaluator.evaluate_all()\n",
    "    res_num['gmm-rd-soft-{}'.format(gmm_name)] = [OVA, OVAR, SC, BC]"
   ]
  },
  {
   "cell_type": "code",
   "execution_count": 163,
   "metadata": {},
   "outputs": [
    {
     "name": "stdout",
     "output_type": "stream",
     "text": [
      "=== Evaluating GMM-RD-SOFT-LOG ===\n"
     ]
    }
   ],
   "source": [
    "print('=== Evaluating GMM-RD-SOFT-LOG ===')\n",
    "gmms = ['50', '100', '200', '300', '500']\n",
    "for gmm_name in gmms:\n",
    "    trained_prototypes = pickle.load(open('../../data/wikipedia/save/0.05Bnotable/gmm_log/{}-rd-soft/trained_gmms_epoch5_{}.dat'.format(gmm_name, gmm_name),'rb'))\n",
    "    gmm = pickle.load(open('../../data/wikipedia/preprocess0.05Bnotable/NumeralAsNumeral/gmm_log/gmm-{}-rd-soft.dat'.format(gmm_name),'rb'))\n",
    "    idx2vec_i = pickle.load(open('../../data/wikipedia/save/0.05Bnotable/gmm_log/{}-rd-soft/idx2vec_i_epoch5.dat'.format(gmm_name),'rb'))\n",
    "    idx2vec_o = pickle.load(open('../../data/wikipedia/save/0.05Bnotable/gmm_log/{}-rd-soft/idx2vec_o_epoch5.dat'.format(gmm_name),'rb'))\n",
    "    evaluator.load_GMM(trained_prototypes, gmm, idx2vec_i=idx2vec_i, idx2vec_o=idx2vec_o, log_space=True)\n",
    "    OVA, OVAR, SC, BC = evaluator.evaluate_all()\n",
    "    res_num['gmm-log-rd-soft-{}'.format(gmm_name)] = [OVA, OVAR, SC, BC]"
   ]
  },
  {
   "cell_type": "code",
   "execution_count": 164,
   "metadata": {},
   "outputs": [
    {
     "name": "stdout",
     "output_type": "stream",
     "text": [
      "=== Evaluating GMM-RD-HARD ===\n"
     ]
    }
   ],
   "source": [
    "print('=== Evaluating GMM-RD-HARD ===')\n",
    "gmms = ['50', '100', '200', '300', '500']\n",
    "for gmm_name in gmms:\n",
    "    trained_prototypes = pickle.load(open('../../data/wikipedia/save/0.05Bnotable/gmm/{}-rd-hard/trained_gmms_epoch5_{}.dat'.format(gmm_name, gmm_name),'rb'))\n",
    "    gmm = pickle.load(open('../../data/wikipedia/preprocess0.05Bnotable/NumeralAsNumeral/gmm/gmm-{}-rd-hard.dat'.format(gmm_name),'rb'))\n",
    "    idx2vec_i = pickle.load(open('../../data/wikipedia/save/0.05Bnotable/gmm/{}-rd-hard/idx2vec_i_epoch5.dat'.format(gmm_name),'rb'))\n",
    "    idx2vec_o = pickle.load(open('../../data/wikipedia/save/0.05Bnotable/gmm/{}-rd-hard/idx2vec_i_epoch5.dat'.format(gmm_name),'rb'))\n",
    "    evaluator.load_GMM(trained_prototypes, gmm, idx2vec_i=idx2vec_i, idx2vec_o=idx2vec_o)\n",
    "    OVA, OVAR, SC, BC = evaluator.evaluate_all()\n",
    "    res_num['gmm-rd-hard-{}'.format(gmm_name)] = [OVA, OVAR, SC, BC]"
   ]
  },
  {
   "cell_type": "code",
   "execution_count": 165,
   "metadata": {},
   "outputs": [
    {
     "name": "stdout",
     "output_type": "stream",
     "text": [
      "=== Evaluating GMM-RD-HARD-LOG ===\n"
     ]
    }
   ],
   "source": [
    "print('=== Evaluating GMM-RD-HARD-LOG ===')\n",
    "gmms = ['50', '100', '200', '300', '500']\n",
    "for gmm_name in gmms:\n",
    "    trained_prototypes = pickle.load(open('../../data/wikipedia/save/0.05Bnotable/gmm_log/{}-rd-hard/trained_gmms_epoch5_{}.dat'.format(gmm_name, gmm_name),'rb'))\n",
    "    gmm = pickle.load(open('../../data/wikipedia/preprocess0.05Bnotable/NumeralAsNumeral/gmm_log/gmm-{}-rd-hard.dat'.format(gmm_name),'rb'))\n",
    "    idx2vec_i = pickle.load(open('../../data/wikipedia/save/0.05Bnotable/gmm_log/{}-rd-hard/idx2vec_i_epoch5.dat'.format(gmm_name),'rb'))\n",
    "    idx2vec_o = pickle.load(open('../../data/wikipedia/save/0.05Bnotable/gmm_log/{}-rd-hard/idx2vec_o_epoch5.dat'.format(gmm_name),'rb'))\n",
    "    evaluator.load_GMM(trained_prototypes, gmm, idx2vec_i=idx2vec_i, idx2vec_o=idx2vec_o, log_space=True)\n",
    "    OVA, OVAR, SC, BC = evaluator.evaluate_all()\n",
    "    res_num['gmm-log-rd-hard-{}'.format(gmm_name)] = [OVA, OVAR, SC, BC]"
   ]
  },
  {
   "cell_type": "code",
   "execution_count": 166,
   "metadata": {},
   "outputs": [],
   "source": [
    "idx2vec_o = pickle.load(open('../../data/wikipedia/save/0.05Bnotable/1/LSTM/idx2vec_o_epoch5.dat','rb'))\n",
    "idx2vec_i = pickle.load(open('../../data/wikipedia/save/0.05Bnotable/1/LSTM/idx2vec_i_epoch5.dat','rb'))\n",
    "LSTM_model_path = '../../data/wikipedia/save/0.05Bnotable/1/LSTM/sgns_epoch5.pt'\n",
    "evaluator.load_LSTM(idx2vec_i, idx2vec_o, LSTM_model_path)\n",
    "OVA, OVAR, SC, BC = evaluator.evaluate_all()\n",
    "res_num['LSTM'] = [OVA, OVAR, SC, BC]"
   ]
  },
  {
   "cell_type": "code",
   "execution_count": 168,
   "metadata": {},
   "outputs": [
    {
     "name": "stdout",
     "output_type": "stream",
     "text": [
      "=== Evaluating Fixed Baseline ===\n"
     ]
    }
   ],
   "source": [
    "print('=== Evaluating Fixed Baseline ===')\n",
    "idx2vec_i = pickle.load(open('../../data/wikipedia/save/0.05Bnotable/fixed/idx2vec_i_epoch5.dat','rb'))\n",
    "evaluator.load_fixed(idx2vec_i=idx2vec_i)\n",
    "OVA, OVAR, SC, BC = evaluator.evaluate_all()\n",
    "res_num['FIXED'] = [OVA, OVAR, SC, BC]"
   ]
  },
  {
   "cell_type": "code",
   "execution_count": 170,
   "metadata": {},
   "outputs": [],
   "source": [
    "nc = pickle.load(open('../../data/wikipedia/preprocess0.05Bnotable/NumeralAsTokenUnkNumeral/nc.dat','rb'))\n",
    "idx2word_nat = pickle.load(open('../../data/wikipedia/preprocess0.05Bnotable/NumeralAsTokenUnkNumeral/idx2word.dat','rb'))\n",
    "wc = pickle.load(open('../../data/wikipedia/preprocess0.05Bnotable/NumeralAsTokenUnkNumeral/wc.dat','rb'))\n",
    "word2idx_nat = pickle.load(open('../../data/wikipedia/preprocess0.05Bnotable/NumeralAsTokenUnkNumeral/word2idx.dat','rb'))\n",
    "out_dicts_nat = {}\n",
    "for k, v in out_dicts.items():\n",
    "    word = idx2word[v]\n",
    "    idx_nat = word2idx_nat[word]\n",
    "    out_dicts_nat[k] = idx_nat"
   ]
  },
  {
   "cell_type": "code",
   "execution_count": 172,
   "metadata": {},
   "outputs": [],
   "source": [
    "evaluator.reload(numerals_dict=out_dicts_nat, idx2word=idx2word_nat, word2idx=word2idx_nat, type='NUM')\n",
    "\n",
    "idx2vec_o = pickle.load(open('../../data/wikipedia/save/0.05Bnotable/1/NumeralAsTokenUnkNumeral/idx2vec_o_epoch5.dat','rb'))\n",
    "idx2vec_i = pickle.load(open('../../data/wikipedia/save/0.05Bnotable/1/NumeralAsTokenUnkNumeral/idx2vec_i_epoch5.dat','rb'))\n",
    "\n",
    "evaluator.load_TOKEN(idx2vec_i=idx2vec_i, idx2vec_o=idx2vec_o)\n",
    "OVA, OVAR, SC, BC = evaluator.evaluate_all()\n",
    "res_num['TOKEN'] = [OVA, OVAR, SC, BC]"
   ]
  },
  {
   "cell_type": "code",
   "execution_count": null,
   "metadata": {},
   "outputs": [],
   "source": []
  }
 ],
 "metadata": {
  "kernelspec": {
   "display_name": "Python 3",
   "language": "python",
   "name": "python3"
  },
  "language_info": {
   "codemirror_mode": {
    "name": "ipython",
    "version": 3
   },
   "file_extension": ".py",
   "mimetype": "text/x-python",
   "name": "python",
   "nbconvert_exporter": "python",
   "pygments_lexer": "ipython3",
   "version": "3.6.6"
  }
 },
 "nbformat": 4,
 "nbformat_minor": 2
}
