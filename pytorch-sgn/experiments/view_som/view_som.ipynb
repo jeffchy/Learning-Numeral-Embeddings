{
 "cells": [
  {
   "cell_type": "code",
   "execution_count": 2,
   "metadata": {},
   "outputs": [],
   "source": [
    "import pickle, random\n",
    "from som.som import MiniSom as SOM"
   ]
  },
  {
   "cell_type": "code",
   "execution_count": 3,
   "metadata": {},
   "outputs": [],
   "source": [
    "path = './data/wikipedia/prototypes.dat'\n",
    "path_nc = './data/wikipedia/nc.dat'"
   ]
  },
  {
   "cell_type": "code",
   "execution_count": 4,
   "metadata": {},
   "outputs": [],
   "source": [
    "p = pickle.load(open(path, 'rb'))\n",
    "nc = pickle.load(open(path_nc, 'rb'))"
   ]
  },
  {
   "cell_type": "code",
   "execution_count": 5,
   "metadata": {},
   "outputs": [],
   "source": [
    "def to_numeral(token):\n",
    "\ttry:\n",
    "\t\tnum = float(token)\n",
    "\t\treturn num\n",
    "\texcept ValueError:\n",
    "\t\treturn None"
   ]
  },
  {
   "cell_type": "code",
   "execution_count": 15,
   "metadata": {},
   "outputs": [
    {
     "name": "stdout",
     "output_type": "stream",
     "text": [
      "\n",
      "Training SOMs...\n",
      "...Ready!\n",
      "[[[7.38816502e+05]]\n",
      "\n",
      " [[7.99665990e+06]]\n",
      "\n",
      " [[4.00681319e+05]]\n",
      "\n",
      " [[8.89278438e+04]]\n",
      "\n",
      " [[1.16744002e+04]]\n",
      "\n",
      " [[1.96718226e+03]]\n",
      "\n",
      " [[1.28795395e+03]]\n",
      "\n",
      " [[4.82648527e+02]]\n",
      "\n",
      " [[1.22441914e+02]]\n",
      "\n",
      " [[2.14563813e+01]]]\n",
      "[[ 11033.]\n",
      " [  7095.]\n",
      " [  8483.]\n",
      " [ 20690.]\n",
      " [ 36936.]\n",
      " [979265.]\n",
      " [ 90390.]\n",
      " [ 88415.]\n",
      " [152549.]\n",
      " [579991.]]\n"
     ]
    }
   ],
   "source": [
    "random.seed(100)\n",
    "data = []\n",
    "for k, v in nc.items():\n",
    "    if to_numeral(k) == None:\n",
    "        print(k)\n",
    "    else:\n",
    "        data += [[to_numeral(k)]]*v\n",
    "\n",
    "random.shuffle(data)\n",
    "som = SOM(10, 1, 1, sigma=0.3, learning_rate=0.3)  # initialization\n",
    "# TODO add more strict exit conditions using quantization error\n",
    "print(\"Training SOMs...\")\n",
    "# som.random_weights_init(data)\n",
    "som.train_random(data, 1000)  # trains the SOM with 1000 iterations\n",
    "print(\"...Ready!\")\n",
    "\n",
    "print(som.get_weights())\n",
    "print(som.activation_response(data))\n",
    "# win_map = som.win_map(data)\n",
    "# print(win_map)\n",
    "# self.prototypes = som.get_weights().reshape(prototypes) # nd array\n",
    "# pickle.dump(self.prototypes, open(os.path.join(self.data_dir, 'prototypes.dat'), 'wb'))\n",
    "# pickle.dump(win_map, open(os.path.join(self.data_dir, 'win_map.dat'), 'wb'))"
   ]
  },
  {
   "cell_type": "code",
   "execution_count": null,
   "metadata": {},
   "outputs": [],
   "source": []
  }
 ],
 "metadata": {
  "kernelspec": {
   "display_name": "Python 3",
   "language": "python",
   "name": "python3"
  },
  "language_info": {
   "codemirror_mode": {
    "name": "ipython",
    "version": 3
   },
   "file_extension": ".py",
   "mimetype": "text/x-python",
   "name": "python",
   "nbconvert_exporter": "python",
   "pygments_lexer": "ipython3",
   "version": "3.6.5"
  }
 },
 "nbformat": 4,
 "nbformat_minor": 2
}
