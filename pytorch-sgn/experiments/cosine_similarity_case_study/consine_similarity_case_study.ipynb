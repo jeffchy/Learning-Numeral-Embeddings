{
 "cells": [
  {
   "cell_type": "code",
   "execution_count": 4,
   "metadata": {},
   "outputs": [],
   "source": [
    "import glob\n",
    "import os\n",
    "from six import string_types, text_type\n",
    "import numpy as np\n",
    "import scipy\n",
    "from web.evaluate import evaluate_analogy"
   ]
  },
  {
   "cell_type": "code",
   "execution_count": 5,
   "metadata": {},
   "outputs": [],
   "source": [
    "import pickle"
   ]
  },
  {
   "cell_type": "code",
   "execution_count": 6,
   "metadata": {},
   "outputs": [],
   "source": [
    "idx2vec = pickle.load(open('./prototypes/300_0.05B_notable/idx2vec_i_epoch5.dat', 'rb'))\n",
    "idx2word = pickle.load(open('./prototypes/300_0.05B_notable/idx2word.dat', 'rb'))"
   ]
  },
  {
   "cell_type": "code",
   "execution_count": 7,
   "metadata": {},
   "outputs": [],
   "source": [
    "word2idx = pickle.load(open('./prototypes/300_0.05B_notable/word2idx.dat', 'rb'))\n",
    "wc = pickle.load(open('./prototypes/300_0.05B_notable/wc.dat', 'rb'))"
   ]
  },
  {
   "cell_type": "code",
   "execution_count": 8,
   "metadata": {},
   "outputs": [],
   "source": [
    "trained_prototypes = pickle.load(open('./prototypes/300_0.05B_notable/trained_prototypes_epoch5.dat', 'rb'))"
   ]
  },
  {
   "cell_type": "code",
   "execution_count": 9,
   "metadata": {},
   "outputs": [],
   "source": [
    "def cosine_similarity(v1,v2):\n",
    "    return np.dot(v1, v2)/(np.linalg.norm(v1)* np.linalg.norm(v2))"
   ]
  },
  {
   "cell_type": "code",
   "execution_count": 10,
   "metadata": {},
   "outputs": [],
   "source": [
    "prototypes, prototypes_embeddings = trained_prototypes['prototypes'], trained_prototypes['i_embedding']"
   ]
  },
  {
   "cell_type": "code",
   "execution_count": 15,
   "metadata": {},
   "outputs": [],
   "source": [
    "def print_knn(query_num, k):\n",
    "    idx = np.argmin(np.abs(prototypes - query_num))\n",
    "    value = prototypes[idx]\n",
    "    embed = prototypes_embeddings[idx]\n",
    "    # find the min \n",
    "    vocab_sz, dim = idx2vec.shape\n",
    "    ans = np.array([cosine_similarity(idx2vec[i], embed) for i in range(vocab_sz)])\n",
    "    idxs = (-ans[:5000]).argsort()[:k]\n",
    "    print('neighest neighbours of value {}'.format(value), [idx2word[k] for k in idxs])"
   ]
  },
  {
   "cell_type": "code",
   "execution_count": 16,
   "metadata": {},
   "outputs": [],
   "source": [
    "k = 20"
   ]
  },
  {
   "cell_type": "code",
   "execution_count": 17,
   "metadata": {},
   "outputs": [
    {
     "name": "stderr",
     "output_type": "stream",
     "text": [
      "/Users/jeffchiang/anaconda3/envs/py3/lib/python3.6/site-packages/ipykernel_launcher.py:2: RuntimeWarning: invalid value encountered in float_scalars\n",
      "  \n"
     ]
    },
    {
     "name": "stdout",
     "output_type": "stream",
     "text": [
      "neighest neighbours of value 9512040.5631184 ['total', 'census', 'population', 'million', 'percent', 'registered', 'estimated', 'cent', 'est', 'estimate', 'estimates', 'billion', 'approximately', 'male', 'survey', 'per', 'residents', 'proportion', 'female', 'percentage']\n",
      "neighest neighbours of value 10441.988377331298 ['thousand', 'approximately', 'thousands', 'millions', 'roughly', 'hundreds', 'million', 'hundred', 'estimated', 'per', 'fewer', 'inhabitants', 'estimate', 'registered', 'tons', 'iso', 'around', 'ago', 'total', 'billion']\n",
      "neighest neighbours of value 1999.876182409774 ['uk', 'introduction', 'million', 'decade', 'internet', 'inc', 'rd', 'september', 'us', 'twentieth', 'ltd', 'millennium', 'latest', 'steven', 'worldwide', 'annually', 'nd', 'rose', 'november', 'dropped']\n",
      "neighest neighbours of value 1599.3318189119727 ['johann', 'renaissance', 'giovanni', 'dutch', 'thirty', 'baroque', 'anne', 'treatise', 'viii', 'astronomer', 'medieval', 'amsterdam', 'jan', 'duke', 'iv', 'reign', 'dated', 'portuguese', 'shakespeare', 'frederick']\n",
      "neighest neighbours of value 1001.4240314135595 ['births', 'per', 'total', 'thousand', 'rate', 'deaths', 'mortality', 'estimated', 'approximately', 'est', 'million', 'migration', 'roughly', 'estimate', 'estimates', 'cent', 'capita', 'kg', 'net', 'population']\n",
      "neighest neighbours of value 10.007533742441971 ['ten', 'six', 'eleven', 'pm', 'seconds', 'five', 'eight', 'half', 'seven', 'twenty', 'three', 'minutes', 'four', 'per', 'starting', 'third', 'sixth', 'start', 'fourth', 'quarter']\n",
      "neighest neighbours of value 6.948083068298523 ['-', 'seconds', 'f', 'b', 'c', 'minutes', 'modified', 'delivered', 'version', 'aim', 'starting', 'versions', 'newer', 'variants', 'douglas', 'dc', 'inch', 'reception', 'quarter', 'il']\n",
      "neighest neighbours of value 3.0009020873903682 ['-', 'modified', 'seconds', 'version', 'b', 'specification', 'starting', 'versions', 'minutes', 'replacement', 'c', 'newer', 'variants', 'compatible', 'extension', 'conversion', 'standard', 'completion', 'respectively', 'space']\n",
      "neighest neighbours of value 1.9957938345253659 ['-', 'b', 'modified', 'specification', 'version', 'audio', 'versions', 'format', 'seconds', 'variants', 'variant', 'capability', 'configuration', 'extension', 'prototype', 'c', 'block', 'replacement', 'compression', 'newer']\n",
      "neighest neighbours of value 0.9999274107727442 ['-', 'b', 'seconds', 'format', 'bar', 'pm', 'modified', 'minutes', 'version', 'iso', 'audio', 'specification', 'mp', 'till', 'color', 'prototype', 'standard', 'variants', 'test', 'start']\n",
      "neighest neighbours of value -9352.523381813357 ['till', 'bar', 'ca', 'shift', 'width', 'text', 'color', 'http', 'approximately', 'center', 'com', 'kg', '-', 'start', 'from', 'ma', 'id', 'estimated', 'km', 'billion']\n"
     ]
    }
   ],
   "source": [
    "print_knn(10000000, 20)\n",
    "print_knn(10000, 20)\n",
    "print_knn(2000, 20)\n",
    "print_knn(1600, 20)\n",
    "print_knn(1000, 20)\n",
    "print_knn(10, 20)\n",
    "print_knn(7,20)\n",
    "print_knn(3, 20)\n",
    "print_knn(2, 20)\n",
    "print_knn(1, 20)\n",
    "print_knn(-10000, 20)"
   ]
  },
  {
   "cell_type": "code",
   "execution_count": 18,
   "metadata": {},
   "outputs": [
    {
     "name": "stderr",
     "output_type": "stream",
     "text": [
      "/Users/jeffchiang/anaconda3/envs/py3/lib/python3.6/site-packages/ipykernel_launcher.py:2: RuntimeWarning: invalid value encountered in float_scalars\n",
      "  \n"
     ]
    },
    {
     "name": "stdout",
     "output_type": "stream",
     "text": [
      "neighest neighbours of value -93.12475829604286 ['-', 'b', 'f', 'c', 'boeing', 'prototype', 'aircraft', 'powered', 'ac', 'modified', 'flight', 'variants', 'mm', 'engines', 'equipped', 'ch', 'missile', 'fighter', 'variant', 'jet']\n"
     ]
    }
   ],
   "source": [
    "print_knn(-100, 20)"
   ]
  },
  {
   "cell_type": "code",
   "execution_count": 63,
   "metadata": {},
   "outputs": [
    {
     "name": "stderr",
     "output_type": "stream",
     "text": [
      "/Users/jeffchiang/anaconda3/envs/py3/lib/python3.6/site-packages/ipykernel_launcher.py:2: RuntimeWarning: invalid value encountered in float_scalars\n",
      "  \n"
     ]
    },
    {
     "name": "stdout",
     "output_type": "stream",
     "text": [
      "neighest neighbours of value 26214161322587.34 ['https', 'www', 'http', 'edu', 'com', 'org', 'gov', 'info', 'fr', 'pdf', 'archive', 'wiki', 'web', 'ff', 'nov', 'retrieved', 'links', 'ms', 'ca', 'homepage']\n"
     ]
    }
   ],
   "source": [
    "print_knn(222220000000000, 20)"
   ]
  },
  {
   "cell_type": "code",
   "execution_count": null,
   "metadata": {},
   "outputs": [],
   "source": []
  },
  {
   "cell_type": "code",
   "execution_count": null,
   "metadata": {},
   "outputs": [],
   "source": []
  }
 ],
 "metadata": {
  "kernelspec": {
   "display_name": "Python 3",
   "language": "python",
   "name": "python3"
  },
  "language_info": {
   "codemirror_mode": {
    "name": "ipython",
    "version": 3
   },
   "file_extension": ".py",
   "mimetype": "text/x-python",
   "name": "python",
   "nbconvert_exporter": "python",
   "pygments_lexer": "ipython3",
   "version": "3.6.6"
  }
 },
 "nbformat": 4,
 "nbformat_minor": 2
}
