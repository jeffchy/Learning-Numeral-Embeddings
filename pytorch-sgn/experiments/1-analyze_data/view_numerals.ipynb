{
 "cells": [
  {
   "cell_type": "code",
   "execution_count": 1,
   "metadata": {},
   "outputs": [],
   "source": [
    "import pickle\n",
    "import seaborn as sns\n",
    "sns.set_style('whitegrid')\n",
    "import numpy as np"
   ]
  },
  {
   "cell_type": "code",
   "execution_count": 27,
   "metadata": {},
   "outputs": [],
   "source": [
    "path = '../numeral_context/build/0.05Bnotable/nc.dat'"
   ]
  },
  {
   "cell_type": "code",
   "execution_count": 52,
   "metadata": {},
   "outputs": [],
   "source": [
    "nc = pickle.load(open(path, 'rb'))"
   ]
  },
  {
   "cell_type": "code",
   "execution_count": 53,
   "metadata": {},
   "outputs": [],
   "source": [
    "def to_numeral(token):\n",
    "\ttry:\n",
    "\t\tnum = float(token)\n",
    "\t\treturn num\n",
    "\texcept ValueError:\n",
    "\t\treturn None"
   ]
  },
  {
   "cell_type": "code",
   "execution_count": 54,
   "metadata": {},
   "outputs": [],
   "source": [
    "data = []\n",
    "for k, v in nc.items():\n",
    "    if to_numeral(k) == None:\n",
    "        print(k)\n",
    "    else:\n",
    "        data += [to_numeral(k)]*v"
   ]
  },
  {
   "cell_type": "code",
   "execution_count": 55,
   "metadata": {},
   "outputs": [],
   "source": [
    "import matplotlib.pyplot as plt"
   ]
  },
  {
   "cell_type": "code",
   "execution_count": 56,
   "metadata": {},
   "outputs": [],
   "source": [
    "def weighted_log(x):\n",
    "\t\"\"\"\n",
    "\t:param values: values (prototypes)\n",
    "\t:return:  weights for each embeddings\n",
    "\n",
    "\tLinear interpolation\n",
    "\t\"\"\"\n",
    "\tif x > 1:\n",
    "\t\tx = np.log(x) + 1\n",
    "\telif x < -1:\n",
    "\t\tx = -1* (np.log(np.abs(x)) + 1)\n",
    "\n",
    "\treturn x"
   ]
  },
  {
   "cell_type": "code",
   "execution_count": 57,
   "metadata": {},
   "outputs": [],
   "source": [
    "# plt.hist(data,range=(-10000,10000), )\n",
    "data = np.array(data)\n",
    "data = np.array([weighted_log(i) for i in data])"
   ]
  },
  {
   "cell_type": "code",
   "execution_count": 58,
   "metadata": {},
   "outputs": [
    {
     "data": {
      "image/png": "[encoded data removed]",
      "text/plain": [
       "<matplotlib.figure.Figure at 0x1a3d3c7fd0>"
      ]
     },
     "metadata": {},
     "output_type": "display_data"
    }
   ],
   "source": [
    "sns.distplot(data)\n",
    "plt.show()"
   ]
  },
  {
   "cell_type": "code",
   "execution_count": 42,
   "metadata": {},
   "outputs": [
    {
     "name": "stdout",
     "output_type": "stream",
     "text": [
      "4.564680066418326\n"
     ]
    }
   ],
   "source": [
    "print(max(data))"
   ]
  },
  {
   "cell_type": "code",
   "execution_count": 33,
   "metadata": {},
   "outputs": [
    {
     "data": {
      "text/plain": [
       "(array([4.60000e+01, 5.60000e+01, 9.20000e+01, 1.62000e+02, 3.00600e+03,\n",
       "        3.64631e+05, 3.01560e+04, 1.64320e+04, 1.23620e+04, 1.44650e+04]),\n",
       " array([-1000.,  -800.,  -600.,  -400.,  -200.,     0.,   200.,   400.,\n",
       "          600.,   800.,  1000.]),\n",
       " <a list of 10 Patch objects>)"
      ]
     },
     "execution_count": 33,
     "metadata": {},
     "output_type": "execute_result"
    }
   ],
   "source": [
    "plt.hist(data,range=(-1000,1000))"
   ]
  },
  {
   "cell_type": "code",
   "execution_count": 16,
   "metadata": {},
   "outputs": [
    {
     "data": {
      "text/plain": [
       "(array([71381., 29810., 21900., 14360., 63389., 31425., 49155., 33362.,\n",
       "        44468., 19745., 27009., 15180., 25124.,  7645., 10983.,  7324.,\n",
       "        14218.,  6074.,  8997.,  6618., 14543.,  4945.,  6581.,  3956.,\n",
       "         9591.,  6522.,  6924.,  3633.,  7738.,  3434.,  6668.,  3239.,\n",
       "         8726.,  2905.,  5141.,  2963.,  6969.,  2826.,  5012.,  3614.,\n",
       "        13436.,  1663.,  2405.,  1427.,  2631.,  1100.,  1705.,   899.,\n",
       "         2711.,   912.,  1802.,  1349.,  2296.,   940.,  1769.,   781.,\n",
       "         1458.,   749.,  1206.,   710.,  3058.,   679.,  1000.,   577.,\n",
       "         1703.,   803.,   985.,   655.,  1172.,   555.,  1206.,   569.,\n",
       "         1652.,   587.,   851.,   508.,  1124.,   564.,   787.,   547.,\n",
       "         5695.,   583.,   902.,   658.,  1249.,   517.,   881.,   518.,\n",
       "         1235.,   568.,   967.,   473.,  1155.,   533.,   964.,   786.,\n",
       "         1162.,   549.,   661.,  2033.]),\n",
       " array([  0. ,   2.5,   5. ,   7.5,  10. ,  12.5,  15. ,  17.5,  20. ,\n",
       "         22.5,  25. ,  27.5,  30. ,  32.5,  35. ,  37.5,  40. ,  42.5,\n",
       "         45. ,  47.5,  50. ,  52.5,  55. ,  57.5,  60. ,  62.5,  65. ,\n",
       "         67.5,  70. ,  72.5,  75. ,  77.5,  80. ,  82.5,  85. ,  87.5,\n",
       "         90. ,  92.5,  95. ,  97.5, 100. , 102.5, 105. , 107.5, 110. ,\n",
       "        112.5, 115. , 117.5, 120. , 122.5, 125. , 127.5, 130. , 132.5,\n",
       "        135. , 137.5, 140. , 142.5, 145. , 147.5, 150. , 152.5, 155. ,\n",
       "        157.5, 160. , 162.5, 165. , 167.5, 170. , 172.5, 175. , 177.5,\n",
       "        180. , 182.5, 185. , 187.5, 190. , 192.5, 195. , 197.5, 200. ,\n",
       "        202.5, 205. , 207.5, 210. , 212.5, 215. , 217.5, 220. , 222.5,\n",
       "        225. , 227.5, 230. , 232.5, 235. , 237.5, 240. , 242.5, 245. ,\n",
       "        247.5, 250. ]),\n",
       " <a list of 100 Patch objects>)"
      ]
     },
     "execution_count": 16,
     "metadata": {},
     "output_type": "execute_result"
    },
    {
     "data": {
      "image/png": "[encoded data removed]",
      "text/plain": [
       "<Figure size 432x288 with 1 Axes>"
      ]
     },
     "metadata": {},
     "output_type": "display_data"
    }
   ],
   "source": [
    "plt.hist(data,range=(0,250),bins=100)"
   ]
  },
  {
   "cell_type": "code",
   "execution_count": 17,
   "metadata": {},
   "outputs": [
    {
     "data": {
      "text/plain": [
       "(array([33705., 25911., 17883., 12984., 10708.,  9498.,  7776.,  7231.,\n",
       "         6199.,  5556., 27597., 17657., 19553., 14705., 15302., 18687.,\n",
       "        16788., 14542., 15494., 17006., 24540., 11486.,  9121.,  8711.,\n",
       "        10355., 12507.,  7589.,  7456.,  7694.,  6943., 13531.,  6536.,\n",
       "         5426.,  3623.,  3653.,  5018.,  3299.,  3027.,  3555.,  3408.,\n",
       "         8643.,  2877.,  3103.,  2688.,  2981.,  4161.,  2472.,  2665.,\n",
       "         2897.,  3420.,  9465.,  2740.,  2589.,  2158.,  2536.,  2778.,\n",
       "         2149.,  1839.,  1853.,  1918.,  6230.,  1762.,  1763.,  1766.,\n",
       "         4592.,  3372.,  2004.,  1707.,  1818.,  1656.,  4500.,  1539.,\n",
       "         1850.,  1677.,  1606.,  3493.,  1499.,  1791.,  1570.,  1554.,\n",
       "         5898.,  1464.,  1481.,  1388.,  1400.,  1901.,  1721.,  1625.,\n",
       "         1524.,  1333.,  4410.,  1330.,  1352.,  1425.,  1278.,  2329.,\n",
       "         1528.,  1276.,  1488., 13417.]),\n",
       " array([  0.,   1.,   2.,   3.,   4.,   5.,   6.,   7.,   8.,   9.,  10.,\n",
       "         11.,  12.,  13.,  14.,  15.,  16.,  17.,  18.,  19.,  20.,  21.,\n",
       "         22.,  23.,  24.,  25.,  26.,  27.,  28.,  29.,  30.,  31.,  32.,\n",
       "         33.,  34.,  35.,  36.,  37.,  38.,  39.,  40.,  41.,  42.,  43.,\n",
       "         44.,  45.,  46.,  47.,  48.,  49.,  50.,  51.,  52.,  53.,  54.,\n",
       "         55.,  56.,  57.,  58.,  59.,  60.,  61.,  62.,  63.,  64.,  65.,\n",
       "         66.,  67.,  68.,  69.,  70.,  71.,  72.,  73.,  74.,  75.,  76.,\n",
       "         77.,  78.,  79.,  80.,  81.,  82.,  83.,  84.,  85.,  86.,  87.,\n",
       "         88.,  89.,  90.,  91.,  92.,  93.,  94.,  95.,  96.,  97.,  98.,\n",
       "         99., 100.]),\n",
       " <a list of 100 Patch objects>)"
      ]
     },
     "execution_count": 17,
     "metadata": {},
     "output_type": "execute_result"
    },
    {
     "data": {
      "image/png": "[encoded data removed]",
      "text/plain": [
       "<Figure size 432x288 with 1 Axes>"
      ]
     },
     "metadata": {},
     "output_type": "display_data"
    }
   ],
   "source": [
    "plt.hist(data,range=(0,100),bins=100)"
   ]
  },
  {
   "cell_type": "code",
   "execution_count": 20,
   "metadata": {},
   "outputs": [
    {
     "data": {
      "text/plain": [
       "(array([11524.,  1173.,   781.,   783.,   838.,   975.,   703.,   777.,\n",
       "          660.,   717.,  1474.,   664.,   520.,   546.,   527.,   535.,\n",
       "          487.,   708.,   459.,   415.,  1753.,   482.,   501.,   469.,\n",
       "          418.,   836.,   435.,   543.,   897.,   440.,  1448.,   422.,\n",
       "          438.,   549.,   379.,  1025.,   353.,   412.,   417.,   343.,\n",
       "          819.,   349.,   297.,   317.,   425.,   452.,   407.,   361.,\n",
       "          345.,   351.,  2335.,   379.,   361.,   332.,   330.,   413.,\n",
       "          310.,   283.,   291.,   280.,  1040.,   350.,   333.,   461.,\n",
       "          322.,   367.,   289.,   347.,   317.,   320.,   614.,   290.,\n",
       "          283.,   273.,   267.,   419.,   306.,   498.,   265.,   287.,\n",
       "         1097.,   273.,   293.,   312.,   264.,   347.,   247.,   265.,\n",
       "          279.,   221.,   475.,   271.,   389.,   314.,   239.,   274.,\n",
       "          235.,   286.,   249.,  5309.]),\n",
       " array([100., 101., 102., 103., 104., 105., 106., 107., 108., 109., 110.,\n",
       "        111., 112., 113., 114., 115., 116., 117., 118., 119., 120., 121.,\n",
       "        122., 123., 124., 125., 126., 127., 128., 129., 130., 131., 132.,\n",
       "        133., 134., 135., 136., 137., 138., 139., 140., 141., 142., 143.,\n",
       "        144., 145., 146., 147., 148., 149., 150., 151., 152., 153., 154.,\n",
       "        155., 156., 157., 158., 159., 160., 161., 162., 163., 164., 165.,\n",
       "        166., 167., 168., 169., 170., 171., 172., 173., 174., 175., 176.,\n",
       "        177., 178., 179., 180., 181., 182., 183., 184., 185., 186., 187.,\n",
       "        188., 189., 190., 191., 192., 193., 194., 195., 196., 197., 198.,\n",
       "        199., 200.]),\n",
       " <a list of 100 Patch objects>)"
      ]
     },
     "execution_count": 20,
     "metadata": {},
     "output_type": "execute_result"
    },
    {
     "data": {
      "image/png": "[encoded data removed]",
      "text/plain": [
       "<Figure size 432x288 with 1 Axes>"
      ]
     },
     "metadata": {},
     "output_type": "display_data"
    }
   ],
   "source": [
    "plt.hist(data,range=(100,200),bins=100)"
   ]
  },
  {
   "cell_type": "code",
   "execution_count": 21,
   "metadata": {},
   "outputs": [
    {
     "data": {
      "text/plain": [
       "(array([18214.,  6178.,  5768.,  6141.,  3732.,  5323.,  3630.,  3327.,\n",
       "         3695.,  2501.,  2732.,  7482.,  3010.,  3022.,  2710.,  3207.,\n",
       "         3538.,  3081.,  2440.,  1801.,  1904.,  1694.,  5257.,  1989.,\n",
       "         2140.,  1942.,  1739.,  1993.,  2474.,  1531.,  1664.,  1844.,\n",
       "         1416.,  3841.,  1436.,  1417.,  1555.,  1288.,  1692.,  1200.,\n",
       "         1156.,  1128.,  1410.,  1012.,  4631.,  1457.,  1022.,  1129.,\n",
       "         1161.,   860.,  1213.,   881.,  1015.,   961.,   930.,  2645.,\n",
       "         1119.,   975.,  1114.,   976.,   992.,  1207.,   998.,   917.,\n",
       "          851.,   767.,  1983.,  1008.,  1052.,   864.,   999.,  1449.,\n",
       "         1398.,   816.,  1177.,   868.,   852.,  2341.,  1580.,   857.,\n",
       "          764.,   735.,   887.,  1048.,   800.,  1023.,   879.,   893.,\n",
       "         1596.,   831.,  1349.,   875.,  1037.,   901.,   842.,   933.,\n",
       "          905.,   831.,   763.,  5899.]),\n",
       " array([ 100.,  109.,  118.,  127.,  136.,  145.,  154.,  163.,  172.,\n",
       "         181.,  190.,  199.,  208.,  217.,  226.,  235.,  244.,  253.,\n",
       "         262.,  271.,  280.,  289.,  298.,  307.,  316.,  325.,  334.,\n",
       "         343.,  352.,  361.,  370.,  379.,  388.,  397.,  406.,  415.,\n",
       "         424.,  433.,  442.,  451.,  460.,  469.,  478.,  487.,  496.,\n",
       "         505.,  514.,  523.,  532.,  541.,  550.,  559.,  568.,  577.,\n",
       "         586.,  595.,  604.,  613.,  622.,  631.,  640.,  649.,  658.,\n",
       "         667.,  676.,  685.,  694.,  703.,  712.,  721.,  730.,  739.,\n",
       "         748.,  757.,  766.,  775.,  784.,  793.,  802.,  811.,  820.,\n",
       "         829.,  838.,  847.,  856.,  865.,  874.,  883.,  892.,  901.,\n",
       "         910.,  919.,  928.,  937.,  946.,  955.,  964.,  973.,  982.,\n",
       "         991., 1000.]),\n",
       " <a list of 100 Patch objects>)"
      ]
     },
     "execution_count": 21,
     "metadata": {},
     "output_type": "execute_result"
    },
    {
     "data": {
      "image/png": "[encoded data removed]",
      "text/plain": [
       "<Figure size 432x288 with 1 Axes>"
      ]
     },
     "metadata": {},
     "output_type": "display_data"
    }
   ],
   "source": [
    "plt.hist(data,range=(100,1000),bins=100)"
   ]
  },
  {
   "cell_type": "code",
   "execution_count": 23,
   "metadata": {},
   "outputs": [
    {
     "data": {
      "text/plain": [
       "(array([5.84300e+03, 1.03000e+03, 9.83000e+02, 7.57000e+02, 7.49000e+02,\n",
       "        6.30000e+02, 7.14000e+02, 7.38000e+02, 6.69000e+02, 1.22500e+03,\n",
       "        8.24000e+02, 7.48000e+02, 7.41000e+02, 8.09000e+02, 7.20000e+02,\n",
       "        6.67000e+02, 8.25000e+02, 8.88000e+02, 1.99400e+03, 9.88000e+02,\n",
       "        8.81000e+02, 8.07000e+02, 9.70000e+02, 9.81000e+02, 9.18000e+02,\n",
       "        9.53000e+02, 8.03000e+02, 1.36100e+03, 7.75000e+02, 9.26000e+02,\n",
       "        9.39000e+02, 1.09700e+03, 8.03000e+02, 8.65000e+02, 9.61000e+02,\n",
       "        8.72000e+02, 1.46400e+03, 9.36000e+02, 8.54000e+02, 9.73000e+02,\n",
       "        1.07200e+03, 1.30500e+03, 1.12100e+03, 1.33100e+03, 1.78300e+03,\n",
       "        3.36100e+03, 2.06500e+03, 2.65300e+03, 2.03700e+03, 2.28300e+03,\n",
       "        2.37500e+03, 2.13100e+03, 2.14400e+03, 2.12700e+03, 3.23100e+03,\n",
       "        2.58200e+03, 2.55300e+03, 2.36900e+03, 3.07000e+03, 2.80700e+03,\n",
       "        2.91100e+03, 2.19400e+03, 2.63900e+03, 2.90700e+03, 2.98800e+03,\n",
       "        3.27500e+03, 2.64900e+03, 2.65500e+03, 3.39800e+03, 3.56500e+03,\n",
       "        5.05100e+03, 5.56800e+03, 7.84100e+03, 6.98800e+03, 8.24600e+03,\n",
       "        8.24800e+03, 9.51700e+03, 1.09790e+04, 1.44710e+04, 1.48800e+04,\n",
       "        1.76830e+04, 2.17420e+04, 2.67590e+04, 3.87720e+04, 4.01100e+04,\n",
       "        4.96020e+04, 5.04060e+04, 6.17530e+04, 7.39820e+04, 8.40990e+04,\n",
       "        1.13221e+05, 1.54224e+05, 8.89700e+04, 8.19000e+02, 2.48000e+02,\n",
       "        4.10000e+02, 1.44000e+02, 9.80000e+01, 1.01000e+02, 3.52000e+02]),\n",
       " array([1000., 1011., 1022., 1033., 1044., 1055., 1066., 1077., 1088.,\n",
       "        1099., 1110., 1121., 1132., 1143., 1154., 1165., 1176., 1187.,\n",
       "        1198., 1209., 1220., 1231., 1242., 1253., 1264., 1275., 1286.,\n",
       "        1297., 1308., 1319., 1330., 1341., 1352., 1363., 1374., 1385.,\n",
       "        1396., 1407., 1418., 1429., 1440., 1451., 1462., 1473., 1484.,\n",
       "        1495., 1506., 1517., 1528., 1539., 1550., 1561., 1572., 1583.,\n",
       "        1594., 1605., 1616., 1627., 1638., 1649., 1660., 1671., 1682.,\n",
       "        1693., 1704., 1715., 1726., 1737., 1748., 1759., 1770., 1781.,\n",
       "        1792., 1803., 1814., 1825., 1836., 1847., 1858., 1869., 1880.,\n",
       "        1891., 1902., 1913., 1924., 1935., 1946., 1957., 1968., 1979.,\n",
       "        1990., 2001., 2012., 2023., 2034., 2045., 2056., 2067., 2078.,\n",
       "        2089., 2100.]),\n",
       " <a list of 100 Patch objects>)"
      ]
     },
     "execution_count": 23,
     "metadata": {},
     "output_type": "execute_result"
    },
    {
     "data": {
      "image/png": "[encoded data removed]",
      "text/plain": [
       "<Figure size 432x288 with 1 Axes>"
      ]
     },
     "metadata": {},
     "output_type": "display_data"
    }
   ],
   "source": [
    "plt.hist(data,range=(1000,2100),bins=100)"
   ]
  },
  {
   "cell_type": "code",
   "execution_count": 2,
   "metadata": {},
   "outputs": [],
   "source": [
    "a = np.array([0.8, 0.1,0.05, 0.05])"
   ]
  },
  {
   "cell_type": "code",
   "execution_count": 13,
   "metadata": {},
   "outputs": [],
   "source": [
    "s = np.power(a, 0.0)"
   ]
  },
  {
   "cell_type": "code",
   "execution_count": 14,
   "metadata": {},
   "outputs": [],
   "source": [
    "s /= s.sum()"
   ]
  },
  {
   "cell_type": "code",
   "execution_count": 15,
   "metadata": {},
   "outputs": [
    {
     "data": {
      "text/plain": [
       "array([0.25, 0.25, 0.25, 0.25])"
      ]
     },
     "execution_count": 15,
     "metadata": {},
     "output_type": "execute_result"
    }
   ],
   "source": [
    "s"
   ]
  },
  {
   "cell_type": "code",
   "execution_count": null,
   "metadata": {},
   "outputs": [],
   "source": []
  }
 ],
 "metadata": {
  "kernelspec": {
   "display_name": "Python 3",
   "language": "python",
   "name": "python3"
  },
  "language_info": {
   "codemirror_mode": {
    "name": "ipython",
    "version": 3
   },
   "file_extension": ".py",
   "mimetype": "text/x-python",
   "name": "python",
   "nbconvert_exporter": "python",
   "pygments_lexer": "ipython3",
   "version": "3.6.2"
  }
 },
 "nbformat": 4,
 "nbformat_minor": 1
}
