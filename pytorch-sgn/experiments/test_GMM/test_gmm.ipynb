{
 "cells": [
  {
   "cell_type": "code",
   "execution_count": 1,
   "metadata": {},
   "outputs": [],
   "source": [
    "%load_ext autoreload\n",
    "%autoreload 2\n",
    "import pickle\n",
    "import numpy as np\n",
    "import sys\n",
    "import torch as t\n",
    "import matplotlib.pyplot as plt\n",
    "import glob\n",
    "import seaborn as sns\n",
    "from sklearn.mixture import GaussianMixture\n",
    "sys.path.append('../../')\n",
    "from utils.number_handler import to_numeral\n",
    "import random"
   ]
  },
  {
   "cell_type": "code",
   "execution_count": 3,
   "metadata": {},
   "outputs": [
    {
     "name": "stdout",
     "output_type": "stream",
     "text": [
      "Initialization 0\n",
      "  Iteration 0\t time lapse 0.00246s\t ll change inf\n",
      "Initialization converged: True\t time lapse 0.00412s\t ll -1.86883\n"
     ]
    },
    {
     "data": {
      "text/plain": [
       "GaussianMixture(covariance_type='full', init_params='random', max_iter=10,\n",
       "        means_init=None, n_components=3, n_init=1, precisions_init=None,\n",
       "        random_state=None, reg_covar=1e-06, tol=0.001, verbose=10,\n",
       "        verbose_interval=10, warm_start=False, weights_init=None)"
      ]
     },
     "execution_count": 3,
     "metadata": {},
     "output_type": "execute_result"
    }
   ],
   "source": [
    "# data = np.array([1,2,3,6,7,8,9,10,11])\n",
    "# data = data.reshape(-1,1)\n",
    "# gmm = GaussianMixture(3, max_iter=10, n_init=1, verbose=10, init_params='random')\n",
    "# gmm.fit(data)"
   ]
  },
  {
   "cell_type": "code",
   "execution_count": 5,
   "metadata": {},
   "outputs": [
    {
     "data": {
      "text/plain": [
       "array([[[5.36000100e+00]],\n",
       "\n",
       "       [[6.66667667e-01]],\n",
       "\n",
       "       [[1.00000000e-06]]])"
      ]
     },
     "execution_count": 5,
     "metadata": {},
     "output_type": "execute_result"
    }
   ],
   "source": [
    "# gmm.covariances_"
   ]
  },
  {
   "cell_type": "code",
   "execution_count": 8,
   "metadata": {},
   "outputs": [
    {
     "name": "stdout",
     "output_type": "stream",
     "text": [
      "total number of different numerals:  27683\n",
      "total number of numeral samples:  1226210\n"
     ]
    }
   ],
   "source": [
    "n_components = 50\n",
    "gmm = GaussianMixture(n_components, max_iter=100, n_init=1, verbose=10, init_params='kmeans')\n",
    "nc = pickle.load(open('../numeral_context/build/0.05Bnotable/nc.dat', 'rb'))\n",
    "\n",
    "random.seed(100)\n",
    "# unfold and shuffle nc data\n",
    "data = []\n",
    "for k, v in nc.items():\n",
    "    if to_numeral(k) == None:\n",
    "        print('invalid numeral {}'.format(k))\n",
    "    else:\n",
    "        data += [[to_numeral(k)]]*v\n",
    "\n",
    "print('total number of different numerals: ', len(nc))\n",
    "print('total number of numeral samples: ', len(data))"
   ]
  },
  {
   "cell_type": "code",
   "execution_count": 9,
   "metadata": {},
   "outputs": [
    {
     "name": "stdout",
     "output_type": "stream",
     "text": [
      "Initialization 0\n",
      "  Iteration 0\t time lapse 13.88721s\t ll change inf\n",
      "  Iteration 10\t time lapse 83.54703s\t ll change 0.00732\n",
      "Initialization converged: True\t time lapse 172.34606s\t ll -8.57005\n"
     ]
    },
    {
     "data": {
      "text/plain": [
       "GaussianMixture(covariance_type='full', init_params='kmeans', max_iter=100,\n",
       "        means_init=None, n_components=50, n_init=1, precisions_init=None,\n",
       "        random_state=None, reg_covar=1e-06, tol=0.001, verbose=10,\n",
       "        verbose_interval=10, warm_start=False, weights_init=None)"
      ]
     },
     "execution_count": 9,
     "metadata": {},
     "output_type": "execute_result"
    }
   ],
   "source": [
    "random.shuffle(data)\n",
    "data = np.array(data).reshape(-1,1)\n",
    "gmm.fit(data)\n",
    "# gmm._initialize_parameters(data, np.random.mtrand._rand)"
   ]
  },
  {
   "cell_type": "code",
   "execution_count": 10,
   "metadata": {},
   "outputs": [],
   "source": [
    "def single_variable_gaussian(x, mu, sigma):\n",
    "    return 1. / (np.sqrt(2. * np.pi) * sigma) * np.exp(-np.power((x - mu) / sigma, 2.) / 2)\n",
    "\n",
    "def draw(gmm):\n",
    "    \n",
    "    info_list = [(gmm.means_[i][0],gmm.covariances_[i][0][0], gmm.weights_[i]) for i in range(len(gmm.means_))]\n",
    "    print('mean, sigma, weights')\n",
    "    for i in info_list:\n",
    "        print(i)\n",
    "    \n",
    "    \n",
    "    x = np.array([])\n",
    "    for i in range(len(gmm.means_)):\n",
    "        range_min, range_max = gmm.means_[i][0] -  gmm.covariances_[i][0] * 2, gmm.means_[i][0] +  gmm.covariances_[i][0] * 2\n",
    "        x = np.append(x, np.linspace(range_min, range_max, 100))\n",
    "    x.sort()\n",
    "    \n",
    "    sum_y = np.zeros_like(x)\n",
    "    plt.figure(0)\n",
    "    plt.subplot(311)\n",
    "    plt.title('{} components'.format(len(gmm.means_)))\n",
    "    for i in range(len(gmm.means_)):\n",
    "\n",
    "        y = single_variable_gaussian(x, gmm.means_[i][0], gmm.covariances_[i][0])\n",
    "        y[y > 1] = 0 # set to 0 for better plot!\n",
    "        sum_y += y * gmm.weights_[i]\n",
    "        plt.plot(x, y)\n",
    "        plt.xlim(0, 1e4)\n",
    "        plt.ylim(0,3e-3)\n",
    "        \n",
    "        plt.xlim(-1e19,1e19)\n",
    "        plt.ylim(0,3e-19)\n",
    "        \n",
    "    plt.show()\n",
    "\n",
    "    plt.subplot(312)\n",
    "\n",
    "    plt.title('{} mixtures'.format(len(gmm.means_)))\n",
    "\n",
    "    plt.plot(x, sum_y, 'g-')\n",
    "    plt.xlim(0, 1e9)\n",
    "    plt.ylim(0,3e-22)\n",
    "    plt.show()\n",
    "    \n",
    "    plt.subplot(313)\n",
    "\n",
    "    plt.title('means (log scale)'.format(len(gmm.means_)))\n",
    "    hist, bins, _  = plt.hist(np.log(np.abs(gmm.means_)), bins=20,)\n",
    "\n",
    "#     plt.ylim(0,3e-22)\n",
    "    plt.show()\n",
    "    "
   ]
  },
  {
   "cell_type": "code",
   "execution_count": null,
   "metadata": {},
   "outputs": [],
   "source": [
    "gmm_25 = pickle.load(open('gmms/gmm-25.dat','rb'))\n",
    "gmm_30 = pickle.load(open('gmms/gmm-30.dat','rb'))\n",
    "gmm_50 = pickle.load(open('gmms/gmm-50.dat','rb'))\n",
    "gmm_100 = pickle.load(open('gmms/gmm-100.dat','rb'))\n",
    "gmm_200 = pickle.load(open('gmms/gmm-200.dat','rb'))\n",
    "gmm_300 = pickle.load(open('gmms/gmm-300.dat','rb'))\n",
    "gmm_300_fp = pickle.load(open('gmms/gmm-300-fp.dat','rb'))"
   ]
  },
  {
   "cell_type": "code",
   "execution_count": 11,
   "metadata": {},
   "outputs": [
    {
     "name": "stdout",
     "output_type": "stream",
     "text": [
      "mean, sigma, weights\n",
      "(1253.8248039911482, 831655.3610528646, 0.9676352337690934)\n",
      "(810075794964478.2, 3.0625009999999935, 8.155209955880332e-07)\n",
      "(20110662522197.33, 6.720569356046972e+16, 4.89312597352819e-06)\n",
      "(140737471578111.69, 0.09765724999999978, 8.155209955880332e-07)\n",
      "(80738162573311.83, 0.029542015624999935, 8.155209955880332e-07)\n",
      "(9781139870842.879, 7.859941835906121e+17, 2.038802488970079e-05)\n",
      "(174236001894399.62, 0.1406259999999997, 8.155209955880332e-07)\n",
      "(37487940468735.96, 5.225319059842657e+16, 1.6310419911760646e-06)\n",
      "(70343221837823.92, 70368744177663.92, 1.6310419911760646e-06)\n",
      "(-9780199423999.979, 0.000462578369140624, 8.155209955880332e-07)\n",
      "(14946175811583.967, 0.0011034475097656225, 8.155209955880332e-07)\n",
      "(7256228757503.984, 0.0002451406249999995, 8.155209955880332e-07)\n",
      "(715334261145.5997, 1.7281746305790126e+19, 4.077604977940159e-06)\n",
      "(11111109754879.975, 0.0006456838378906236, 8.155209955880332e-07)\n",
      "(19358822694911.957, 0.0018473134765624958, 8.155209955880332e-07)\n",
      "(9276292071423.99, 5.961455563656129e+18, 1.6310419911760646e-06)\n",
      "(7890182602751.982, 0.0003099904785156243, 8.155209955880332e-07)\n",
      "(137438691327.99985, 1.023283064365387e-06, 1.6310419911760646e-06)\n",
      "(20050980722005.33, 8.448598480647325e+16, 4.89312597352819e-06)\n",
      "(499999997951.9989, 2.2069940567016574e-06, 8.155209955880332e-07)\n",
      "(59255765674.666626, 2.381903322581989e+19, 2.446562986764096e-06)\n",
      "(308379647999.9993, 1.4507601261138905e-06, 8.155209955880332e-07)\n",
      "(20140878777548.797, 8.381638711187603e+16, 8.155209955880315e-06)\n",
      "(8692149678.98734, 1.5123974326848287e+19, 6.442615865145448e-05)\n",
      "(78610572902.39998, 1.4249146976630623e+18, 4.077604977940159e-06)\n",
      "(-84930248703.99982, 1.0335276126861572e-06, 8.155209955880332e-07)\n",
      "(189011460095.99957, 1.1825392246246333e-06, 8.155209955880332e-07)\n",
      "(20070694230425.594, 2.413355895005537e+17, 4.077604977940159e-06)\n",
      "(20180224704511.957, 0.0018473134765624958, 8.155209955880332e-07)\n",
      "(20013941522431.984, 2.0322176659160547e+19, 2.446562986764096e-06)\n",
      "(2920823.25652886, 19976961659923.195, 0.0046060625830812016)\n",
      "(32103329791.999996, 1.4252437260975135e+19, 1.1417293938232442e-05)\n",
      "(20060697840844.797, 5.382957141428534e+16, 1.631041991176063e-05)\n",
      "(99994875221.33325, 52484738966414.19, 2.446562986764096e-06)\n",
      "(7220386332671.984, 0.0002451406249999995, 8.155209955880332e-07)\n",
      "(20090653944490.652, 1.449693864426791e+16, 2.446562986764096e-06)\n",
      "(20030669455359.977, 2.042463794872973e+17, 1.6310419911760646e-06)\n",
      "(155999289343.99988, 4.139580558549675e+19, 2.446562986764096e-06)\n",
      "(20160463241215.977, 2128654511374333.8, 1.6310419911760646e-06)\n",
      "(20130437057740.793, 5.276881757138844e+16, 4.077604977940159e-06)\n",
      "(210979635199.99954, 1.2095475792884822e-06, 8.155209955880332e-07)\n",
      "(74707.0834306169, 9955123665.290955, 0.026996191516950603)\n",
      "(121753414314.66658, 4.194924858591835e+19, 2.446562986764096e-06)\n",
      "(20100678331050.652, 2.0937437955128598e+17, 2.446562986764096e-06)\n",
      "(48417489919.99998, 2.5335945828845476e+18, 3.262083982352127e-06)\n",
      "(373613367.32365745, 4.126889985570393e+17, 0.0005618939659601536)\n",
      "(20120431230975.992, 6.753502783497827e+16, 3.262083982352127e-06)\n",
      "(20150875761322.652, 3.92491444087612e+16, 2.446562986764096e-06)\n",
      "(20040715162965.32, 1.2978439785534066e+17, 2.446562986764096e-06)\n",
      "(20080408657919.977, 1.0559709673160692e+16, 1.6310419911760646e-06)\n"
     ]
    },
    {
     "data": {
      "image/png": "[encoded data removed]",
      "text/plain": [
       "<Figure size 432x288 with 1 Axes>"
      ]
     },
     "metadata": {},
     "output_type": "display_data"
    },
    {
     "data": {
      "image/png": "[encoded data removed]",
      "text/plain": [
       "<Figure size 432x288 with 1 Axes>"
      ]
     },
     "metadata": {},
     "output_type": "display_data"
    },
    {
     "data": {
      "image/png": "[encoded data removed]",
      "text/plain": [
       "<Figure size 432x288 with 1 Axes>"
      ]
     },
     "metadata": {},
     "output_type": "display_data"
    }
   ],
   "source": [
    "draw(gmm)"
   ]
  },
  {
   "cell_type": "code",
   "execution_count": null,
   "metadata": {},
   "outputs": [],
   "source": [
    "draw(gmm_100)"
   ]
  },
  {
   "cell_type": "code",
   "execution_count": null,
   "metadata": {},
   "outputs": [],
   "source": [
    "draw(gmm_300)"
   ]
  },
  {
   "cell_type": "code",
   "execution_count": null,
   "metadata": {},
   "outputs": [],
   "source": [
    "draw(gmm_300)"
   ]
  },
  {
   "cell_type": "code",
   "execution_count": null,
   "metadata": {},
   "outputs": [],
   "source": [
    "# trained_prototypes = pickle.load(open('../numeral_context/build/alpha/trained_prototypes_epoch5_300_0.5.dat', 'rb'))\n",
    "# prototypes = trained_prototypes['prototypes']\n",
    "prototypes = np.random.choice(data.reshape(-1), n_components)\n",
    "mus = prototypes\n",
    "min_sigma = 1e-6"
   ]
  },
  {
   "cell_type": "code",
   "execution_count": null,
   "metadata": {},
   "outputs": [],
   "source": [
    "diff = np.abs(data.reshape(len(data)) - mus[:,np.newaxis])"
   ]
  },
  {
   "cell_type": "code",
   "execution_count": null,
   "metadata": {},
   "outputs": [],
   "source": [
    "amin = np.argmin(diff, axis=0)"
   ]
  },
  {
   "cell_type": "code",
   "execution_count": null,
   "metadata": {},
   "outputs": [],
   "source": [
    "K = len(prototypes)\n",
    "clusters = [[0] for i in range(K)]\n",
    "for i in range(len(data)):\n",
    "    clusters[amin[i]].append(data[i])"
   ]
  },
  {
   "cell_type": "code",
   "execution_count": null,
   "metadata": {},
   "outputs": [],
   "source": [
    "means = np.array([np.mean(i) for i in clusters]).reshape(-1,1)"
   ]
  },
  {
   "cell_type": "code",
   "execution_count": null,
   "metadata": {},
   "outputs": [],
   "source": [
    "covs = np.array([np.std(i) if len(i) > 1 else min_sigma for i in clusters]).reshape(-1,1,1)"
   ]
  },
  {
   "cell_type": "code",
   "execution_count": null,
   "metadata": {},
   "outputs": [],
   "source": [
    "weights = np.array([len(c) for c in clusters])"
   ]
  },
  {
   "cell_type": "code",
   "execution_count": null,
   "metadata": {},
   "outputs": [],
   "source": [
    "weights = weights / np.sum(weights)"
   ]
  },
  {
   "cell_type": "code",
   "execution_count": null,
   "metadata": {},
   "outputs": [],
   "source": [
    "precision = np.linalg.inv(covs)"
   ]
  },
  {
   "cell_type": "code",
   "execution_count": null,
   "metadata": {},
   "outputs": [],
   "source": [
    "gmm = GaussianMixture(n_components, max_iter=100, n_init=1, verbose=10, means_init=means, precisions_init= precision, weights_init= weights)"
   ]
  },
  {
   "cell_type": "code",
   "execution_count": null,
   "metadata": {},
   "outputs": [],
   "source": [
    "gmm.fit(data)"
   ]
  },
  {
   "cell_type": "code",
   "execution_count": null,
   "metadata": {},
   "outputs": [],
   "source": [
    "draw(gmm)"
   ]
  },
  {
   "cell_type": "code",
   "execution_count": null,
   "metadata": {},
   "outputs": [],
   "source": []
  }
 ],
 "metadata": {
  "kernelspec": {
   "display_name": "py3",
   "language": "python",
   "name": "py3"
  },
  "language_info": {
   "codemirror_mode": {
    "name": "ipython",
    "version": 3
   },
   "file_extension": ".py",
   "mimetype": "text/x-python",
   "name": "python",
   "nbconvert_exporter": "python",
   "pygments_lexer": "ipython3",
   "version": "3.6.5"
  }
 },
 "nbformat": 4,
 "nbformat_minor": 2
}
