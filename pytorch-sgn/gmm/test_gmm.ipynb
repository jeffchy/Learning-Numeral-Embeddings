{
 "cells": [
  {
   "cell_type": "code",
   "execution_count": 280,
   "metadata": {},
   "outputs": [
    {
     "name": "stdout",
     "output_type": "stream",
     "text": [
      "The autoreload extension is already loaded. To reload it, use:\n",
      "  %reload_ext autoreload\n"
     ]
    }
   ],
   "source": [
    "%load_ext autoreload\n",
    "%autoreload 2\n",
    "from sklearn.mixture import GaussianMixture\n",
    "import matplotlib.pyplot as plt\n",
    "import numpy as np"
   ]
  },
  {
   "cell_type": "code",
   "execution_count": 368,
   "metadata": {},
   "outputs": [],
   "source": [
    "data = [1,2,3, 8,9,10, 11,12, 1000,1030,1050,940, -110, -117, -100]"
   ]
  },
  {
   "cell_type": "code",
   "execution_count": 369,
   "metadata": {},
   "outputs": [],
   "source": [
    "X1 = np.array(data).reshape(-1,1)"
   ]
  },
  {
   "cell_type": "code",
   "execution_count": 401,
   "metadata": {},
   "outputs": [],
   "source": [
    "gmm = GaussianMixture(3, n_init=10)"
   ]
  },
  {
   "cell_type": "code",
   "execution_count": 402,
   "metadata": {},
   "outputs": [
    {
     "name": "stdout",
     "output_type": "stream",
     "text": [
      "-4.558345470186538\n"
     ]
    }
   ],
   "source": [
    "gmm.fit(X1)\n",
    "print(gmm.score(X1))"
   ]
  },
  {
   "cell_type": "code",
   "execution_count": 403,
   "metadata": {},
   "outputs": [
    {
     "data": {
      "text/plain": [
       "array([[   7.],\n",
       "       [1005.],\n",
       "       [-109.]])"
      ]
     },
     "execution_count": 403,
     "metadata": {},
     "output_type": "execute_result"
    }
   ],
   "source": [
    "gmm.means_"
   ]
  },
  {
   "cell_type": "code",
   "execution_count": 404,
   "metadata": {},
   "outputs": [
    {
     "data": {
      "text/plain": [
       "array([[[  16.500001  ]],\n",
       "\n",
       "       [[1725.000001  ]],\n",
       "\n",
       "       [[  48.66666767]]])"
      ]
     },
     "execution_count": 404,
     "metadata": {},
     "output_type": "execute_result"
    }
   ],
   "source": [
    "gmm.covariances_"
   ]
  },
  {
   "cell_type": "code",
   "execution_count": 405,
   "metadata": {},
   "outputs": [
    {
     "data": {
      "text/plain": [
       "array([[1.00000000e+000, 1.86879203e-128, 6.66171522e-055],\n",
       "       [1.00000000e+000, 2.39575415e-128, 4.92872766e-056],\n",
       "       [1.00000000e+000, 3.26131415e-128, 3.79560139e-057],\n",
       "       [1.00000000e+000, 3.75129516e-127, 1.87484224e-062],\n",
       "       [1.00000000e+000, 7.32059348e-127, 1.83608426e-063],\n",
       "       [1.00000000e+000, 1.51698210e-126, 1.87161924e-064],\n",
       "       [1.00000000e+000, 3.33798001e-126, 1.98581786e-065],\n",
       "       [1.00000000e+000, 7.79930886e-126, 2.19309953e-066],\n",
       "       [0.00000000e+000, 1.00000000e+000, 0.00000000e+000],\n",
       "       [0.00000000e+000, 1.00000000e+000, 0.00000000e+000],\n",
       "       [0.00000000e+000, 1.00000000e+000, 0.00000000e+000],\n",
       "       [0.00000000e+000, 1.00000000e+000, 0.00000000e+000],\n",
       "       [3.25138234e-180, 7.15158846e-158, 1.00000000e+000],\n",
       "       [3.90400725e-202, 1.45985815e-159, 1.00000000e+000],\n",
       "       [2.23050721e-150, 1.01378872e-154, 1.00000000e+000]])"
      ]
     },
     "execution_count": 405,
     "metadata": {},
     "output_type": "execute_result"
    }
   ],
   "source": [
    "gmm.predict_proba(X1)"
   ]
  },
  {
   "cell_type": "code",
   "execution_count": null,
   "metadata": {},
   "outputs": [],
   "source": []
  },
  {
   "cell_type": "code",
   "execution_count": 408,
   "metadata": {},
   "outputs": [],
   "source": [
    "def single_variable_gaussian(x, mu, sigma):\n",
    "    return 1./(np.sqrt(2.*np.pi)*sigma)*np.exp(-np.power((x - mu)/sigma, 2.)/2)\n",
    "\n",
    "def draw(gmm, X):\n",
    "    x_min, x_max = min(X), max(X)\n",
    "    x = np.linspace(x_min, x_max, int(x_max - x_min)*2)\n",
    "    sum_y = np.zeros_like(x)\n",
    "    sum_yp = np.zeros_like(X, dtype=np.float)\n",
    "    plt.figure(0)\n",
    "    plt.title('components')\n",
    "    for i in range(len(gmm.means_)):\n",
    "        y = single_variable_gaussian(x, gmm.means_[i][0], gmm.covariances_[i][0])\n",
    "        sum_y += y\n",
    "        y[y > 1] = 1\n",
    "        yp = single_variable_gaussian(X, gmm.means_[i][0], gmm.covariances_[i][0])\n",
    "        yp[yp > 1] = 1\n",
    "        sum_yp += yp\n",
    "        plt.plot(x, y)\n",
    "        plt.scatter(X, yp, marker='o', color=\"orange\")\n",
    "    plt.savefig('components.png')\n",
    "    \n",
    "    plt.figure(1)\n",
    "    plt.title('mixtures')\n",
    "    plt.plot(x, sum_y, 'g-')\n",
    "    plt.scatter(X, sum_yp, marker='o', color=\"red\")\n",
    "    plt.savefig('mixtures.png')"
   ]
  },
  {
   "cell_type": "code",
   "execution_count": 409,
   "metadata": {},
   "outputs": [
    {
     "data": {
      "image/png": "[encoded data removed]",
      "text/plain": [
       "<Figure size 432x288 with 1 Axes>"
      ]
     },
     "metadata": {},
     "output_type": "display_data"
    },
    {
     "data": {
      "image/png": "[encoded data removed]",
      "text/plain": [
       "<Figure size 432x288 with 1 Axes>"
      ]
     },
     "metadata": {},
     "output_type": "display_data"
    }
   ],
   "source": [
    "draw(gmm, X1)"
   ]
  },
  {
   "cell_type": "code",
   "execution_count": null,
   "metadata": {},
   "outputs": [],
   "source": []
  },
  {
   "cell_type": "code",
   "execution_count": null,
   "metadata": {},
   "outputs": [],
   "source": []
  }
 ],
 "metadata": {
  "kernelspec": {
   "display_name": "py3",
   "language": "python",
   "name": "py3"
  },
  "language_info": {
   "codemirror_mode": {
    "name": "ipython",
    "version": 3
   },
   "file_extension": ".py",
   "mimetype": "text/x-python",
   "name": "python",
   "nbconvert_exporter": "python",
   "pygments_lexer": "ipython3",
   "version": "3.6.5"
  }
 },
 "nbformat": 4,
 "nbformat_minor": 1
}
