{
 "cells": [
  {
   "cell_type": "code",
   "execution_count": 16,
   "metadata": {},
   "outputs": [
    {
     "name": "stdout",
     "output_type": "stream",
     "text": [
      "The autoreload extension is already loaded. To reload it, use:\n",
      "  %reload_ext autoreload\n"
     ]
    }
   ],
   "source": [
    "%load_ext autoreload\n",
    "%autoreload 2\n",
    "from som import MiniSom as SOM\n",
    "import matplotlib.pyplot as plt\n",
    "import numpy as np\n",
    "import sys"
   ]
  },
  {
   "cell_type": "code",
   "execution_count": 54,
   "metadata": {},
   "outputs": [],
   "source": [
    "data = [[ 1],\n",
    "        [ 2],\n",
    "        [ 3],\n",
    "        [ 14],\n",
    "        [ 1114],\n",
    "        [ 3],\n",
    "        [ 33],\n",
    "        [ 0.77],\n",
    "        [ 0.07],\n",
    "        [-1],\n",
    "        [-1000000]]     "
   ]
  },
  {
   "cell_type": "code",
   "execution_count": 57,
   "metadata": {
    "scrolled": true
   },
   "outputs": [
    {
     "name": "stdout",
     "output_type": "stream",
     "text": [
      "Training...\n",
      "error: 0.7106774325894318, error std: 306.2683130487572, iteration:0\n",
      "error: 0.0, error std: 104.97114245886118, iteration:1000\n",
      "error: 0.1895236926218261, error std: 0.17005744010832277, iteration:2000\n",
      "error: 0.0, error std: 0.27880464945083244, iteration:3000\n",
      "error: 0.15967577436222524, error std: 0.2488208250346134, iteration:4000\n",
      "error: 0.3010484565190601, error std: 0.2311937203704341, iteration:5000\n",
      "error: 0.17931902964441854, error std: 0.28147885809462475, iteration:6000\n",
      "error: 0.0, error std: 0.1712369232516755, iteration:7000\n",
      "error: 0.39146870558045355, error std: 0.14743012081594364, iteration:8000\n",
      "error: 0.045335853150570427, error std: 0.10921032540852131, iteration:9000\n",
      "error: 0.0, error std: 0.14950788669599566, iteration:10000\n",
      "error: 0.6411467624847241, error std: 0.1977249233128903, iteration:11000\n",
      "error: 0.3081644608523586, error std: 0.1526836824746365, iteration:12000\n",
      "error: 0.21631149091608992, error std: 0.27249289270220806, iteration:13000\n",
      "error: 0.11915796180646465, error std: 0.1835617148262643, iteration:14000\n",
      "error: 0.0, error std: 0.2508100100093114, iteration:15000\n",
      "error: 0.025868111101355118, error std: 0.13204785184692414, iteration:16000\n",
      "error: 0.3652094861292059, error std: 0.184267797992868, iteration:17000\n",
      "error: 0.2647274525753406, error std: 0.16327007677984495, iteration:18000\n",
      "error: 0.06666828526703417, error std: 0.11654717258395733, iteration:19000\n",
      "error: 0.36840989897156473, error std: 0.17572661661487698, iteration:20000\n",
      "error: 0.2835516457389651, error std: 0.21211347481878953, iteration:21000\n",
      "error: 0.0, error std: 0.14034319705182213, iteration:22000\n",
      "error: 0.0, error std: 0.14860603355203225, iteration:23000\n",
      "error: 0.15864295410366247, error std: 0.13500121629883835, iteration:24000\n",
      "error: 0.0, error std: 0.1063240537571263, iteration:25000\n",
      "error: 0.0212668154467065, error std: 0.16130043002327213, iteration:26000\n",
      "error: 0.47247870496258537, error std: 0.16455292140480185, iteration:27000\n",
      "error: 0.38120674433501756, error std: 0.15218068551602715, iteration:28000\n",
      "error: 0.0, error std: 0.14965894089295215, iteration:29000\n",
      "error: 0.3718858203183303, error std: 0.16473739481659, iteration:30000\n",
      "error: 0.18702868541702933, error std: 0.15673331256137232, iteration:31000\n",
      "error: 0.15100294950552928, error std: 0.1632179116534406, iteration:32000\n",
      "error: 0.2964619768942989, error std: 0.17883014074103393, iteration:33000\n",
      "...ready!\n"
     ]
    }
   ],
   "source": [
    "som = SOM(5, 1, 1, sigma=0.03, learning_rate=0.3) # initialization of 6x6 SOM\n",
    "print(\"Training...\")\n",
    "# som.random_weights_init(data)\n",
    "som.train_random(data, 100000) # trains the SOM with 100 iterations\n",
    "print(\"...ready!\")"
   ]
  },
  {
   "cell_type": "code",
   "execution_count": null,
   "metadata": {},
   "outputs": [],
   "source": [
    "#  old result\n",
    "# defaultdict(list,\n",
    "#             {(0, 0): [[1], [2], [3], [3], [0.77], [0.07], [-1]],\n",
    "#              (4, 0): [[14]],\n",
    "#              (1, 0): [[1114]],\n",
    "#              (2, 0): [[33]],\n",
    "#              (3, 0): [[-1000000]]})\n"
   ]
  },
  {
   "cell_type": "code",
   "execution_count": 58,
   "metadata": {},
   "outputs": [
    {
     "data": {
      "text/plain": [
       "defaultdict(list,\n",
       "            {(0, 0): [[1], [2], [3], [3], [0.77], [0.07], [-1]],\n",
       "             (4, 0): [[14]],\n",
       "             (1, 0): [[1114]],\n",
       "             (3, 0): [[33]],\n",
       "             (2, 0): [[-1000000]]})"
      ]
     },
     "execution_count": 58,
     "metadata": {},
     "output_type": "execute_result"
    }
   ],
   "source": [
    "som.win_map(data)"
   ]
  },
  {
   "cell_type": "code",
   "execution_count": null,
   "metadata": {},
   "outputs": [],
   "source": [
    "# old result\n",
    "# array([ 3.29999539e+01,  1.11399997e+03, -9.99999975e+05,  1.39999989e+01,\n",
    "#         1.27196280e+00])"
   ]
  },
  {
   "cell_type": "code",
   "execution_count": 59,
   "metadata": {},
   "outputs": [
    {
     "data": {
      "text/plain": [
       "array([ 1.09200624e+00,  1.11400000e+03, -1.00000000e+06,  3.30000000e+01,\n",
       "        1.40000000e+01])"
      ]
     },
     "execution_count": 59,
     "metadata": {},
     "output_type": "execute_result"
    }
   ],
   "source": [
    "som.get_weights().reshape(5)"
   ]
  },
  {
   "cell_type": "code",
   "execution_count": 42,
   "metadata": {},
   "outputs": [],
   "source": [
    "ddatanp.random.multinomial(20, [1/6.]*6, size=1)(5, 2, (100000000,1))"
   ]
  },
  {
   "cell_type": "code",
   "execution_count": 43,
   "metadata": {},
   "outputs": [
    {
     "data": {
      "text/plain": [
       "array([[ 4.74187799],\n",
       "       [16.25532149],\n",
       "       [ 7.12713424],\n",
       "       ...,\n",
       "       [ 9.08908474],\n",
       "       [11.79124236],\n",
       "       [10.08381136]])"
      ]
     },
     "execution_count": 43,
     "metadata": {},
     "output_type": "execute_result"
    }
   ],
   "source": [
    "ddata"
   ]
  },
  {
   "cell_type": "code",
   "execution_count": 61,
   "metadata": {},
   "outputs": [
    {
     "name": "stdout",
     "output_type": "stream",
     "text": [
      "Training...\n",
      "diff: 1.7849732290849942, diff std: 280.226078863, iteration:0\n",
      "diff: 0.08828504148345395, diff std: 0.7045259815935285, iteration:1000\n",
      "diff: 0.09395380834160605, diff std: 0.0901986877869792, iteration:2000\n",
      "...ready!\n",
      "CPU times: user 1.43 s, sys: 31.4 ms, total: 1.46 s\n",
      "Wall time: 1.45 s\n"
     ]
    }
   ],
   "source": [
    "%%time\n",
    "som = SOM(100, 1, 1, sigma=0.03, learning_rate=0.3) # initialization of 6x6 SOM\n",
    "print(\"Training...\")\n",
    "# som.random_weights_init(data)\n",
    "som.train_random(ddata, 10000) # trains the SOM with 100 iterations\n",
    "print(\"...ready!\")"
   ]
  },
  {
   "cell_type": "code",
   "execution_count": 8,
   "metadata": {},
   "outputs": [
    {
     "data": {
      "image/png": "[encoded data removed]",
      "text/plain": [
       "<Figure size 288x72 with 1 Axes>"
      ]
     },
     "metadata": {},
     "output_type": "display_data"
    }
   ],
   "source": [
    "plt.figure(figsize=(4, 1))\n",
    "wmap = {}\n",
    "im = 0\n",
    "for x in data:  # scatterplot\n",
    "    w = som.winner(x)\n",
    "    wmap[w] = im\n",
    "    plt. text(w[0]+.5,  w[1]+.5,  str(x[0]),\n",
    "              color=plt.cm.rainbow(x[0] / 10.), fontdict={'weight': 'bold',  'size': 11})\n",
    "    im = im + 1\n",
    "plt.axis([0, som.get_weights().shape[0], 0,  som.get_weights().shape[1]])\n",
    "# plt.savefig('resulting_images/som_digts.png')\n",
    "plt.show()"
   ]
  },
  {
   "cell_type": "code",
   "execution_count": 7,
   "metadata": {
    "scrolled": true
   },
   "outputs": [
    {
     "name": "stdout",
     "output_type": "stream",
     "text": [
      "\r",
      "iteration= 9 status=1.00% error=63979.57044386863\n",
      "\r",
      "iteration=19 status=2.00% error=32100.649012805556\n",
      "\r",
      "iteration=29 status=3.00% error=32076.119444130276\n",
      "\r",
      "iteration=39 status=4.00% error=23049.571904260345\n",
      "\r",
      "iteration=49 status=5.00% error=12171.118468650617\n",
      "\r",
      "iteration=59 status=6.00% error=8871.300675090895\n",
      "\r",
      "iteration=69 status=7.00% error=8869.89057702441\n",
      "\r",
      "iteration=79 status=8.00% error=3576.0055833202405\n",
      "\r",
      "iteration=89 status=9.00% error=2663.532576810169\n",
      "\r",
      "iteration=99 status=10.00% error=1995.687786833487\n",
      "\r",
      "iteration=109 status=11.00% error=1128.1719872905326\n",
      "\r",
      "iteration=119 status=12.00% error=1127.3977571053124\n",
      "\r",
      "iteration=129 status=13.00% error=652.00391036945\n",
      "\r",
      "iteration=139 status=14.00% error=651.7666225864604\n",
      "\r",
      "iteration=149 status=15.00% error=383.7071721060936\n",
      "\r",
      "iteration=159 status=16.00% error=383.72319578896753\n",
      "\r",
      "iteration=169 status=17.00% error=297.80126775700654\n",
      "\r",
      "iteration=179 status=18.00% error=297.9560005085256\n",
      "\r",
      "iteration=189 status=19.00% error=232.73867603669544\n",
      "\r",
      "iteration=199 status=20.00% error=182.86268192107238\n",
      "\r",
      "iteration=209 status=21.00% error=113.62025937242316\n",
      "\r",
      "iteration=219 status=22.00% error=113.62889738410644\n",
      "\r",
      "iteration=229 status=23.00% error=113.57094528311846\n",
      "\r",
      "iteration=239 status=24.00% error=113.59773295139054\n",
      "\r",
      "iteration=249 status=25.00% error=113.50622422001425\n",
      "\r",
      "iteration=259 status=26.00% error=73.10209950172313\n",
      "\r",
      "iteration=269 status=27.00% error=47.36134909829939\n",
      "\r",
      "iteration=279 status=28.00% error=38.42597129129002\n",
      "\r",
      "iteration=289 status=29.00% error=38.37670064886807\n",
      "\r",
      "iteration=299 status=30.00% error=25.47606241599453\n",
      "\r",
      "iteration=309 status=31.00% error=20.857003225468922\n",
      "\r",
      "iteration=319 status=32.00% error=17.138917898590815\n",
      "\r",
      "iteration=329 status=33.00% error=14.181154130921216\n",
      "\r",
      "iteration=339 status=34.00% error=11.73657687673811\n",
      "\r",
      "iteration=349 status=35.00% error=11.747772016776219\n",
      "\r",
      "iteration=359 status=36.00% error=9.848546436420893\n",
      "\r",
      "iteration=369 status=37.00% error=8.302539412711248\n",
      "\r",
      "iteration=379 status=38.00% error=8.294866283054267\n",
      "\r",
      "iteration=389 status=39.00% error=8.23064238829259\n",
      "\r",
      "iteration=399 status=40.00% error=8.250884370123801\n",
      "\r",
      "iteration=409 status=41.00% error=6.989509417104755\n",
      "\r",
      "iteration=419 status=42.00% error=5.11781462682455\n",
      "\r",
      "iteration=429 status=43.00% error=5.120332697043302\n",
      "\r",
      "iteration=439 status=44.00% error=4.404456438285939\n",
      "\r",
      "iteration=449 status=45.00% error=4.445741456634267\n",
      "\r",
      "iteration=459 status=46.00% error=4.432887848741192\n",
      "\r",
      "iteration=469 status=47.00% error=2.9999448951265917\n",
      "\r",
      "iteration=479 status=48.00% error=3.00976465400634\n",
      "\r",
      "iteration=489 status=49.00% error=2.960800253637122\n",
      "\r",
      "iteration=499 status=50.00% error=2.390816442217734\n",
      "\r",
      "iteration=509 status=51.00% error=2.101487772328481\n",
      "\r",
      "iteration=519 status=52.00% error=1.6812170151749248\n",
      "\r",
      "iteration=529 status=53.00% error=1.368877425136333\n",
      "\r",
      "iteration=539 status=54.00% error=1.360941830332674\n",
      "\r",
      "iteration=549 status=55.00% error=1.2079814249972305\n",
      "\r",
      "iteration=559 status=56.00% error=1.1420460522984741\n",
      "\r",
      "iteration=569 status=57.00% error=1.0676011910891843\n",
      "\r",
      "iteration=579 status=58.00% error=1.0286955047063162\n",
      "\r",
      "iteration=589 status=59.00% error=1.037870906575256\n",
      "\r",
      "iteration=599 status=60.00% error=0.9256939679870709\n",
      "\r",
      "iteration=609 status=61.00% error=0.9043546275325418\n",
      "\r",
      "iteration=619 status=62.00% error=0.9081188236527311\n",
      "\r",
      "iteration=629 status=63.00% error=0.905680156107109\n",
      "\r",
      "iteration=639 status=64.00% error=0.8690111160520307\n",
      "\r",
      "iteration=649 status=65.00% error=0.854864486535758\n",
      "\r",
      "iteration=659 status=66.00% error=0.8829700079234623\n",
      "\r",
      "iteration=669 status=67.00% error=0.9553194687329267\n",
      "\r",
      "iteration=679 status=68.00% error=0.9683858453275964\n",
      "\r",
      "iteration=689 status=69.00% error=0.8462168555332749\n",
      "\r",
      "iteration=699 status=70.00% error=0.8154686301610916\n",
      "\r",
      "iteration=709 status=71.00% error=0.9116671542977252\n",
      "\r",
      "iteration=719 status=72.00% error=0.7812846637620748\n",
      "\r",
      "iteration=729 status=73.00% error=0.7574272074364281\n",
      "\r",
      "iteration=739 status=74.00% error=0.7872580363407639\n",
      "\r",
      "iteration=749 status=75.00% error=0.7596658215403493\n",
      "\r",
      "iteration=759 status=76.00% error=0.7666502998020692\n",
      "\r",
      "iteration=769 status=77.00% error=0.774290426346251\n",
      "\r",
      "iteration=779 status=78.00% error=0.8003431146124614\n",
      "\r",
      "iteration=789 status=79.00% error=0.8169652945070847\n",
      "\r",
      "iteration=799 status=80.00% error=0.7658201179015649\n",
      "\r",
      "iteration=809 status=81.00% error=0.7787411246517383\n",
      "\r",
      "iteration=819 status=82.00% error=0.7873923173798235\n",
      "\r",
      "iteration=829 status=83.00% error=0.8098075410006623\n",
      "\r",
      "iteration=839 status=84.00% error=0.7728135544185138\n",
      "\r",
      "iteration=849 status=85.00% error=0.7624903273308512\n",
      "\r",
      "iteration=859 status=86.00% error=0.7880773338167475\n",
      "\r",
      "iteration=869 status=87.00% error=0.7915874421011794\n",
      "\r",
      "iteration=879 status=88.00% error=0.7905971661391832\n",
      "\r",
      "iteration=889 status=89.00% error=0.8062121179748432\n",
      "\r",
      "iteration=899 status=90.00% error=0.7874698470548686\n",
      "\r",
      "iteration=909 status=91.00% error=0.7668485759042248\n",
      "\r",
      "iteration=919 status=92.00% error=0.7654632772971641\n",
      "\r",
      "iteration=929 status=93.00% error=0.782746645029833\n",
      "\r",
      "iteration=939 status=94.00% error=0.7748581121222741\n",
      "\r",
      "iteration=949 status=95.00% error=0.8090962745653116\n",
      "\r",
      "iteration=959 status=96.00% error=0.7938390638849103\n",
      "\r",
      "iteration=969 status=97.00% error=0.7594629574191981\n",
      "\r",
      "iteration=979 status=98.00% error=0.7596754387673571\n",
      "\r",
      "iteration=989 status=99.00% error=0.7497275140194746\n",
      "\r",
      "iteration=999 status=100.00% error=0.7636495847311431\n"
     ]
    }
   ],
   "source": [
    "som = SOM(5, 1, 1, sigma=0.03, learning_rate=0.3) # initialization of 6x6 SOM\n",
    "\n",
    "max_iter = 1000\n",
    "q_error_pca_init = []\n",
    "iter_x = []\n",
    "for i in range(max_iter):\n",
    "    percent = 100*(i+1)/max_iter\n",
    "    rand_i = np.random.randint(len(data))\n",
    "    som.update(data[rand_i], som.winner(data[rand_i]), i, max_iter)\n",
    "    if (i+1) % 10 == 0:\n",
    "        error = som.quantization_error(data)\n",
    "        q_error_pca_init.append(error)\n",
    "        iter_x.append(i)\n",
    "        print(f'\\riteration={i:2d} status={percent:0.2f}% error={error}')"
   ]
  },
  {
   "cell_type": "code",
   "execution_count": 46,
   "metadata": {},
   "outputs": [
    {
     "data": {
      "image/png": "[encoded data removed]",
      "text/plain": [
       "<matplotlib.figure.Figure at 0x10ea66be0>"
      ]
     },
     "metadata": {},
     "output_type": "display_data"
    }
   ],
   "source": [
    "plt.plot(iter_x, q_error_pca_init)\n",
    "plt.ylabel('quantization error')\n",
    "plt.xlabel('iteration index')\n",
    "plt.show()"
   ]
  },
  {
   "cell_type": "code",
   "execution_count": 8,
   "metadata": {},
   "outputs": [
    {
     "data": {
      "text/plain": [
       "defaultdict(list,\n",
       "            {(0, 0): [[1], [2], [3], [3], [0.77], [0.07], [-1]],\n",
       "             (2, 0): [[14]],\n",
       "             (1, 0): [[1114]],\n",
       "             (3, 0): [[33]],\n",
       "             (4, 0): [[-1000000]]})"
      ]
     },
     "execution_count": 8,
     "metadata": {},
     "output_type": "execute_result"
    }
   ],
   "source": [
    "som.win_map(data)"
   ]
  },
  {
   "cell_type": "code",
   "execution_count": 9,
   "metadata": {},
   "outputs": [
    {
     "data": {
      "text/plain": [
       "array([[7.],\n",
       "       [1.],\n",
       "       [1.],\n",
       "       [1.],\n",
       "       [1.]])"
      ]
     },
     "execution_count": 9,
     "metadata": {},
     "output_type": "execute_result"
    }
   ],
   "source": [
    "som.activation_response(data)"
   ]
  },
  {
   "cell_type": "code",
   "execution_count": 10,
   "metadata": {},
   "outputs": [
    {
     "data": {
      "text/plain": [
       "array([[[ 1.22554968e+00]],\n",
       "\n",
       "       [[ 1.11399999e+03]],\n",
       "\n",
       "       [[ 1.39999860e+01]],\n",
       "\n",
       "       [[ 3.29999953e+01]],\n",
       "\n",
       "       [[-9.99999985e+05]]])"
      ]
     },
     "execution_count": 10,
     "metadata": {},
     "output_type": "execute_result"
    }
   ],
   "source": [
    "som.get_weights()"
   ]
  },
  {
   "cell_type": "code",
   "execution_count": null,
   "metadata": {},
   "outputs": [],
   "source": []
  }
 ],
 "metadata": {
  "kernelspec": {
   "display_name": "Python 3",
   "language": "python",
   "name": "python3"
  },
  "language_info": {
   "codemirror_mode": {
    "name": "ipython",
    "version": 3
   },
   "file_extension": ".py",
   "mimetype": "text/x-python",
   "name": "python",
   "nbconvert_exporter": "python",
   "pygments_lexer": "ipython3",
   "version": "3.6.5"
  }
 },
 "nbformat": 4,
 "nbformat_minor": 1
}
