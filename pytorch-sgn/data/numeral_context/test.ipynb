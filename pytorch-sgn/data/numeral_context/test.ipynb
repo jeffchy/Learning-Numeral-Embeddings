{
 "cells": [
  {
   "cell_type": "code",
   "execution_count": 74,
   "metadata": {},
   "outputs": [
    {
     "name": "stdout",
     "output_type": "stream",
     "text": [
      "The autoreload extension is already loaded. To reload it, use:\n",
      "  %reload_ext autoreload\n"
     ]
    }
   ],
   "source": [
    "%load_ext autoreload\n",
    "%autoreload 2\n",
    "import pickle, numpy as np\n",
    "import sys\n",
    "import torch as t\n",
    "sys.path.append(\"../../\")\n",
    "import matplotlib.pyplot as plt\n",
    "from som.intopolate import weighted_log"
   ]
  },
  {
   "cell_type": "code",
   "execution_count": 75,
   "metadata": {},
   "outputs": [],
   "source": [
    "filtered_dataset = pickle.load(open('build/data_filtered.pkl','rb'))\n",
    "nc = pickle.load(open('build/prototype/nc.dat','rb'))\n",
    "wc = pickle.load(open('build/prototype/wc.dat','rb'))\n",
    "idx2word = pickle.load(open('build/prototype/idx2word.dat','rb'))\n",
    "word2idx = pickle.load(open('build/prototype/word2idx.dat','rb'))"
   ]
  },
  {
   "cell_type": "code",
   "execution_count": 88,
   "metadata": {},
   "outputs": [
    {
     "name": "stdout",
     "output_type": "stream",
     "text": [
      "1072\n",
      "[('17.0', ['east', 'asia', 'summit', 'and', 'the', 'th', 'asean', 'summit', 'held', 'on']), ('2005.0', ['top', 'model', 'which', 'premiered', 'in', 'he', 'was', 'originally', 'cast', 'by']), ('24.0', ['titles', 'anywhere', 'any', 'time', 'on', 'basis', 'which', 'means', 'that', 'an'])]\n"
     ]
    }
   ],
   "source": [
    "print(len(filtered_dataset))\n",
    "print(filtered_dataset[:3])"
   ]
  },
  {
   "cell_type": "markdown",
   "metadata": {},
   "source": [
    "# Test"
   ]
  },
  {
   "cell_type": "code",
   "execution_count": 134,
   "metadata": {},
   "outputs": [],
   "source": [
    "idx2vec=pickle.load(open('build/prototype/idx2vec.dat','rb'))\n",
    "trained_prototypes=pickle.load(open('build/prototype/trained_prototypes.dat','rb'))\n",
    "prototypes=trained_prototypes['prototypes']\n",
    "prototypes2vec=trained_prototypes['i_embedding']\n",
    "\n",
    "\n",
    "\n",
    "\n",
    "\n",
    "\n"
   ]
  },
  {
   "cell_type": "code",
   "execution_count": 135,
   "metadata": {},
   "outputs": [],
   "source": [
    "transformed_protp=t.tensor(t.from_numpy(prototypes), dtype=t.float32).apply_(weighted_log).view(-1,1)\n",
    "def get_numeral_embed_weights_batch(numerals,transformed_protp,fn=weighted_log):\n",
    "    \"\"\"\n",
    "    :param numerals: tensor of numerals\n",
    "    :return: weights matrix\n",
    "    \"\"\"\n",
    "    # TODO: can we get a function that can easily be gpu_accelerated?\n",
    "    numerals.apply_(fn)\n",
    "    l_numerals = numerals.size()[0]\n",
    "    l_prototypes = transformed_protp.size()[0]\n",
    "\n",
    "    min_margin =  t.tensor(0.0001, dtype=t.float32)\n",
    "    transformed_prototypes_batch =transformed_protp.expand(l_prototypes, l_numerals)\n",
    "\n",
    "    prototype_weights = 1 / t.max(t.abs(transformed_prototypes_batch - numerals),min_margin)\n",
    "    prototype_weights /= t.sum(prototype_weights, 0)\n",
    "    return prototype_weights # [prototype_size x num_of_numerals]\n"
   ]
  },
  {
   "cell_type": "code",
   "execution_count": 144,
   "metadata": {},
   "outputs": [],
   "source": [
    "# c=np.array(list(map(float, nc.values())))\n",
    "numerals = np.array([float(i[0]) for i in filtered_dataset])"
   ]
  },
  {
   "cell_type": "code",
   "execution_count": 145,
   "metadata": {},
   "outputs": [],
   "source": [
    "def sigmoid(x):\n",
    "    return 1.0/(1.0 + np.exp(-x))"
   ]
  },
  {
   "cell_type": "code",
   "execution_count": 146,
   "metadata": {},
   "outputs": [],
   "source": [
    "prototype_weights=get_numeral_embed_weights_batch(t.tensor(t.from_numpy(numerals),dtype=t.float),transformed_protp)\n",
    "numeral_embed = t.matmul(prototype_weights.transpose(0,1),t.from_numpy(prototypes2vec))"
   ]
  },
  {
   "cell_type": "code",
   "execution_count": 147,
   "metadata": {},
   "outputs": [],
   "source": [
    "def evaluate(kbest):\n",
    "    right = 0\n",
    "    for i in filtered_dataset:\n",
    "        s = np.zeros((len(numerals),))\n",
    "        for j in i[1]:\n",
    "            wordvec = idx2vec[word2idx[j]]\n",
    "            score = np.dot(wordvec, np.array(numeral_embed).T)\n",
    "            s += np.log(sigmoid(score))\n",
    "        score = s\n",
    "#         token_weight=np.zeros((100,))\n",
    "#         for j in i[1]:\n",
    "#             token_weight += idx2vec[word2idx[j]]\n",
    "#         score=np.dot(token_weight,np.array(numeral_embed).T)\n",
    "        nn=np.argsort(score)[-kbest:]\n",
    "\n",
    "        if float(i[0]) in numerals[nn]:\n",
    "            right += 1\n",
    "    return right/len(filtered_dataset)\n",
    "#     print(numerals[score.argmax()],score.argmax(),score[1627],score[170154])\n",
    "#     print(np.min(abs(np.array(numerals[nn])-np.array(float(i[0])))))\n",
    "#     print( numerals[nn],float(i[0]))\n"
   ]
  },
  {
   "cell_type": "code",
   "execution_count": 148,
   "metadata": {},
   "outputs": [],
   "source": [
    "a = [10, 20, 50, 100, 200, 500, 800]"
   ]
  },
  {
   "cell_type": "code",
   "execution_count": 149,
   "metadata": {},
   "outputs": [],
   "source": [
    "portion = [i/len(filtered_dataset) for i in a]\n",
    "res = [evaluate(i) for i in a]"
   ]
  },
  {
   "cell_type": "code",
   "execution_count": 150,
   "metadata": {},
   "outputs": [],
   "source": [
    "import matplotlib.pyplot as plt"
   ]
  },
  {
   "cell_type": "code",
   "execution_count": 151,
   "metadata": {},
   "outputs": [
    {
     "data": {
      "image/png": "[encoded data removed]",
      "text/plain": [
       "<matplotlib.figure.Figure at 0x113f62550>"
      ]
     },
     "metadata": {},
     "output_type": "display_data"
    }
   ],
   "source": [
    "plt.plot(a, portion, 'r')\n",
    "plt.plot(a, res, 'b')\n",
    "plt.show()"
   ]
  },
  {
   "cell_type": "code",
   "execution_count": null,
   "metadata": {},
   "outputs": [],
   "source": []
  },
  {
   "cell_type": "code",
   "execution_count": null,
   "metadata": {},
   "outputs": [],
   "source": []
  }
 ],
 "metadata": {
  "kernelspec": {
   "display_name": "Python 3",
   "language": "python",
   "name": "python3"
  },
  "language_info": {
   "codemirror_mode": {
    "name": "ipython",
    "version": 3
   },
   "file_extension": ".py",
   "mimetype": "text/x-python",
   "name": "python",
   "nbconvert_exporter": "python",
   "pygments_lexer": "ipython3",
   "version": "3.6.2"
  }
 },
 "nbformat": 4,
 "nbformat_minor": 2
}
